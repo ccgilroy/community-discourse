{
 "cells": [
  {
   "cell_type": "markdown",
   "metadata": {},
   "source": [
    "# Historical change \n",
    "\n",
    "[Under construction!]\n"
   ]
  },
  {
   "cell_type": "code",
   "execution_count": 1,
   "metadata": {},
   "outputs": [],
   "source": [
    "# load packages\n",
    "import pickle\n",
    "\n",
    "import numpy as np\n",
    "import pandas as pd\n",
    "import seaborn as sns\n",
    "import matplotlib.pyplot as plt\n",
    "\n",
    "from collections import OrderedDict\n",
    "from gensim.models import KeyedVectors\n",
    "from whatlies import EmbeddingSet, Embedding\n",
    "from whatlies.transformers import Normalizer"
   ]
  },
  {
   "cell_type": "code",
   "execution_count": 2,
   "metadata": {},
   "outputs": [],
   "source": [
    "# load histwords as gensim KeyedVectors\n",
    "def load_historical_embeddings(year, \n",
    "                               path=\"historical-embeddings/eng-all_sgns/\"):\n",
    "    with open(path + str(year) + \"-vocab.pkl\", \"rb\") as f:\n",
    "        vocab = pickle.load(f)\n",
    "    \n",
    "    vectors = np.load(path + str(year) + \"-w.npy\", mmap_mode=\"c\")\n",
    "    \n",
    "    kv = KeyedVectors(vector_size=vectors.shape[1])\n",
    "    kv.add(entities=vocab, weights=vectors)\n",
    "\n",
    "    return kv\n",
    "    "
   ]
  },
  {
   "cell_type": "code",
   "execution_count": 3,
   "metadata": {},
   "outputs": [],
   "source": [
    "# load histwords as whatlies EmbeddingSet\n",
    "def load_historical_embeddingset(year, \n",
    "                               path=\"historical-embeddings/eng-all_sgns/\"):\n",
    "    with open(path + str(year) + \"-vocab.pkl\", \"rb\") as f:\n",
    "        vocab = pickle.load(f)\n",
    "    \n",
    "    vectors = np.load(path + str(year) + \"-w.npy\", mmap_mode=\"c\")\n",
    "\n",
    "    return EmbeddingSet.from_names_X(vocab, vectors)"
   ]
  },
  {
   "cell_type": "code",
   "execution_count": 4,
   "metadata": {},
   "outputs": [],
   "source": [
    "emb_hist = OrderedDict({year: load_historical_embeddings(year) for year in range(1900, 2000, 10)})"
   ]
  },
  {
   "cell_type": "code",
   "execution_count": 5,
   "metadata": {},
   "outputs": [
    {
     "data": {
      "text/plain": [
       "-0.038824234"
      ]
     },
     "execution_count": 5,
     "metadata": {},
     "output_type": "execute_result"
    }
   ],
   "source": [
    "emb_hist[1900].similarity(\"community\", \"gay\")"
   ]
  },
  {
   "cell_type": "markdown",
   "metadata": {},
   "source": [
    "The gensim code is less awkward actually? and identical to whatlies results. \n",
    "\n",
    "They both seem to use the dot product.\n",
    "\n",
    "https://github.com/williamleif/histwords/blob/master/representations/embedding.py#L76\n",
    "\n",
    "https://github.com/RaRe-Technologies/gensim/blob/develop/gensim/models/keyedvectors.py#L1143"
   ]
  },
  {
   "cell_type": "code",
   "execution_count": 6,
   "metadata": {},
   "outputs": [],
   "source": [
    "def get_similarity_over_time(emb_hist, w1, w2):\n",
    "    df = pd.DataFrame(emb_hist.keys(), columns=[\"year\"])\n",
    "    \n",
    "    df[\"similarity\"] = [emb_hist[year].similarity(w1, w2) for year in emb_hist]\n",
    "    \n",
    "    df[\"word1\"] = w1\n",
    "    df[\"word2\"] = w2\n",
    "    \n",
    "    return df"
   ]
  },
  {
   "cell_type": "code",
   "execution_count": 7,
   "metadata": {},
   "outputs": [
    {
     "data": {
      "text/html": [
       "<div>\n",
       "<style scoped>\n",
       "    .dataframe tbody tr th:only-of-type {\n",
       "        vertical-align: middle;\n",
       "    }\n",
       "\n",
       "    .dataframe tbody tr th {\n",
       "        vertical-align: top;\n",
       "    }\n",
       "\n",
       "    .dataframe thead th {\n",
       "        text-align: right;\n",
       "    }\n",
       "</style>\n",
       "<table border=\"1\" class=\"dataframe\">\n",
       "  <thead>\n",
       "    <tr style=\"text-align: right;\">\n",
       "      <th></th>\n",
       "      <th>year</th>\n",
       "      <th>similarity</th>\n",
       "      <th>word1</th>\n",
       "      <th>word2</th>\n",
       "    </tr>\n",
       "  </thead>\n",
       "  <tbody>\n",
       "    <tr>\n",
       "      <th>0</th>\n",
       "      <td>1900</td>\n",
       "      <td>-0.038824</td>\n",
       "      <td>community</td>\n",
       "      <td>gay</td>\n",
       "    </tr>\n",
       "    <tr>\n",
       "      <th>1</th>\n",
       "      <td>1910</td>\n",
       "      <td>-0.107995</td>\n",
       "      <td>community</td>\n",
       "      <td>gay</td>\n",
       "    </tr>\n",
       "    <tr>\n",
       "      <th>2</th>\n",
       "      <td>1920</td>\n",
       "      <td>-0.126219</td>\n",
       "      <td>community</td>\n",
       "      <td>gay</td>\n",
       "    </tr>\n",
       "    <tr>\n",
       "      <th>3</th>\n",
       "      <td>1930</td>\n",
       "      <td>-0.122056</td>\n",
       "      <td>community</td>\n",
       "      <td>gay</td>\n",
       "    </tr>\n",
       "    <tr>\n",
       "      <th>4</th>\n",
       "      <td>1940</td>\n",
       "      <td>-0.089771</td>\n",
       "      <td>community</td>\n",
       "      <td>gay</td>\n",
       "    </tr>\n",
       "    <tr>\n",
       "      <th>5</th>\n",
       "      <td>1950</td>\n",
       "      <td>-0.120643</td>\n",
       "      <td>community</td>\n",
       "      <td>gay</td>\n",
       "    </tr>\n",
       "    <tr>\n",
       "      <th>6</th>\n",
       "      <td>1960</td>\n",
       "      <td>-0.150094</td>\n",
       "      <td>community</td>\n",
       "      <td>gay</td>\n",
       "    </tr>\n",
       "    <tr>\n",
       "      <th>7</th>\n",
       "      <td>1970</td>\n",
       "      <td>0.096877</td>\n",
       "      <td>community</td>\n",
       "      <td>gay</td>\n",
       "    </tr>\n",
       "    <tr>\n",
       "      <th>8</th>\n",
       "      <td>1980</td>\n",
       "      <td>0.158089</td>\n",
       "      <td>community</td>\n",
       "      <td>gay</td>\n",
       "    </tr>\n",
       "    <tr>\n",
       "      <th>9</th>\n",
       "      <td>1990</td>\n",
       "      <td>0.263119</td>\n",
       "      <td>community</td>\n",
       "      <td>gay</td>\n",
       "    </tr>\n",
       "  </tbody>\n",
       "</table>\n",
       "</div>"
      ],
      "text/plain": [
       "   year  similarity      word1 word2\n",
       "0  1900   -0.038824  community   gay\n",
       "1  1910   -0.107995  community   gay\n",
       "2  1920   -0.126219  community   gay\n",
       "3  1930   -0.122056  community   gay\n",
       "4  1940   -0.089771  community   gay\n",
       "5  1950   -0.120643  community   gay\n",
       "6  1960   -0.150094  community   gay\n",
       "7  1970    0.096877  community   gay\n",
       "8  1980    0.158089  community   gay\n",
       "9  1990    0.263119  community   gay"
      ]
     },
     "execution_count": 7,
     "metadata": {},
     "output_type": "execute_result"
    }
   ],
   "source": [
    "df_gay = get_similarity_over_time(emb_hist, \"community\", \"gay\")\n",
    "df_gay"
   ]
  },
  {
   "cell_type": "code",
   "execution_count": 9,
   "metadata": {},
   "outputs": [
    {
     "data": {
      "image/png": "[encoded data removed]",
      "text/plain": [
       "<Figure size 432x288 with 1 Axes>"
      ]
     },
     "metadata": {},
     "output_type": "display_data"
    }
   ],
   "source": [
    "sns.set_theme()\n",
    "g = sns.lineplot(data=df_gay, x='year', y='similarity')\n",
    "g.set_title('Cosine similarity, \"community\" & \"gay\"')\n",
    "plt.show()"
   ]
  },
  {
   "cell_type": "code",
   "execution_count": null,
   "metadata": {},
   "outputs": [],
   "source": [
    "emb_fic = OrderedDict()\n",
    "fic_path = 'historical-embeddings/eng-fiction-all_sgns/'\n",
    "for year in range(1900, 2000, 10):\n",
    "    emb_fic[year] = load_historical_embeddings(year, path=fic_path)"
   ]
  },
  {
   "cell_type": "code",
   "execution_count": null,
   "metadata": {},
   "outputs": [],
   "source": [
    "df_gay_fic = get_similarity_over_time(emb_fic, \"community\", \"gay\")\n",
    "df_gay_fic"
   ]
  }
 ],
 "metadata": {
  "kernelspec": {
   "display_name": "Python 3",
   "language": "python",
   "name": "python3"
  },
  "language_info": {
   "codemirror_mode": {
    "name": "ipython",
    "version": 3
   },
   "file_extension": ".py",
   "mimetype": "text/x-python",
   "name": "python",
   "nbconvert_exporter": "python",
   "pygments_lexer": "ipython3",
   "version": "3.8.6"
  }
 },
 "nbformat": 4,
 "nbformat_minor": 4
}
