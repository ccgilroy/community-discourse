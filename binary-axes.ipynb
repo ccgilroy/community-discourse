{
 "cells": [
  {
   "cell_type": "markdown",
   "metadata": {},
   "source": [
    "# Constructing binary axes\n",
    "\n",
    "Unlike many sociological concepts, \"community\" isn't obviously one side of a binary distinction. I explore here whether binary embedding axes can be usefully constructed and applied to the concept of community. I choose to do so because binary concepts are pervasive in the social sciences, and because binary axes are one of the main conceptual and methodological contributions social scientists have made to the study of embeddings (starting with Kozlowski et al 2019).\n",
    "\n",
    "Binaries are pervasive. While social structures like class and gender can divide the world into more than two categories, they can also orient social life along binary axes: rich-poor, masculine-feminine, etc. Indeed, Durkheim argues that the sacred-profane binary is fundamental to the social act of classification in general.\n",
    "\n",
    "But what's the opposite of community? Social scientist and social actors write and talk about lack, or loss, or absence, without necessarily giving it a name of its own. Again, Durkheim lurks here, when he distinguishes between lack of integration and lack of regulation. The latter is *anomie*, but what's the former? Egoism? Individualism? I'm not sure that's a fruitful path to explore, though it might be.\n",
    "\n",
    "Instead of Durkheim, I'll turn to Tönnies, and explore the distinction between \"community\" and \"society\". The basic method for constructing a binary axis from word vectors is this is this:\n",
    "\n",
    "- create an axis from a single pair, by subtraction\n",
    "- create an axis from multiple pairs, by averaging\n",
    "\n",
    "I don't know of obvious synonyms for either \"community\" or \"society\" to construct multiple pairs with, so I'll start with that single pair here. But based on my prior exploration of words similar to community, I suspect a \"local\" - \"global\" axis might be correlated with the \"community\" - \"society\" one.\n",
    "\n",
    "Like Kozlowski et al, I might plot where various other words fall relative to this community-society axis. What series of words should I pick to compare? A list of abstract social science concepts would be nice. Since I don't have that, I'll start by just going over the whole vocabulary and list words that are nearest one pole or the other. Would that then would work to construct pairs for axis expansion?\n",
    "\n",
    "Conversely, I might plot where \"community\" and related words fall on another axis, like the local-global one -- or even axes related to class, gender, morality, etc that prior papers have used. This would be akin to what Arseniev-Koehler and Foster do for fatness.\n",
    "\n",
    "## Notes on prior methods and code\n",
    "\n",
    "### CMDist package (Stoltz and Taylor 2019)\n",
    "\n",
    "https://github.com/dustinstoltz/CMDist/blob/master/R/get_relations.R\n",
    "\n",
    "CMDist includes examples of averaging concepts - which differs from their method for creating a multiple-word pseudo-document. `get_direction()` and `get_centroid()` are the functions to look at. \n",
    "\n",
    "CMDist implements 3 versions for binary axes in `get_direction()`: \n",
    "\n",
    "- difference then average (Kozlowski et al)\n",
    "- average then difference\n",
    "- Euclidean norm (How is this different from Kozlowski et al? Don't they norm in their original code? This method comes from the Bolukbási et al paper that the whatlies package also references, so hopefully they're doing the same thing.)\n",
    "\n",
    "### Geometry of Culture (Kozlowski et al 2019)\n",
    "\n",
    "https://github.com/KnowledgeLab/GeometryofCulture/blob/master/code/build_cultural_dimensions.R\n",
    "\n",
    "This is what the Geometry of Culture code does:\n",
    "\n",
    "- norm each vector (divide by sqrt(sum(x^2)), the l2-norm)\n",
    "- take differences between pairs\n",
    "- norm again\n",
    "- take average of difference vectors\n",
    "- norm again\n",
    "\n",
    "### Machine learning / cultural learning (Arseniev-Koehler and Foster 2020)\n",
    "\n",
    "https://github.com/arsena-k/Word2Vec-bias-extraction/blob/master/dimension.py\n",
    "\n",
    "https://github.com/arsena-k/Word2Vec-bias-extraction/blob/master/build_lexicon.py\n",
    "\n",
    "### whatlies package (Warmerdam et al 2020)\n",
    "\n",
    "The whatlies package is a new tool from the NLP company RASA. It's meant to provide a consistent way to explore, manipulate, and visualize embeddings from different sources. How similar is the vector algebra outlined in the papers I describe above to the methods used and demoed in the whatlies package? Can I use tools from whatlies to implement those methods, or something close enough?\n",
    "\n",
    "The advantage of using whatlies over gensim seems to be that the result of whatever vector algebra remains either an EmbeddingSet or an Embedding, which makes it easier to calculate similarities, plot projections, etc., downstream. I think gensim might involve more low-level fiddling with numpy arrays, but the same things could be done.\n",
    "\n",
    "Most of the relevant methods live in the EmbeddingSet class, not the Embedding class. \n",
    "\n",
    "There's a transformer to normalize an EmbeddingSet: https://github.com/RasaHQ/whatlies/blob/master/whatlies/transformers/_normalizer.py#L8\n",
    "\n",
    "Subtraction is implemented for individual Embeddings, but division isn't, so norming without using an EmbeddingSet and transformer isn't possible.\n",
    "\n",
    "There's also method to take the average of an embedding set, with could be done with a set of differences. https://github.com/RasaHQ/whatlies/blob/master/whatlies/embeddingset.py#L523\n",
    "\n",
    "The `from_names_X()` method provides a way to turn something like gensim KeyedVectors into an EmbeddingSet directly, without saving the vectors to a file and loading them as a GensimLanguage object. (The GensimLanguage object doesn't necessarily have all the same methods? I'm unsure which way is better.) https://github.com/RasaHQ/whatlies/blob/master/whatlies/embeddingset.py#L328\n",
    "\n",
    "I also now understand that the default metric for plot_interactive() *isn't* cosine similarity or cosine distance; it's normalized scalar projection, which they represent as the `>` operator. \n",
    "\n",
    "- https://github.com/RasaHQ/whatlies/blob/master/whatlies/embeddingset.py#L1119\n",
    "- https://github.com/RasaHQ/whatlies/blob/master/whatlies/embedding.py#L115\n",
    "\n",
    "I'm not convinced that the interactive scatterplots I make here are the clearest way to show my findings, but they're a starting point.\n",
    "\n",
    "### Other papers and packages\n",
    "\n",
    "Waller and Anderson 2020 have an interesting method of constructing and expanding binary axes for *community embeddings* based on pairs of subreddits, but I couldn't find any of their code posted publicly.\n",
    "\n",
    "In gensim, .init_sims() norms vectors. That method will be replaced by .fill_norms() when gensim 4.0.0 is available, but that version is still in beta as of now (https://github.com/RaRe-Technologies/gensim/releases). \n",
    "\n",
    "## A note on English and other languages\n",
    "\n",
    "I'm doing my main analysis in English. To understand the limits of my analysis, I might think a bit about how Anglocentric the concept of \"community\" might be.\n",
    "\n",
    "Based on Benedict Anderson's discussion of the international translations of his book *Imagined Communities*, I have reason to think that \"community\" doesn't necessarily translate well into a language like French. *Communautarisme*, I've heard, has something of a negative connotation.\n",
    "\n",
    "Tönnies, however, was writing about community in German, which is to say he was really writing about *Gemeinschaft.* English-speaking sociologists sometimes use that word, *Gemeinschaft*, to emphasize and invoke a moral, resonant experience of community. So it might be interesting to find or train German-language word embeddings and construct a Gemeinschaft-Gesellschaft axis for comparison. An ambitious extension would be to train a model on Tönnies's work and see how that model looked similar or different.\n",
    "\n",
    "A few sources for pretrained German-language word vectors:\n",
    "\n",
    "- https://deepset.ai/german-word-embeddings\n",
    "- https://spacy.io/models/de\n",
    "- https://fasttext.cc/docs/en/crawl-vectors.html\n",
    "\n",
    "(I wish these pages had more metadata about when the models were trained and posted online.)\n",
    "\n",
    "Text of Tönnies, Gemeinschaft und Gesellschaft (1887 edition):\n",
    "\n",
    "- http://www.deutschestextarchiv.de/book/view/toennies_gemeinschaft_1887?p=9"
   ]
  },
  {
   "cell_type": "markdown",
   "metadata": {},
   "source": [
    "## Load packages and embeddings"
   ]
  },
  {
   "cell_type": "code",
   "execution_count": 1,
   "metadata": {},
   "outputs": [],
   "source": [
    "# load packages\n",
    "import os\n",
    "\n",
    "import gensim.downloader as api\n",
    "\n",
    "import pandas as pd\n",
    "import seaborn as sns\n",
    "import matplotlib.pyplot as plt\n",
    "import altair as alt\n",
    "\n",
    "from whatlies import Embedding, EmbeddingSet\n",
    "from whatlies.language import GensimLanguage\n",
    "from whatlies.transformers import Normalizer"
   ]
  },
  {
   "cell_type": "code",
   "execution_count": 2,
   "metadata": {},
   "outputs": [
    {
     "data": {
      "text/plain": [
       "ThemeRegistry.enable('my-chart')"
      ]
     },
     "execution_count": 2,
     "metadata": {},
     "output_type": "execute_result"
    }
   ],
   "source": [
    "# set up figures so the resolution is sharper\n",
    "# borrowed from https://blakeaw.github.io/2020-05-25-improve-matplotlib-notebook-inline-res/\n",
    "sns.set(rc={\"figure.dpi\":100, 'savefig.dpi':300})\n",
    "sns.set_context('notebook')\n",
    "sns.set_style(\"darkgrid\")\n",
    "from IPython.display import set_matplotlib_formats\n",
    "set_matplotlib_formats('retina')\n",
    "\n",
    "# borrowed from https://github.com/altair-viz/altair/issues/1021\n",
    "def my_theme(*args, **kwargs):\n",
    "    return {'width': 500, 'height': 400}\n",
    "alt.themes.register('my-chart', my_theme)\n",
    "alt.themes.enable('my-chart')"
   ]
  },
  {
   "cell_type": "code",
   "execution_count": 3,
   "metadata": {},
   "outputs": [],
   "source": [
    "# load gensim vectors (as KeyedVectors)\n",
    "wv_wiki = api.load(\"glove-wiki-gigaword-200\")\n",
    "if not os.path.isfile(\"glove-wiki-gigaword-200.kv\"):\n",
    "    wv_wiki.save(\"glove-wiki-gigaword-200.kv\")"
   ]
  },
  {
   "cell_type": "code",
   "execution_count": 4,
   "metadata": {},
   "outputs": [],
   "source": [
    "# load vectors as whatlies GensimLanguage\n",
    "lang_wiki = GensimLanguage(\"glove-wiki-gigaword-200.kv\")"
   ]
  },
  {
   "cell_type": "code",
   "execution_count": 5,
   "metadata": {},
   "outputs": [],
   "source": [
    "# load vectors as whatlies EmbeddingSet\n",
    "emb_wiki = EmbeddingSet.from_names_X(names=wv_wiki.index2word, \n",
    "                                     X=wv_wiki.vectors)"
   ]
  },
  {
   "cell_type": "markdown",
   "metadata": {},
   "source": [
    "What's the advantage of using GensimLanguage anyway? Is it faster or more efficient? It's annoying to have to write out the vectors after you load them. (More annoying for a model you've trained yourself, I'd imagine.)"
   ]
  },
  {
   "cell_type": "markdown",
   "metadata": {},
   "source": [
    "## Community - society dimension"
   ]
  },
  {
   "cell_type": "code",
   "execution_count": 6,
   "metadata": {
    "tags": [
     "output_scroll"
    ]
   },
   "outputs": [
    {
     "data": {
      "text/plain": [
       "array([ 0.21125801, -0.20572   ,  0.25577   , -1.07679   , -0.5692    ,\n",
       "        0.02297999,  0.21760401, -0.020017  , -1.2587    ,  0.041086  ,\n",
       "       -0.218533  , -0.12349999,  0.411472  ,  0.141909  ,  0.19098002,\n",
       "       -0.421192  ,  0.012209  , -0.05559   ,  0.03202   ,  0.61028904,\n",
       "       -0.65889   ,  0.5112002 , -0.38690004, -0.02410999,  0.52295   ,\n",
       "       -0.19727   ,  0.11050999,  0.30345   ,  0.175234  , -0.6936    ,\n",
       "       -1.3031931 , -0.54581   , -0.37711   ,  0.052096  ,  0.251908  ,\n",
       "       -0.732768  , -0.37988997, -0.08363   , -0.28567997,  0.241564  ,\n",
       "       -0.02117001,  0.13353002, -0.08291   , -0.22328001,  0.10966   ,\n",
       "        0.33075   , -0.43351   , -0.06479999, -0.545506  ,  0.07736999,\n",
       "        0.725142  , -0.801156  , -0.11023   ,  0.153733  ,  0.26353002,\n",
       "       -0.06733999, -0.172911  , -0.49693003, -0.02404001,  0.19105   ,\n",
       "        0.13389   , -0.21914999,  0.03555   ,  0.39821002, -0.23501399,\n",
       "       -0.09658003, -1.01461   ,  0.01980007,  0.52537   , -0.66896   ,\n",
       "       -0.228967  ,  0.7949    , -0.39415997, -0.580275  ,  0.22458   ,\n",
       "       -0.02671   , -0.438312  , -0.175468  ,  0.45229098,  0.19266999,\n",
       "        0.44222   ,  0.43056   ,  0.2129    ,  0.17333   , -0.16205001,\n",
       "       -0.22395003, -0.27346998, -0.03958   , -0.69710004, -0.16941   ,\n",
       "        0.12035   ,  0.11173001, -0.53375995, -0.32883   , -0.00563   ,\n",
       "        0.06819   , -0.099357  , -0.323266  ,  0.01810001, -0.32955799,\n",
       "       -0.12631997, -0.08148001, -0.367723  ,  0.13514999, -0.326734  ,\n",
       "       -0.13970995, -0.104549  ,  0.35557002, -0.50458   ,  0.152675  ,\n",
       "       -0.50527   ,  0.29231   , -0.14010699, -0.31751102, -0.13655901,\n",
       "       -0.124451  ,  0.08310997, -0.86984   ,  0.11697999, -0.25719398,\n",
       "        0.08576001, -0.01467001,  0.67732   ,  0.03302525,  0.132038  ,\n",
       "       -0.17480999,  0.46077   , -0.37312   ,  0.41101003,  0.425044  ,\n",
       "        0.085655  , -0.4317    ,  0.12938002, -0.003296  ,  0.081862  ,\n",
       "        0.33249998, -0.27705002, -0.27912   , -0.513407  ,  0.12053001,\n",
       "       -0.84422004, -0.38838   ,  0.24156001,  1.0012801 ,  0.33923   ,\n",
       "       -0.179914  ,  0.083     , -0.16885   ,  0.06496   , -0.17139998,\n",
       "       -0.29468998, -0.240162  , -0.09658001,  0.466917  ,  0.52645   ,\n",
       "        0.34828   , -0.350604  , -0.241685  ,  0.527246  , -0.47434   ,\n",
       "       -0.080662  ,  0.15636   ,  0.145862  ,  0.34217098,  0.97707   ,\n",
       "        0.6603    ,  0.30905002,  0.19642001,  0.06003001,  0.10062999,\n",
       "       -0.5082    , -0.769381  ,  0.01367   ,  0.0382276 ,  0.65116   ,\n",
       "       -1.07669   ,  0.68782   ,  0.27273   , -0.10385001, -0.6333    ,\n",
       "       -0.89898   ,  0.948482  ,  0.032346  ,  0.12616   ,  0.63309   ,\n",
       "        0.47342   ,  0.00784   , -0.35312   , -0.410943  ,  0.41627002,\n",
       "        0.162112  , -0.39482   , -0.380659  ,  0.07424   , -0.34482002,\n",
       "       -0.30944   , -0.289902  , -0.39461   , -0.29156   , -0.75926   ],\n",
       "      dtype=float32)"
      ]
     },
     "execution_count": 6,
     "metadata": {},
     "output_type": "execute_result"
    }
   ],
   "source": [
    "# subtraction and averaging with gensim\n",
    "wv_wiki['community'] - wv_wiki['society']"
   ]
  },
  {
   "cell_type": "code",
   "execution_count": 7,
   "metadata": {},
   "outputs": [],
   "source": [
    "# subtraction and averaging with whatlies\n",
    "diff = emb_wiki[\"community\"] - emb_wiki[\"society\"]"
   ]
  },
  {
   "cell_type": "code",
   "execution_count": 8,
   "metadata": {},
   "outputs": [
    {
     "data": {
      "text/plain": [
       "Emb[(community - society)]"
      ]
     },
     "execution_count": 8,
     "metadata": {},
     "output_type": "execute_result"
    }
   ],
   "source": [
    "# what's nice is that this is an Embedding object too\n",
    "diff"
   ]
  },
  {
   "cell_type": "code",
   "execution_count": 9,
   "metadata": {
    "tags": [
     "output_scroll"
    ]
   },
   "outputs": [
    {
     "data": {
      "text/plain": [
       "array([ 0.21125801, -0.20572   ,  0.25577   , -1.07679   , -0.5692    ,\n",
       "        0.02297999,  0.21760401, -0.020017  , -1.2587    ,  0.041086  ,\n",
       "       -0.218533  , -0.12349999,  0.411472  ,  0.141909  ,  0.19098002,\n",
       "       -0.421192  ,  0.012209  , -0.05559   ,  0.03202   ,  0.61028904,\n",
       "       -0.65889   ,  0.5112002 , -0.38690004, -0.02410999,  0.52295   ,\n",
       "       -0.19727   ,  0.11050999,  0.30345   ,  0.175234  , -0.6936    ,\n",
       "       -1.3031931 , -0.54581   , -0.37711   ,  0.052096  ,  0.251908  ,\n",
       "       -0.732768  , -0.37988997, -0.08363   , -0.28567997,  0.241564  ,\n",
       "       -0.02117001,  0.13353002, -0.08291   , -0.22328001,  0.10966   ,\n",
       "        0.33075   , -0.43351   , -0.06479999, -0.545506  ,  0.07736999,\n",
       "        0.725142  , -0.801156  , -0.11023   ,  0.153733  ,  0.26353002,\n",
       "       -0.06733999, -0.172911  , -0.49693003, -0.02404001,  0.19105   ,\n",
       "        0.13389   , -0.21914999,  0.03555   ,  0.39821002, -0.23501399,\n",
       "       -0.09658003, -1.01461   ,  0.01980007,  0.52537   , -0.66896   ,\n",
       "       -0.228967  ,  0.7949    , -0.39415997, -0.580275  ,  0.22458   ,\n",
       "       -0.02671   , -0.438312  , -0.175468  ,  0.45229098,  0.19266999,\n",
       "        0.44222   ,  0.43056   ,  0.2129    ,  0.17333   , -0.16205001,\n",
       "       -0.22395003, -0.27346998, -0.03958   , -0.69710004, -0.16941   ,\n",
       "        0.12035   ,  0.11173001, -0.53375995, -0.32883   , -0.00563   ,\n",
       "        0.06819   , -0.099357  , -0.323266  ,  0.01810001, -0.32955799,\n",
       "       -0.12631997, -0.08148001, -0.367723  ,  0.13514999, -0.326734  ,\n",
       "       -0.13970995, -0.104549  ,  0.35557002, -0.50458   ,  0.152675  ,\n",
       "       -0.50527   ,  0.29231   , -0.14010699, -0.31751102, -0.13655901,\n",
       "       -0.124451  ,  0.08310997, -0.86984   ,  0.11697999, -0.25719398,\n",
       "        0.08576001, -0.01467001,  0.67732   ,  0.03302525,  0.132038  ,\n",
       "       -0.17480999,  0.46077   , -0.37312   ,  0.41101003,  0.425044  ,\n",
       "        0.085655  , -0.4317    ,  0.12938002, -0.003296  ,  0.081862  ,\n",
       "        0.33249998, -0.27705002, -0.27912   , -0.513407  ,  0.12053001,\n",
       "       -0.84422004, -0.38838   ,  0.24156001,  1.0012801 ,  0.33923   ,\n",
       "       -0.179914  ,  0.083     , -0.16885   ,  0.06496   , -0.17139998,\n",
       "       -0.29468998, -0.240162  , -0.09658001,  0.466917  ,  0.52645   ,\n",
       "        0.34828   , -0.350604  , -0.241685  ,  0.527246  , -0.47434   ,\n",
       "       -0.080662  ,  0.15636   ,  0.145862  ,  0.34217098,  0.97707   ,\n",
       "        0.6603    ,  0.30905002,  0.19642001,  0.06003001,  0.10062999,\n",
       "       -0.5082    , -0.769381  ,  0.01367   ,  0.0382276 ,  0.65116   ,\n",
       "       -1.07669   ,  0.68782   ,  0.27273   , -0.10385001, -0.6333    ,\n",
       "       -0.89898   ,  0.948482  ,  0.032346  ,  0.12616   ,  0.63309   ,\n",
       "        0.47342   ,  0.00784   , -0.35312   , -0.410943  ,  0.41627002,\n",
       "        0.162112  , -0.39482   , -0.380659  ,  0.07424   , -0.34482002,\n",
       "       -0.30944   , -0.289902  , -0.39461   , -0.29156   , -0.75926   ],\n",
       "      dtype=float32)"
      ]
     },
     "execution_count": 9,
     "metadata": {},
     "output_type": "execute_result"
    }
   ],
   "source": [
    "diff.vector"
   ]
  },
  {
   "cell_type": "markdown",
   "metadata": {},
   "source": [
    "gensim and whatlies are doing the same thing — that's good!\n",
    "\n",
    "The methods I researched above make it sound like normalizing the vectors is an important part of the process, so I explore how to do that next. "
   ]
  },
  {
   "cell_type": "code",
   "execution_count": 10,
   "metadata": {},
   "outputs": [
    {
     "data": {
      "text/plain": [
       "5.8058085"
      ]
     },
     "execution_count": 10,
     "metadata": {},
     "output_type": "execute_result"
    }
   ],
   "source": [
    "# this is the numpy default and almost certainly not what I want\n",
    "diff.norm"
   ]
  },
  {
   "cell_type": "code",
   "execution_count": 11,
   "metadata": {},
   "outputs": [],
   "source": [
    "# this is the l2 norm, which *is* what I want\n",
    "diff_norm = EmbeddingSet(diff).transform(Normalizer(norm='l2'))"
   ]
  },
  {
   "cell_type": "code",
   "execution_count": 12,
   "metadata": {},
   "outputs": [
    {
     "data": {
      "text/plain": [
       "Emb[(community - society)]"
      ]
     },
     "execution_count": 12,
     "metadata": {},
     "output_type": "execute_result"
    }
   ],
   "source": [
    "diff_norm['(community - society)']"
   ]
  },
  {
   "cell_type": "markdown",
   "metadata": {},
   "source": [
    "Now I compare similarity scores for the raw and normalized binary axis vectors."
   ]
  },
  {
   "cell_type": "code",
   "execution_count": 13,
   "metadata": {},
   "outputs": [
    {
     "data": {
      "text/plain": [
       "[(Emb[modding], 0.589404284954071),\n",
       " (Emb[community], 0.595145583152771),\n",
       " (Emb[master-planned], 0.614898145198822),\n",
       " (Emb[unincorporated], 0.6228582262992859),\n",
       " (Emb[baraki], 0.6278692483901978),\n",
       " (Emb[mixed-income], 0.6375738382339478),\n",
       " (Emb[homa], 0.6425093412399292),\n",
       " (Emb[communities], 0.6557735204696655),\n",
       " (Emb[clarkston], 0.6563817262649536),\n",
       " (Emb[mechanicsville], 0.6569202542304993)]"
      ]
     },
     "execution_count": 13,
     "metadata": {},
     "output_type": "execute_result"
    }
   ],
   "source": [
    "# toward the \"community\" end of the axis\n",
    "emb_wiki.score_similar(diff)"
   ]
  },
  {
   "cell_type": "code",
   "execution_count": 14,
   "metadata": {},
   "outputs": [
    {
     "data": {
      "text/plain": [
       "[(Emb[society], 0.5049312710762024),\n",
       " (Emb[microscopical], 0.5116949081420898),\n",
       " (Emb[cymmrodorion], 0.5465895533561707),\n",
       " (Emb[meteoritical], 0.5658960342407227),\n",
       " (Emb[linnean], 0.579145610332489),\n",
       " (Emb[ophthalmological], 0.5990228652954102),\n",
       " (Emb[anti-vivisection], 0.5998556613922119),\n",
       " (Emb[entomological], 0.6023805141448975),\n",
       " (Emb[dilettanti], 0.6036361455917358),\n",
       " (Emb[speleological], 0.6155304908752441)]"
      ]
     },
     "execution_count": 14,
     "metadata": {},
     "output_type": "execute_result"
    }
   ],
   "source": [
    "# toward the \"society\" end\n",
    "emb_wiki.score_similar(-diff)"
   ]
  },
  {
   "cell_type": "code",
   "execution_count": 15,
   "metadata": {},
   "outputs": [],
   "source": [
    "emb_wiki_norm = emb_wiki.transform(Normalizer(norm='l2'))"
   ]
  },
  {
   "cell_type": "code",
   "execution_count": 16,
   "metadata": {},
   "outputs": [
    {
     "data": {
      "text/plain": [
       "[(Emb[modding], 0.589404284954071),\n",
       " (Emb[community], 0.595145583152771),\n",
       " (Emb[master-planned], 0.614898145198822),\n",
       " (Emb[unincorporated], 0.6228581666946411),\n",
       " (Emb[baraki], 0.6278692483901978),\n",
       " (Emb[mixed-income], 0.6375738382339478),\n",
       " (Emb[homa], 0.6425093412399292),\n",
       " (Emb[communities], 0.6557735204696655),\n",
       " (Emb[clarkston], 0.6563817262649536),\n",
       " (Emb[mechanicsville], 0.6569201946258545)]"
      ]
     },
     "execution_count": 16,
     "metadata": {},
     "output_type": "execute_result"
    }
   ],
   "source": [
    "emb_wiki_norm.score_similar(diff_norm['(community - society)'])"
   ]
  },
  {
   "cell_type": "markdown",
   "metadata": {},
   "source": [
    "That's ... reassuring? that the metrics are exactly the same. I'll use the raw vectors here, for simplicity. But norming probably matters when averaging is involved.\n",
    "\n",
    "Next, I'll explore similarity to each end of the community-society axis across the entire vocabulary. "
   ]
  },
  {
   "cell_type": "code",
   "execution_count": 17,
   "metadata": {},
   "outputs": [],
   "source": [
    "sim_diff = emb_wiki.score_similar(diff, n=len(emb_wiki), metric='cosine')"
   ]
  },
  {
   "cell_type": "code",
   "execution_count": 18,
   "metadata": {
    "tags": [
     "output_scroll"
    ]
   },
   "outputs": [
    {
     "data": {
      "text/plain": [
       "[(Emb[modding], 0.589404284954071),\n",
       " (Emb[community], 0.595145583152771),\n",
       " (Emb[master-planned], 0.614898145198822),\n",
       " (Emb[unincorporated], 0.6228582262992859),\n",
       " (Emb[baraki], 0.6278692483901978),\n",
       " (Emb[mixed-income], 0.6375738382339478),\n",
       " (Emb[homa], 0.6425093412399292),\n",
       " (Emb[communities], 0.6557735204696655),\n",
       " (Emb[clarkston], 0.6563817262649536),\n",
       " (Emb[mechanicsville], 0.6569202542304993),\n",
       " (Emb[gated], 0.6586361527442932),\n",
       " (Emb[neighborhood], 0.662484884262085),\n",
       " (Emb[cybersitter], 0.6649418473243713),\n",
       " (Emb[mixed-use], 0.6691757440567017),\n",
       " (Emb[taizé], 0.6723114252090454),\n",
       " (Emb[har], 0.6735500693321228),\n",
       " (Emb[pittsylvania], 0.6744325160980225),\n",
       " (Emb[age-restricted], 0.6762539148330688),\n",
       " (Emb[conroe], 0.6776710748672485),\n",
       " (Emb[leflore], 0.6826707124710083),\n",
       " (Emb[mahru], 0.6833871603012085),\n",
       " (Emb[neighbourhood], 0.6848275661468506),\n",
       " (Emb[rossmoor], 0.6849431991577148),\n",
       " (Emb[perushim], 0.6870222687721252),\n",
       " (Emb[taize], 0.6876176595687866),\n",
       " (Emb[viejo], 0.688064694404602),\n",
       " (Emb[etzion], 0.6894879341125488),\n",
       " (Emb[washtenaw], 0.6914564967155457),\n",
       " (Emb[haasara], 0.6928879618644714),\n",
       " (Emb[vado], 0.6929028034210205),\n",
       " (Emb[pagemill], 0.6935604810714722),\n",
       " (Emb[silwan], 0.6948147416114807),\n",
       " (Emb[village], 0.6956229209899902),\n",
       " (Emb[zaz-e], 0.6958953738212585),\n",
       " (Emb[merced], 0.6982126832008362),\n",
       " (Emb[cyberpatrol], 0.7004590034484863),\n",
       " (Emb[kakavand], 0.7008499503135681),\n",
       " (Emb[transmitter], 0.7009164690971375),\n",
       " (Emb[94596], 0.7016159296035767),\n",
       " (Emb[livejournal], 0.7019829154014587),\n",
       " (Emb[zionsville], 0.7031553983688354),\n",
       " (Emb[blears], 0.703620195388794),\n",
       " (Emb[palmdale], 0.7037292122840881),\n",
       " (Emb[cottonwood], 0.7040864825248718),\n",
       " (Emb[hanza], 0.7044801712036133),\n",
       " (Emb[muran], 0.7045321464538574),\n",
       " (Emb[mirik], 0.705109179019928),\n",
       " (Emb[14-nation], 0.7056152820587158),\n",
       " (Emb[chemeketa], 0.7059245705604553),\n",
       " (Emb[residential], 0.7060489654541016),\n",
       " (Emb[centerville], 0.7063371539115906),\n",
       " (Emb[shirgah], 0.706989586353302),\n",
       " (Emb[shavur], 0.7071289420127869),\n",
       " (Emb[zagheh], 0.7074677348136902),\n",
       " (Emb[adamsville], 0.7076104879379272),\n",
       " (Emb[outreach], 0.7086617946624756),\n",
       " (Emb[dastgerdan], 0.7091307044029236),\n",
       " (Emb[akhtachi-ye], 0.7092592716217041),\n",
       " (Emb[ringmer], 0.709490954875946),\n",
       " (Emb[off-campus], 0.7105263471603394),\n",
       " (Emb[clackamas], 0.7107102870941162),\n",
       " (Emb[rudboneh], 0.7111980319023132),\n",
       " (Emb[summerhaven], 0.711326003074646),\n",
       " (Emb[semi-rural], 0.7116978764533997),\n",
       " (Emb[lakewood], 0.712110161781311),\n",
       " (Emb[aliso], 0.7124844789505005),\n",
       " (Emb[aubusson], 0.7124911546707153),\n",
       " (Emb[mangur-e], 0.7125020623207092),\n",
       " (Emb[manj], 0.7125272154808044),\n",
       " (Emb[briceville], 0.7126100659370422),\n",
       " (Emb[kiryas], 0.7131937146186829),\n",
       " (Emb[low-income], 0.7132914662361145),\n",
       " (Emb[creek], 0.7134579420089722),\n",
       " (Emb[abobo], 0.7138109803199768),\n",
       " (Emb[charuymaq-e], 0.7140942215919495),\n",
       " (Emb[netiv], 0.7151552438735962),\n",
       " (Emb[parisyan], 0.7156028747558594),\n",
       " (Emb[dellums], 0.7157094478607178),\n",
       " (Emb[gali], 0.716493546962738),\n",
       " (Emb[dam], 0.7165515422821045),\n",
       " (Emb[kristang], 0.7168752551078796),\n",
       " (Emb[garmkhan], 0.7168968319892883),\n",
       " (Emb[littleover], 0.7169832587242126),\n",
       " (Emb[6,500], 0.7176810503005981),\n",
       " (Emb[makoko], 0.7182502150535583),\n",
       " (Emb[neighborhoods], 0.7185196876525879),\n",
       " (Emb[sanabis], 0.7185332179069519),\n",
       " (Emb[cibecue], 0.7186675667762756),\n",
       " (Emb[right-to-know], 0.7191548347473145),\n",
       " (Emb[contai], 0.7199649810791016),\n",
       " (Emb[anthonis], 0.7201418876647949),\n",
       " (Emb[santee], 0.7206466794013977),\n",
       " (Emb[upland], 0.7207662463188171),\n",
       " (Emb[municipality], 0.7207773923873901),\n",
       " (Emb[shusef], 0.7210158109664917),\n",
       " (Emb[comarca], 0.7211617231369019),\n",
       " (Emb[pinyon-juniper], 0.7212787866592407),\n",
       " (Emb[villages], 0.7215777635574341),\n",
       " (Emb[slatina], 0.721792995929718),\n",
       " (Emb[kojur], 0.72184157371521)]"
      ]
     },
     "execution_count": 18,
     "metadata": {},
     "output_type": "execute_result"
    }
   ],
   "source": [
    "sim_diff[0:100]"
   ]
  },
  {
   "cell_type": "code",
   "execution_count": 19,
   "metadata": {
    "tags": [
     "output_scroll"
    ]
   },
   "outputs": [
    {
     "data": {
      "text/plain": [
       "[(Emb[kautilya], 1.3038641214370728),\n",
       " (Emb[gynaecological], 1.303879737854004),\n",
       " (Emb[physikalische], 1.3040287494659424),\n",
       " (Emb[silurians], 1.3041560649871826),\n",
       " (Emb[soerensen], 1.3042516708374023),\n",
       " (Emb[honus], 1.304616928100586),\n",
       " (Emb[xiaokang], 1.304952621459961),\n",
       " (Emb[genootschap], 1.305346131324768),\n",
       " (Emb[fleischner], 1.305643081665039),\n",
       " (Emb[academician], 1.3060909509658813),\n",
       " (Emb[ichthyologists], 1.3062193393707275),\n",
       " (Emb[idsa], 1.3071272373199463),\n",
       " (Emb[ethnological], 1.30740487575531),\n",
       " (Emb[teratology], 1.3079063892364502),\n",
       " (Emb[f.r.s.], 1.3086650371551514),\n",
       " (Emb[saint-jean-baptiste], 1.3093072175979614),\n",
       " (Emb[fruitbearing], 1.3098504543304443),\n",
       " (Emb[anatomy], 1.3098732233047485),\n",
       " (Emb[feudalist], 1.3105204105377197),\n",
       " (Emb[mycological], 1.3109546899795532),\n",
       " (Emb[gulbarg], 1.3126049041748047),\n",
       " (Emb[bnhs], 1.313199758529663),\n",
       " (Emb[mammalogists], 1.313377857208252),\n",
       " (Emb[neurochemistry], 1.3137081861495972),\n",
       " (Emb[matriarchal], 1.3138256072998047),\n",
       " (Emb[decadence], 1.3145842552185059),\n",
       " (Emb[theosophical], 1.3147900104522705),\n",
       " (Emb[cpic], 1.3152551651000977),\n",
       " (Emb[roentgen], 1.3159534931182861),\n",
       " (Emb[numismatic], 1.316864252090454),\n",
       " (Emb[astronautical], 1.316948413848877),\n",
       " (Emb[kisfaludy], 1.31697678565979),\n",
       " (Emb[ncnp], 1.3169808387756348),\n",
       " (Emb[feudalistic], 1.317538857460022),\n",
       " (Emb[anti-slavery], 1.317636489868164),\n",
       " (Emb[chirurgical], 1.3178396224975586),\n",
       " (Emb[dialectic], 1.3181957006454468),\n",
       " (Emb[gynaecologists], 1.3191827535629272),\n",
       " (Emb[rospa], 1.3197741508483887),\n",
       " (Emb[lepidopterists], 1.3204152584075928),\n",
       " (Emb[görres], 1.3209925889968872),\n",
       " (Emb[bibliographical], 1.3217389583587646),\n",
       " (Emb[gerontological], 1.3217589855194092),\n",
       " (Emb[columbian], 1.3243486881256104),\n",
       " (Emb[arniko], 1.3261610269546509),\n",
       " (Emb[throwaways], 1.3266232013702393),\n",
       " (Emb[cuirassier], 1.329356074333191),\n",
       " (Emb[cinematographers], 1.3297762870788574),\n",
       " (Emb[apothecaries], 1.3303970098495483),\n",
       " (Emb[cashless], 1.3320657014846802),\n",
       " (Emb[crcs], 1.3322489261627197),\n",
       " (Emb[non-resistance], 1.333126425743103),\n",
       " (Emb[psychical], 1.3336145877838135),\n",
       " (Emb[inverts], 1.334222674369812),\n",
       " (Emb[philatelic], 1.334324598312378),\n",
       " (Emb[musicological], 1.3355190753936768),\n",
       " (Emb[horological], 1.3357938528060913),\n",
       " (Emb[watercolour], 1.3358557224273682),\n",
       " (Emb[rspca], 1.3360782861709595),\n",
       " (Emb[anarcho-capitalist], 1.338468313217163),\n",
       " (Emb[psychoanalytical], 1.33878493309021),\n",
       " (Emb[new-york], 1.341145396232605),\n",
       " (Emb[illustrators], 1.341640591621399),\n",
       " (Emb[malacological], 1.345167875289917),\n",
       " (Emb[nedlloyd], 1.345234751701355),\n",
       " (Emb[pelerin], 1.3458216190338135),\n",
       " (Emb[asiatic], 1.3465323448181152),\n",
       " (Emb[societies], 1.3467721939086914),\n",
       " (Emb[demutualised], 1.3468401432037354),\n",
       " (Emb[classless], 1.34755539894104),\n",
       " (Emb[riksmål], 1.347561240196228),\n",
       " (Emb[mythopoeic], 1.3492627143859863),\n",
       " (Emb[phrenological], 1.3511271476745605),\n",
       " (Emb[prosvita], 1.3549458980560303),\n",
       " (Emb[antiquaries], 1.357465147972107),\n",
       " (Emb[dermatologic], 1.3581734895706177),\n",
       " (Emb[etchers], 1.3585529327392578),\n",
       " (Emb[archæological], 1.3601726293563843),\n",
       " (Emb[vivisection], 1.3617887496948242),\n",
       " (Emb[manumission], 1.363285779953003),\n",
       " (Emb[aspca], 1.363932490348816),\n",
       " (Emb[kle], 1.3672311305999756),\n",
       " (Emb[vidocq], 1.3676127195358276),\n",
       " (Emb[philomathean], 1.368377685546875),\n",
       " (Emb[krcs], 1.372873067855835),\n",
       " (Emb[ecclesiological], 1.3750007152557373),\n",
       " (Emb[hakluyt], 1.3761779069900513),\n",
       " (Emb[mattachine], 1.3781378269195557),\n",
       " (Emb[herpetological], 1.3806662559509277),\n",
       " (Emb[gesellschaft], 1.3832592964172363),\n",
       " (Emb[speleological], 1.3844695091247559),\n",
       " (Emb[dilettanti], 1.3963638544082642),\n",
       " (Emb[entomological], 1.3976194858551025),\n",
       " (Emb[anti-vivisection], 1.400144338607788),\n",
       " (Emb[ophthalmological], 1.4009771347045898),\n",
       " (Emb[linnean], 1.4208543300628662),\n",
       " (Emb[meteoritical], 1.4341039657592773),\n",
       " (Emb[cymmrodorion], 1.4534103870391846),\n",
       " (Emb[microscopical], 1.4883050918579102),\n",
       " (Emb[society], 1.4950687885284424)]"
      ]
     },
     "execution_count": 19,
     "metadata": {},
     "output_type": "execute_result"
    }
   ],
   "source": [
    "sim_diff[-100:]"
   ]
  },
  {
   "cell_type": "markdown",
   "metadata": {},
   "source": [
    "These results make sense, but there's a downside to using all 400,000 words in the vocabulary - it means that a lot of rare words are included. That's why you see things like \"Mattachine Society\" or \"Linnean Society\". \n",
    "\n",
    "Briefly, I'll look at the words in the middle of the list."
   ]
  },
  {
   "cell_type": "code",
   "execution_count": 20,
   "metadata": {
    "tags": [
     "output_scroll"
    ]
   },
   "outputs": [
    {
     "data": {
      "text/plain": [
       "[(Emb[drolet], 1.000519871711731),\n",
       " (Emb[109,500], 1.0005199909210205),\n",
       " (Emb[http://www.nytsyn.com], 1.0005203485488892),\n",
       " (Emb[kloeden], 1.0005204677581787),\n",
       " (Emb[fita], 1.000520944595337),\n",
       " (Emb[27.19], 1.0005214214324951),\n",
       " (Emb[zohur], 1.0005216598510742),\n",
       " (Emb[maierhofer], 1.0005218982696533),\n",
       " (Emb[suff], 1.0005223751068115),\n",
       " (Emb[2,928], 1.000523567199707),\n",
       " (Emb[untidiness], 1.0005238056182861),\n",
       " (Emb[single-sideband], 1.0005238056182861),\n",
       " (Emb[kumiko], 1.0005241632461548),\n",
       " (Emb[ﬁnds], 1.0005241632461548),\n",
       " (Emb[visionics], 1.0005242824554443),\n",
       " (Emb[horwell], 1.0005242824554443),\n",
       " (Emb[anti-globalisation], 1.0005245208740234),\n",
       " (Emb[hoshangabad], 1.0005253553390503),\n",
       " (Emb[o'donnells], 1.0005265474319458),\n",
       " (Emb[logjammed], 1.0005278587341309),\n",
       " (Emb[vissel], 1.0005289316177368),\n",
       " (Emb[clínica], 1.0005289316177368),\n",
       " (Emb[nguyên], 1.0005310773849487),\n",
       " (Emb[maheswaran], 1.0005319118499756),\n",
       " (Emb[inauthenticity], 1.0005319118499756),\n",
       " (Emb[tziona], 1.0005320310592651),\n",
       " (Emb[affective], 1.0005321502685547),\n",
       " (Emb[97-year], 1.0005325078964233),\n",
       " (Emb[smeg], 1.0005325078964233),\n",
       " (Emb[yeshwant], 1.000532627105713),\n",
       " (Emb[angophora], 1.0005327463150024),\n",
       " (Emb[connacht], 1.000532865524292),\n",
       " (Emb[beltransgaz], 1.0005338191986084),\n",
       " (Emb[118.14], 1.0005351305007935),\n",
       " (Emb[rongmei], 1.000535249710083),\n",
       " (Emb[rifa], 1.0005358457565308),\n",
       " (Emb[komnene], 1.0005362033843994),\n",
       " (Emb[kelland], 1.0005366802215576),\n",
       " (Emb[115.67], 1.0005366802215576),\n",
       " (Emb[casina], 1.0005383491516113),\n",
       " (Emb[forming], 1.00053870677948),\n",
       " (Emb[ohlsson], 1.0005388259887695),\n",
       " (Emb[ne4], 1.0005393028259277),\n",
       " (Emb[hydrocortisone], 1.0005393028259277),\n",
       " (Emb[bakırköy], 1.0005393028259277),\n",
       " (Emb[fortin], 1.0005401372909546),\n",
       " (Emb[kaukonen], 1.0005402565002441),\n",
       " (Emb[mich.-based], 1.0005402565002441),\n",
       " (Emb[34.77], 1.0005412101745605),\n",
       " (Emb[total-goals], 1.0005412101745605),\n",
       " (Emb[smethurst], 1.0005416870117188),\n",
       " (Emb[stjepan], 1.000542163848877),\n",
       " (Emb[xingfang], 1.0005426406860352),\n",
       " (Emb[ruef], 1.000543475151062),\n",
       " (Emb[airliners], 1.0005443096160889),\n",
       " (Emb[www.ritzcarlton.com], 1.0005443096160889),\n",
       " (Emb[interministerial], 1.0005444288253784),\n",
       " (Emb[telecheck], 1.000544786453247),\n",
       " (Emb[prengaman], 1.0005459785461426),\n",
       " (Emb[404-526-7282], 1.0005462169647217),\n",
       " (Emb[bitchy], 1.0005478858947754),\n",
       " (Emb[principe], 1.000548243522644),\n",
       " (Emb[undercover], 1.000549554824829),\n",
       " (Emb[skyview], 1.0005497932434082),\n",
       " (Emb[loker], 1.0005508661270142),\n",
       " (Emb[1.2800], 1.0005518198013306),\n",
       " (Emb[1.092], 1.0005518198013306),\n",
       " (Emb[euro136], 1.0005526542663574),\n",
       " (Emb[salmela], 1.000552773475647),\n",
       " (Emb[goldenes], 1.0005537271499634),\n",
       " (Emb[derail], 1.000553846359253),\n",
       " (Emb[tennesee], 1.000553846359253),\n",
       " (Emb[61-page], 1.0005548000335693),\n",
       " (Emb[shifflett], 1.0005557537078857),\n",
       " (Emb[disentis], 1.0005567073822021),\n",
       " (Emb[ebina], 1.0005569458007812),\n",
       " (Emb[promontories], 1.0005574226379395),\n",
       " (Emb[arias], 1.000558614730835),\n",
       " (Emb[yuliya], 1.000558853149414),\n",
       " (Emb[cici], 1.000558853149414),\n",
       " (Emb[58.79], 1.0005601644515991),\n",
       " (Emb[corless], 1.0005606412887573),\n",
       " (Emb[apgar], 1.0005619525909424),\n",
       " (Emb[federici], 1.0005627870559692),\n",
       " (Emb[unislamic], 1.0005630254745483),\n",
       " (Emb[identification], 1.0005638599395752),\n",
       " (Emb[t.n.t.], 1.0005638599395752),\n",
       " (Emb[drager], 1.0005643367767334),\n",
       " (Emb[pyrex], 1.000564694404602),\n",
       " (Emb[kasauli], 1.000564694404602),\n",
       " (Emb[kurnia], 1.000565528869629),\n",
       " (Emb[grot], 1.0005661249160767),\n",
       " (Emb[telsey], 1.0005671977996826),\n",
       " (Emb[:32], 1.0005673170089722),\n",
       " (Emb[shoshanna], 1.0005680322647095),\n",
       " (Emb[tigrina], 1.000568151473999),\n",
       " (Emb[kristoffersen], 1.0005683898925781),\n",
       " (Emb[marsinah], 1.0005686283111572),\n",
       " (Emb[accuracies], 1.0005710124969482),\n",
       " (Emb[ogrin], 1.0005722045898438)]"
      ]
     },
     "execution_count": 20,
     "metadata": {},
     "output_type": "execute_result"
    }
   ],
   "source": [
    "sim_diff[len(sim_diff)//2 - 50 : len(sim_diff)//2 + 50]"
   ]
  },
  {
   "cell_type": "markdown",
   "metadata": {},
   "source": [
    "That isn't actually how you get the most orthogonal words, is it? This again helps show the issues with using the full vocabulary -- many of these \"words\" are uncommon (e.g. names) or garbage (e.g. numbers, urls, misspellings)."
   ]
  },
  {
   "cell_type": "markdown",
   "metadata": {},
   "source": [
    "The entire vocabulary isn't terribly useful for producing more pairs of opposite words. What might I do instead? \n",
    "\n",
    "Is there a list of just common english vocabulary in general? E.g. https://stackoverflow.com/questions/28339622/is-there-a-corpora-of-english-words-in-nltk\n",
    "\n",
    "Ideal might be a set of common *social science* words. Could I approximate that that through vector averaging, using words like \"community\", \"society\", \"sociology\", etc.? Then I could expand the set by getting a list of words most similar to that average.\n",
    "\n",
    "To begin withh, I'll *just* average \"community\" and \"society\", to get words in the general neighborhood of both. Then I'll use that shorter list of words as the comparison set."
   ]
  },
  {
   "cell_type": "code",
   "execution_count": 21,
   "metadata": {},
   "outputs": [],
   "source": [
    "avg = emb_wiki[['community', 'society']].average(name=\"avg(community, society)\")"
   ]
  },
  {
   "cell_type": "code",
   "execution_count": 22,
   "metadata": {
    "tags": [
     "output_scroll"
    ]
   },
   "outputs": [
    {
     "data": {
      "text/plain": [
       "[(Emb[society], 0.10151195526123047),\n",
       " (Emb[community], 0.1131206750869751),\n",
       " (Emb[communities], 0.28810155391693115),\n",
       " (Emb[societies], 0.29189276695251465),\n",
       " (Emb[established], 0.3642843961715698),\n",
       " (Emb[culture], 0.3817620277404785),\n",
       " (Emb[social], 0.3840060234069824),\n",
       " (Emb[organizations], 0.3851216435432434),\n",
       " (Emb[organization], 0.3865753412246704),\n",
       " (Emb[cultural], 0.4050767421722412),\n",
       " (Emb[public], 0.4058724641799927),\n",
       " (Emb[founded], 0.4087352752685547),\n",
       " (Emb[association], 0.4117599129676819),\n",
       " (Emb[institution], 0.4144657850265503),\n",
       " (Emb[country], 0.42236191034317017),\n",
       " (Emb[life], 0.4231107234954834),\n",
       " (Emb[citizens], 0.423681378364563),\n",
       " (Emb[local], 0.4252852201461792),\n",
       " (Emb[part], 0.4261268377304077),\n",
       " (Emb[the], 0.4262123107910156),\n",
       " (Emb[education], 0.42667531967163086),\n",
       " (Emb[institutions], 0.4284619092941284),\n",
       " (Emb[well], 0.4290911555290222),\n",
       " (Emb[member], 0.42947137355804443),\n",
       " (Emb[establishment], 0.4309902787208557),\n",
       " (Emb[educational], 0.4321936368942261),\n",
       " (Emb[council], 0.43250930309295654),\n",
       " (Emb[american], 0.43397700786590576),\n",
       " (Emb[nation], 0.43632519245147705),\n",
       " (Emb[national], 0.43835365772247314),\n",
       " (Emb[organized], 0.44056880474090576),\n",
       " (Emb[international], 0.4406183362007141),\n",
       " (Emb[religious], 0.4414077401161194),\n",
       " (Emb[people], 0.4478299617767334),\n",
       " (Emb[which], 0.44973498582839966),\n",
       " (Emb[many], 0.4502919912338257),\n",
       " (Emb[youth], 0.4507424831390381),\n",
       " (Emb[concerned], 0.4513043761253357),\n",
       " (Emb[institute], 0.45221829414367676),\n",
       " (Emb[members], 0.45271778106689453),\n",
       " (Emb[arts], 0.4532017707824707),\n",
       " (Emb[within], 0.4574560523033142),\n",
       " (Emb[is], 0.45751142501831055),\n",
       " (Emb[nonprofit], 0.45770907402038574),\n",
       " (Emb[particular], 0.4583626985549927),\n",
       " (Emb[foundation], 0.45936405658721924),\n",
       " (Emb[now], 0.4612032175064087),\n",
       " (Emb[development], 0.46199309825897217),\n",
       " (Emb[leaders], 0.4629349708557129),\n",
       " (Emb[and], 0.4632570743560791),\n",
       " (Emb[working], 0.46432340145111084),\n",
       " (Emb[growing], 0.4644703269004822),\n",
       " (Emb[where], 0.46470320224761963),\n",
       " (Emb[groups], 0.4647403955459595),\n",
       " (Emb[interests], 0.46509718894958496),\n",
       " (Emb[”], 0.465959370136261),\n",
       " (Emb[nature], 0.4662094712257385),\n",
       " (Emb[schools], 0.4667245149612427),\n",
       " (Emb[important], 0.4682537317276001),\n",
       " (Emb[united], 0.4687138795852661),\n",
       " (Emb[based], 0.4693211317062378),\n",
       " (Emb[today], 0.4695984721183777),\n",
       " (Emb[.], 0.46967899799346924),\n",
       " (Emb[recognized], 0.4700809121131897),\n",
       " (Emb[population], 0.4702450633049011),\n",
       " (Emb[work], 0.47040367126464844),\n",
       " (Emb[leadership], 0.47093069553375244),\n",
       " (Emb[scientific], 0.4716092348098755),\n",
       " (Emb[organisations], 0.4717303514480591),\n",
       " (Emb[non-profit], 0.47289639711380005),\n",
       " (Emb[promote], 0.47300010919570923),\n",
       " (Emb[associations], 0.4739416837692261),\n",
       " (Emb[should], 0.4740998148918152),\n",
       " (Emb[especially], 0.4744328260421753),\n",
       " (Emb[lives], 0.47480159997940063),\n",
       " (Emb[among], 0.4766632914543152),\n",
       " (Emb[civic], 0.47673892974853516),\n",
       " (Emb[living], 0.4781023859977722),\n",
       " (Emb[has], 0.4785144329071045),\n",
       " (Emb[both], 0.47909224033355713),\n",
       " (Emb[also], 0.47925865650177),\n",
       " (Emb[’s], 0.47973376512527466),\n",
       " (Emb[heritage], 0.4802626967430115),\n",
       " (Emb[trust], 0.480280339717865),\n",
       " (Emb[way], 0.4803711771965027),\n",
       " (Emb[hope], 0.48062217235565186),\n",
       " (Emb[support], 0.4808751344680786),\n",
       " (Emb[our], 0.48118728399276733),\n",
       " (Emb[church], 0.4820277690887451),\n",
       " (Emb[common], 0.48295044898986816),\n",
       " (Emb[all], 0.4833552837371826),\n",
       " (Emb[of], 0.4838089942932129),\n",
       " (Emb[become], 0.4839017987251282),\n",
       " (Emb[business], 0.4840947389602661),\n",
       " (Emb[in], 0.4856555461883545),\n",
       " (Emb[religion], 0.48654603958129883),\n",
       " (Emb[union], 0.4866955280303955),\n",
       " (Emb[science], 0.48709195852279663),\n",
       " (Emb[area], 0.48812955617904663),\n",
       " (Emb[families], 0.4883052706718445)]"
      ]
     },
     "execution_count": 22,
     "metadata": {},
     "output_type": "execute_result"
    }
   ],
   "source": [
    "emb_wiki.score_similar(avg, n=100)"
   ]
  },
  {
   "cell_type": "markdown",
   "metadata": {},
   "source": [
    "This is an improvement. In the long run, I still should probably filter out stopwords and, uh, punctuation apparently."
   ]
  },
  {
   "cell_type": "code",
   "execution_count": 23,
   "metadata": {},
   "outputs": [],
   "source": [
    "sim_avg = emb_wiki.embset_similar(avg, n=100)"
   ]
  },
  {
   "cell_type": "code",
   "execution_count": 24,
   "metadata": {},
   "outputs": [
    {
     "data": {
      "text/plain": [
       "[(Emb[avg(community, society)], 0.0),\n",
       " (Emb[society], 0.1015118956565857),\n",
       " (Emb[community], 0.1131206750869751),\n",
       " (Emb[communities], 0.28810155391693115),\n",
       " (Emb[societies], 0.29189276695251465),\n",
       " (Emb[established], 0.3642843961715698),\n",
       " (Emb[culture], 0.38176196813583374),\n",
       " (Emb[social], 0.384006142616272),\n",
       " (Emb[organizations], 0.38512158393859863),\n",
       " (Emb[organization], 0.3865753412246704),\n",
       " (Emb[cultural], 0.40507662296295166)]"
      ]
     },
     "execution_count": 24,
     "metadata": {},
     "output_type": "execute_result"
    }
   ],
   "source": [
    "# quick check of norming - it still produces the same scores\n",
    "(EmbeddingSet(avg, *emb_wiki)\n",
    " .transform(Normalizer(norm='l2'))\n",
    " .score_similar(avg, n=11))"
   ]
  },
  {
   "cell_type": "markdown",
   "metadata": {},
   "source": [
    "It's easier to plot if I have some sort of second axis, I think, even if that second axis isn't terribly informative itself. I'll use the average as that axis at first.\n",
    "\n",
    "Kozlowski et al actually plot the *angles* of the vectors, using sports words as their comparison set. I could probably figure out how to do this eventually, but I don't see how to immediately. Maybe that would be similar to the arrow diagrams that whatlies uses in its non-interactive plots."
   ]
  },
  {
   "cell_type": "code",
   "execution_count": 25,
   "metadata": {},
   "outputs": [
    {
     "data": {
      "text/html": [
       "\n",
       "<div id=\"altair-viz-f16b62120a3f408e85d7c500633b70d0\"></div>\n",
       "<script type=\"text/javascript\">\n",
       "  (function(spec, embedOpt){\n",
       "    let outputDiv = document.currentScript.previousElementSibling;\n",
       "    if (outputDiv.id !== \"altair-viz-f16b62120a3f408e85d7c500633b70d0\") {\n",
       "      outputDiv = document.getElementById(\"altair-viz-f16b62120a3f408e85d7c500633b70d0\");\n",
       "    }\n",
       "    const paths = {\n",
       "      \"vega\": \"https://cdn.jsdelivr.net/npm//vega@5?noext\",\n",
       "      \"vega-lib\": \"https://cdn.jsdelivr.net/npm//vega-lib?noext\",\n",
       "      \"vega-lite\": \"https://cdn.jsdelivr.net/npm//vega-lite@4.8.1?noext\",\n",
       "      \"vega-embed\": \"https://cdn.jsdelivr.net/npm//vega-embed@6?noext\",\n",
       "    };\n",
       "\n",
       "    function loadScript(lib) {\n",
       "      return new Promise(function(resolve, reject) {\n",
       "        var s = document.createElement('script');\n",
       "        s.src = paths[lib];\n",
       "        s.async = true;\n",
       "        s.onload = () => resolve(paths[lib]);\n",
       "        s.onerror = () => reject(`Error loading script: ${paths[lib]}`);\n",
       "        document.getElementsByTagName(\"head\")[0].appendChild(s);\n",
       "      });\n",
       "    }\n",
       "\n",
       "    function showError(err) {\n",
       "      outputDiv.innerHTML = `<div class=\"error\" style=\"color:red;\">${err}</div>`;\n",
       "      throw err;\n",
       "    }\n",
       "\n",
       "    function displayChart(vegaEmbed) {\n",
       "      vegaEmbed(outputDiv, spec, embedOpt)\n",
       "        .catch(err => showError(`Javascript Error: ${err.message}<br>This usually means there's a typo in your chart specification. See the javascript console for the full traceback.`));\n",
       "    }\n",
       "\n",
       "    if(typeof define === \"function\" && define.amd) {\n",
       "      requirejs.config({paths});\n",
       "      require([\"vega-embed\"], displayChart, err => showError(`Error loading script: ${err.message}`));\n",
       "    } else if (typeof vegaEmbed === \"function\") {\n",
       "      displayChart(vegaEmbed);\n",
       "    } else {\n",
       "      loadScript(\"vega\")\n",
       "        .then(() => loadScript(\"vega-lite\"))\n",
       "        .then(() => loadScript(\"vega-embed\"))\n",
       "        .catch(showError)\n",
       "        .then(() => displayChart(vegaEmbed));\n",
       "    }\n",
       "  })({\"width\": 500, \"height\": 400, \"layer\": [{\"mark\": {\"type\": \"circle\", \"size\": 60}, \"encoding\": {\"color\": {\"type\": \"nominal\", \"field\": \"\", \"legend\": null}, \"tooltip\": [{\"type\": \"nominal\", \"field\": \"name\"}, {\"type\": \"nominal\", \"field\": \"original\"}], \"x\": {\"type\": \"quantitative\", \"axis\": {\"title\": \"(community - society)\"}, \"field\": \"x_axis\"}, \"y\": {\"type\": \"quantitative\", \"axis\": {\"title\": \"avg(community, society)\"}, \"field\": \"y_axis\"}}, \"selection\": {\"selector001\": {\"type\": \"interval\", \"bind\": \"scales\", \"encodings\": [\"x\", \"y\"]}}, \"title\": \"(community - society) vs. avg(community, society)\"}, {\"mark\": {\"type\": \"text\", \"color\": \"black\", \"dx\": -15, \"dy\": 3}, \"encoding\": {\"text\": {\"type\": \"nominal\", \"field\": \"original\"}, \"x\": {\"type\": \"quantitative\", \"field\": \"x_axis\"}, \"y\": {\"type\": \"quantitative\", \"field\": \"y_axis\"}}}], \"data\": {\"name\": \"data-89817e7a6df98b3faaa187c71db0c1e3\"}, \"$schema\": \"https://vega.github.io/schema/vega-lite/v4.8.1.json\", \"datasets\": {\"data-89817e7a6df98b3faaa187c71db0c1e3\": [{\"x_axis\": -0.5627281069755554, \"y_axis\": 1.0320276021957397, \"name\": \"society\", \"original\": \"society\"}, {\"x_axis\": 0.4372718334197998, \"y_axis\": 0.967972457408905, \"name\": \"community\", \"original\": \"community\"}, {\"x_axis\": 0.36593738198280334, \"y_axis\": 0.7647623419761658, \"name\": \"communities\", \"original\": \"communities\"}, {\"x_axis\": -0.372810035943985, \"y_axis\": 0.7692867517471313, \"name\": \"societies\", \"original\": \"societies\"}, {\"x_axis\": 0.011498353444039822, \"y_axis\": 0.5920007824897766, \"name\": \"established\", \"original\": \"established\"}, {\"x_axis\": -0.11394449323415756, \"y_axis\": 0.673034131526947, \"name\": \"culture\", \"original\": \"culture\"}, {\"x_axis\": -0.08486620336771011, \"y_axis\": 0.7294897437095642, \"name\": \"social\", \"original\": \"social\"}, {\"x_axis\": 0.09593692421913147, \"y_axis\": 0.6904089450836182, \"name\": \"organizations\", \"original\": \"organizations\"}, {\"x_axis\": -0.0004133904876653105, \"y_axis\": 0.6763300895690918, \"name\": \"organization\", \"original\": \"organization\"}, {\"x_axis\": -0.06256023794412613, \"y_axis\": 0.6974010467529297, \"name\": \"cultural\", \"original\": \"cultural\"}, {\"x_axis\": 0.06837320327758789, \"y_axis\": 0.6546298265457153, \"name\": \"public\", \"original\": \"public\"}, {\"x_axis\": -0.04531824588775635, \"y_axis\": 0.6105538010597229, \"name\": \"founded\", \"original\": \"founded\"}, {\"x_axis\": -0.1104738861322403, \"y_axis\": 0.7083430290222168, \"name\": \"association\", \"original\": \"association\"}, {\"x_axis\": -0.13530243933200836, \"y_axis\": 0.6405832767486572, \"name\": \"institution\", \"original\": \"institution\"}, {\"x_axis\": 0.047107186168432236, \"y_axis\": 0.6234408020973206, \"name\": \"country\", \"original\": \"country\"}, {\"x_axis\": -0.19405294954776764, \"y_axis\": 0.5974403023719788, \"name\": \"life\", \"original\": \"life\"}, {\"x_axis\": 0.03248421102762222, \"y_axis\": 0.5903819799423218, \"name\": \"citizens\", \"original\": \"citizens\"}, {\"x_axis\": 0.1408265382051468, \"y_axis\": 0.6111483573913574, \"name\": \"local\", \"original\": \"local\"}, {\"x_axis\": 0.09678671509027481, \"y_axis\": 0.5277619361877441, \"name\": \"part\", \"original\": \"part\"}, {\"x_axis\": -0.03084791824221611, \"y_axis\": 0.561836838722229, \"name\": \"the\", \"original\": \"the\"}, {\"x_axis\": 0.052270181477069855, \"y_axis\": 0.6777424216270447, \"name\": \"education\", \"original\": \"education\"}, {\"x_axis\": 0.015383174642920494, \"y_axis\": 0.6434966921806335, \"name\": \"institutions\", \"original\": \"institutions\"}, {\"x_axis\": 0.044355571269989014, \"y_axis\": 0.4939926862716675, \"name\": \"well\", \"original\": \"well\"}, {\"x_axis\": -0.07521665841341019, \"y_axis\": 0.6301055550575256, \"name\": \"member\", \"original\": \"member\"}, {\"x_axis\": -0.020865606144070625, \"y_axis\": 0.509226381778717, \"name\": \"establishment\", \"original\": \"establishment\"}, {\"x_axis\": 0.09024562686681747, \"y_axis\": 0.6128458976745605, \"name\": \"educational\", \"original\": \"educational\"}, {\"x_axis\": 0.12117534875869751, \"y_axis\": 0.6997292041778564, \"name\": \"council\", \"original\": \"council\"}, {\"x_axis\": -0.12424803525209427, \"y_axis\": 0.6543796062469482, \"name\": \"american\", \"original\": \"american\"}, {\"x_axis\": 0.027515191584825516, \"y_axis\": 0.6145864129066467, \"name\": \"nation\", \"original\": \"nation\"}, {\"x_axis\": -0.1301880180835724, \"y_axis\": 0.6892271041870117, \"name\": \"national\", \"original\": \"national\"}, {\"x_axis\": -0.048539821058511734, \"y_axis\": 0.5332921743392944, \"name\": \"organized\", \"original\": \"organized\"}, {\"x_axis\": -0.023335283622145653, \"y_axis\": 0.6926451921463013, \"name\": \"international\", \"original\": \"international\"}, {\"x_axis\": 0.0006859363638795912, \"y_axis\": 0.6695582866668701, \"name\": \"religious\", \"original\": \"religious\"}, {\"x_axis\": 0.09981173276901245, \"y_axis\": 0.6179802417755127, \"name\": \"people\", \"original\": \"people\"}, {\"x_axis\": 0.02010679990053177, \"y_axis\": 0.5194056034088135, \"name\": \"which\", \"original\": \"which\"}, {\"x_axis\": 0.07736728340387344, \"y_axis\": 0.567985475063324, \"name\": \"many\", \"original\": \"many\"}, {\"x_axis\": 0.03149200230836868, \"y_axis\": 0.5910099148750305, \"name\": \"youth\", \"original\": \"youth\"}, {\"x_axis\": 0.03425927087664604, \"y_axis\": 0.47150668501853943, \"name\": \"concerned\", \"original\": \"concerned\"}, {\"x_axis\": -0.2598067820072174, \"y_axis\": 0.6676852703094482, \"name\": \"institute\", \"original\": \"institute\"}, {\"x_axis\": 0.03806398808956146, \"y_axis\": 0.6028379201889038, \"name\": \"members\", \"original\": \"members\"}, {\"x_axis\": -0.06285035610198975, \"y_axis\": 0.6504964828491211, \"name\": \"arts\", \"original\": \"arts\"}, {\"x_axis\": 0.1660076230764389, \"y_axis\": 0.5453191995620728, \"name\": \"within\", \"original\": \"within\"}, {\"x_axis\": 0.08431481570005417, \"y_axis\": 0.5603343844413757, \"name\": \"is\", \"original\": \"is\"}, {\"x_axis\": 0.05366498976945877, \"y_axis\": 0.5994073152542114, \"name\": \"nonprofit\", \"original\": \"nonprofit\"}, {\"x_axis\": 0.029957009479403496, \"y_axis\": 0.4539259076118469, \"name\": \"particular\", \"original\": \"particular\"}, {\"x_axis\": -0.12943951785564423, \"y_axis\": 0.6173837184906006, \"name\": \"foundation\", \"original\": \"foundation\"}, {\"x_axis\": 0.062009021639823914, \"y_axis\": 0.49567532539367676, \"name\": \"now\", \"original\": \"now\"}, {\"x_axis\": 0.1489918828010559, \"y_axis\": 0.6223766207695007, \"name\": \"development\", \"original\": \"development\"}, {\"x_axis\": 0.10473727434873581, \"y_axis\": 0.5893654823303223, \"name\": \"leaders\", \"original\": \"leaders\"}, {\"x_axis\": -0.0008368002600036561, \"y_axis\": 0.4963301718235016, \"name\": \"and\", \"original\": \"and\"}, {\"x_axis\": 0.029230771586298943, \"y_axis\": 0.5076371431350708, \"name\": \"working\", \"original\": \"working\"}, {\"x_axis\": 0.07429637014865875, \"y_axis\": 0.5792272090911865, \"name\": \"growing\", \"original\": \"growing\"}, {\"x_axis\": 0.08546257764101028, \"y_axis\": 0.5004127621650696, \"name\": \"where\", \"original\": \"where\"}, {\"x_axis\": 0.06794464588165283, \"y_axis\": 0.618851363658905, \"name\": \"groups\", \"original\": \"groups\"}, {\"x_axis\": 0.0078004286624491215, \"y_axis\": 0.5712813138961792, \"name\": \"interests\", \"original\": \"interests\"}, {\"x_axis\": -0.09800262749195099, \"y_axis\": 0.46238037943840027, \"name\": \"\\u201d\", \"original\": \"\\u201d\"}, {\"x_axis\": -0.10996457934379578, \"y_axis\": 0.5316779017448425, \"name\": \"nature\", \"original\": \"nature\"}, {\"x_axis\": 0.18963956832885742, \"y_axis\": 0.6444816589355469, \"name\": \"schools\", \"original\": \"schools\"}, {\"x_axis\": 0.04314121603965759, \"y_axis\": 0.5470809936523438, \"name\": \"important\", \"original\": \"important\"}, {\"x_axis\": 0.104341059923172, \"y_axis\": 0.6182601451873779, \"name\": \"united\", \"original\": \"united\"}, {\"x_axis\": -0.0046541569754481316, \"y_axis\": 0.5543498992919922, \"name\": \"based\", \"original\": \"based\"}, {\"x_axis\": 0.023157544434070587, \"y_axis\": 0.49623188376426697, \"name\": \"today\", \"original\": \"today\"}, {\"x_axis\": 0.01905224472284317, \"y_axis\": 0.45245981216430664, \"name\": \".\", \"original\": \".\"}, {\"x_axis\": 0.04789670184254646, \"y_axis\": 0.4948148727416992, \"name\": \"recognized\", \"original\": \"recognized\"}, {\"x_axis\": 0.20245197415351868, \"y_axis\": 0.6925677061080933, \"name\": \"population\", \"original\": \"population\"}, {\"x_axis\": -0.0016379487933591008, \"y_axis\": 0.5253639221191406, \"name\": \"work\", \"original\": \"work\"}, {\"x_axis\": 0.0537777841091156, \"y_axis\": 0.5395932197570801, \"name\": \"leadership\", \"original\": \"leadership\"}, {\"x_axis\": -0.17999358475208282, \"y_axis\": 0.6064374446868896, \"name\": \"scientific\", \"original\": \"scientific\"}, {\"x_axis\": 0.07490234076976776, \"y_axis\": 0.5619377493858337, \"name\": \"organisations\", \"original\": \"organisations\"}, {\"x_axis\": 0.033117637038230896, \"y_axis\": 0.6311066150665283, \"name\": \"non-profit\", \"original\": \"non-profit\"}, {\"x_axis\": 0.018876168876886368, \"y_axis\": 0.5713621377944946, \"name\": \"promote\", \"original\": \"promote\"}, {\"x_axis\": 0.02277093566954136, \"y_axis\": 0.54669189453125, \"name\": \"associations\", \"original\": \"associations\"}, {\"x_axis\": 0.034468647092580795, \"y_axis\": 0.5197957754135132, \"name\": \"should\", \"original\": \"should\"}, {\"x_axis\": 0.04620258882641792, \"y_axis\": 0.46398529410362244, \"name\": \"especially\", \"original\": \"especially\"}, {\"x_axis\": 0.04746994003653526, \"y_axis\": 0.5382271409034729, \"name\": \"lives\", \"original\": \"lives\"}, {\"x_axis\": 0.039157334715127945, \"y_axis\": 0.5409749746322632, \"name\": \"among\", \"original\": \"among\"}, {\"x_axis\": 0.059025440365076065, \"y_axis\": 0.56978440284729, \"name\": \"civic\", \"original\": \"civic\"}, {\"x_axis\": 0.017609328031539917, \"y_axis\": 0.5748645663261414, \"name\": \"living\", \"original\": \"living\"}, {\"x_axis\": 0.10150835663080215, \"y_axis\": 0.5314554572105408, \"name\": \"has\", \"original\": \"has\"}, {\"x_axis\": 0.05845540016889572, \"y_axis\": 0.44142141938209534, \"name\": \"both\", \"original\": \"both\"}, {\"x_axis\": 0.07512510567903519, \"y_axis\": 0.4637076258659363, \"name\": \"also\", \"original\": \"also\"}, {\"x_axis\": -0.017758311703801155, \"y_axis\": 0.518772542476654, \"name\": \"\\u2019s\", \"original\": \"\\u2019s\"}, {\"x_axis\": -0.0502617284655571, \"y_axis\": 0.5657628774642944, \"name\": \"heritage\", \"original\": \"heritage\"}, {\"x_axis\": -0.06502707302570343, \"y_axis\": 0.5746276378631592, \"name\": \"trust\", \"original\": \"trust\"}, {\"x_axis\": 0.02777225524187088, \"y_axis\": 0.47827422618865967, \"name\": \"way\", \"original\": \"way\"}, {\"x_axis\": 0.06178667023777962, \"y_axis\": 0.4921923577785492, \"name\": \"hope\", \"original\": \"hope\"}, {\"x_axis\": 0.19367821514606476, \"y_axis\": 0.5516685247421265, \"name\": \"support\", \"original\": \"support\"}, {\"x_axis\": 0.028846120461821556, \"y_axis\": 0.604205310344696, \"name\": \"our\", \"original\": \"our\"}, {\"x_axis\": 0.14087241888046265, \"y_axis\": 0.6453477144241333, \"name\": \"church\", \"original\": \"church\"}, {\"x_axis\": 0.0013738683192059398, \"y_axis\": 0.5278666019439697, \"name\": \"common\", \"original\": \"common\"}, {\"x_axis\": 0.049117330461740494, \"y_axis\": 0.5232574343681335, \"name\": \"all\", \"original\": \"all\"}, {\"x_axis\": 0.017506640404462814, \"y_axis\": 0.5242373943328857, \"name\": \"of\", \"original\": \"of\"}, {\"x_axis\": -0.07922787219285965, \"y_axis\": 0.5254688262939453, \"name\": \"become\", \"original\": \"become\"}, {\"x_axis\": 0.0382208377122879, \"y_axis\": 0.5563998818397522, \"name\": \"business\", \"original\": \"business\"}, {\"x_axis\": 0.065372034907341, \"y_axis\": 0.5086813569068909, \"name\": \"in\", \"original\": \"in\"}, {\"x_axis\": -0.09094683825969696, \"y_axis\": 0.5909794569015503, \"name\": \"religion\", \"original\": \"religion\"}, {\"x_axis\": 0.03347337990999222, \"y_axis\": 0.6015582084655762, \"name\": \"union\", \"original\": \"union\"}, {\"x_axis\": -0.21275730431079865, \"y_axis\": 0.6061944961547852, \"name\": \"science\", \"original\": \"science\"}, {\"x_axis\": 0.26583990454673767, \"y_axis\": 0.5503405332565308, \"name\": \"area\", \"original\": \"area\"}, {\"x_axis\": 0.17624643445014954, \"y_axis\": 0.5959610939025879, \"name\": \"families\", \"original\": \"families\"}]}}, {\"mode\": \"vega-lite\"});\n",
       "</script>"
      ],
      "text/plain": [
       "alt.LayerChart(...)"
      ]
     },
     "execution_count": 25,
     "metadata": {},
     "output_type": "execute_result"
    }
   ],
   "source": [
    "# default metric - projection\n",
    "sim_avg.plot_interactive(x_axis=diff, y_axis=avg)"
   ]
  },
  {
   "cell_type": "code",
   "execution_count": 26,
   "metadata": {},
   "outputs": [
    {
     "data": {
      "text/html": [
       "\n",
       "<div id=\"altair-viz-e50602ce7dfc4823b5f7b3800d1ea21c\"></div>\n",
       "<script type=\"text/javascript\">\n",
       "  (function(spec, embedOpt){\n",
       "    let outputDiv = document.currentScript.previousElementSibling;\n",
       "    if (outputDiv.id !== \"altair-viz-e50602ce7dfc4823b5f7b3800d1ea21c\") {\n",
       "      outputDiv = document.getElementById(\"altair-viz-e50602ce7dfc4823b5f7b3800d1ea21c\");\n",
       "    }\n",
       "    const paths = {\n",
       "      \"vega\": \"https://cdn.jsdelivr.net/npm//vega@5?noext\",\n",
       "      \"vega-lib\": \"https://cdn.jsdelivr.net/npm//vega-lib?noext\",\n",
       "      \"vega-lite\": \"https://cdn.jsdelivr.net/npm//vega-lite@4.8.1?noext\",\n",
       "      \"vega-embed\": \"https://cdn.jsdelivr.net/npm//vega-embed@6?noext\",\n",
       "    };\n",
       "\n",
       "    function loadScript(lib) {\n",
       "      return new Promise(function(resolve, reject) {\n",
       "        var s = document.createElement('script');\n",
       "        s.src = paths[lib];\n",
       "        s.async = true;\n",
       "        s.onload = () => resolve(paths[lib]);\n",
       "        s.onerror = () => reject(`Error loading script: ${paths[lib]}`);\n",
       "        document.getElementsByTagName(\"head\")[0].appendChild(s);\n",
       "      });\n",
       "    }\n",
       "\n",
       "    function showError(err) {\n",
       "      outputDiv.innerHTML = `<div class=\"error\" style=\"color:red;\">${err}</div>`;\n",
       "      throw err;\n",
       "    }\n",
       "\n",
       "    function displayChart(vegaEmbed) {\n",
       "      vegaEmbed(outputDiv, spec, embedOpt)\n",
       "        .catch(err => showError(`Javascript Error: ${err.message}<br>This usually means there's a typo in your chart specification. See the javascript console for the full traceback.`));\n",
       "    }\n",
       "\n",
       "    if(typeof define === \"function\" && define.amd) {\n",
       "      requirejs.config({paths});\n",
       "      require([\"vega-embed\"], displayChart, err => showError(`Error loading script: ${err.message}`));\n",
       "    } else if (typeof vegaEmbed === \"function\") {\n",
       "      displayChart(vegaEmbed);\n",
       "    } else {\n",
       "      loadScript(\"vega\")\n",
       "        .then(() => loadScript(\"vega-lite\"))\n",
       "        .then(() => loadScript(\"vega-embed\"))\n",
       "        .catch(showError)\n",
       "        .then(() => displayChart(vegaEmbed));\n",
       "    }\n",
       "  })({\"width\": 500, \"height\": 400, \"layer\": [{\"mark\": {\"type\": \"circle\", \"size\": 60}, \"encoding\": {\"color\": {\"type\": \"nominal\", \"field\": \"\", \"legend\": null}, \"tooltip\": [{\"type\": \"nominal\", \"field\": \"name\"}, {\"type\": \"nominal\", \"field\": \"original\"}], \"x\": {\"type\": \"quantitative\", \"axis\": {\"title\": \"(community - society)\"}, \"field\": \"x_axis\"}, \"y\": {\"type\": \"quantitative\", \"axis\": {\"title\": \"avg(community, society)\"}, \"field\": \"y_axis\"}}, \"selection\": {\"selector002\": {\"type\": \"interval\", \"bind\": \"scales\", \"encodings\": [\"x\", \"y\"]}}, \"title\": \"(community - society) vs. avg(community, society)\"}, {\"mark\": {\"type\": \"text\", \"color\": \"black\", \"dx\": -15, \"dy\": 3}, \"encoding\": {\"text\": {\"type\": \"nominal\", \"field\": \"original\"}, \"x\": {\"type\": \"quantitative\", \"field\": \"x_axis\"}, \"y\": {\"type\": \"quantitative\", \"field\": \"y_axis\"}}}], \"data\": {\"name\": \"data-9dc69a1236c3927e578ca58bb774d378\"}, \"$schema\": \"https://vega.github.io/schema/vega-lite/v4.8.1.json\", \"datasets\": {\"data-9dc69a1236c3927e578ca58bb774d378\": [{\"x_axis\": -0.49506866931915283, \"y_axis\": 0.8984881043434143, \"name\": \"society\", \"original\": \"society\"}, {\"x_axis\": 0.4048543870449066, \"y_axis\": 0.8868792057037354, \"name\": \"community\", \"original\": \"community\"}, {\"x_axis\": 0.3442264199256897, \"y_axis\": 0.7118983864784241, \"name\": \"communities\", \"original\": \"communities\"}, {\"x_axis\": -0.34677213430404663, \"y_axis\": 0.7081072330474854, \"name\": \"societies\", \"original\": \"societies\"}, {\"x_axis\": 0.012477339245378971, \"y_axis\": 0.6357155442237854, \"name\": \"established\", \"original\": \"established\"}, {\"x_axis\": -0.1057688519358635, \"y_axis\": 0.6182379722595215, \"name\": \"culture\", \"original\": \"culture\"}, {\"x_axis\": -0.07241656631231308, \"y_axis\": 0.6159939169883728, \"name\": \"social\", \"original\": \"social\"}, {\"x_axis\": 0.08634046465158463, \"y_axis\": 0.6148782968521118, \"name\": \"organizations\", \"original\": \"organizations\"}, {\"x_axis\": -0.00037888105725869536, \"y_axis\": 0.6134245991706848, \"name\": \"organization\", \"original\": \"organization\"}, {\"x_axis\": -0.05392904579639435, \"y_axis\": 0.5949233770370483, \"name\": \"cultural\", \"original\": \"cultural\"}, {\"x_axis\": 0.06270695477724075, \"y_axis\": 0.5941275358200073, \"name\": \"public\", \"original\": \"public\"}, {\"x_axis\": -0.04434828832745552, \"y_axis\": 0.5912646055221558, \"name\": \"founded\", \"original\": \"founded\"}, {\"x_axis\": -0.09270785748958588, \"y_axis\": 0.5882400274276733, \"name\": \"association\", \"original\": \"association\"}, {\"x_axis\": -0.12497644871473312, \"y_axis\": 0.5855342745780945, \"name\": \"institution\", \"original\": \"institution\"}, {\"x_axis\": 0.04410558193922043, \"y_axis\": 0.5776381492614746, \"name\": \"country\", \"original\": \"country\"}, {\"x_axis\": -0.1893494576215744, \"y_axis\": 0.5768893957138062, \"name\": \"life\", \"original\": \"life\"}, {\"x_axis\": 0.032044071704149246, \"y_axis\": 0.5763185620307922, \"name\": \"citizens\", \"original\": \"citizens\"}, {\"x_axis\": 0.1338246464729309, \"y_axis\": 0.5747148394584656, \"name\": \"local\", \"original\": \"local\"}, {\"x_axis\": 0.10635046660900116, \"y_axis\": 0.5738731622695923, \"name\": \"part\", \"original\": \"part\"}, {\"x_axis\": -0.03183557838201523, \"y_axis\": 0.57378751039505, \"name\": \"the\", \"original\": \"the\"}, {\"x_axis\": 0.0446823313832283, \"y_axis\": 0.5733246803283691, \"name\": \"education\", \"original\": \"education\"}, {\"x_axis\": 0.013806726783514023, \"y_axis\": 0.5715380311012268, \"name\": \"institutions\", \"original\": \"institutions\"}, {\"x_axis\": 0.05180126428604126, \"y_axis\": 0.5709089040756226, \"name\": \"well\", \"original\": \"well\"}, {\"x_axis\": -0.068821482360363, \"y_axis\": 0.5705286860466003, \"name\": \"member\", \"original\": \"member\"}, {\"x_axis\": -0.02356056310236454, \"y_axis\": 0.5690096616744995, \"name\": \"establishment\", \"original\": \"establishment\"}, {\"x_axis\": 0.08449303358793259, \"y_axis\": 0.5678063035011292, \"name\": \"educational\", \"original\": \"educational\"}, {\"x_axis\": 0.099309042096138, \"y_axis\": 0.5674905180931091, \"name\": \"council\", \"original\": \"council\"}, {\"x_axis\": -0.10860244184732437, \"y_axis\": 0.5660229325294495, \"name\": \"american\", \"original\": \"american\"}, {\"x_axis\": 0.025501402094960213, \"y_axis\": 0.5636746883392334, \"name\": \"nation\", \"original\": \"nation\"}, {\"x_axis\": -0.1072055920958519, \"y_axis\": 0.5616464018821716, \"name\": \"national\", \"original\": \"national\"}, {\"x_axis\": -0.05145476385951042, \"y_axis\": 0.559431254863739, \"name\": \"organized\", \"original\": \"organized\"}, {\"x_axis\": -0.01904390938580036, \"y_axis\": 0.5593816041946411, \"name\": \"international\", \"original\": \"international\"}, {\"x_axis\": 0.0005782843218185008, \"y_axis\": 0.5585923194885254, \"name\": \"religious\", \"original\": \"religious\"}, {\"x_axis\": 0.09012092649936676, \"y_axis\": 0.5521698594093323, \"name\": \"people\", \"original\": \"people\"}, {\"x_axis\": 0.021525532007217407, \"y_axis\": 0.5502648949623108, \"name\": \"which\", \"original\": \"which\"}, {\"x_axis\": 0.07566552609205246, \"y_axis\": 0.5497080087661743, \"name\": \"many\", \"original\": \"many\"}, {\"x_axis\": 0.029575174674391747, \"y_axis\": 0.5492575168609619, \"name\": \"youth\", \"original\": \"youth\"}, {\"x_axis\": 0.04028725251555443, \"y_axis\": 0.5486956238746643, \"name\": \"concerned\", \"original\": \"concerned\"}, {\"x_axis\": -0.21539321541786194, \"y_axis\": 0.5477816462516785, \"name\": \"institute\", \"original\": \"institute\"}, {\"x_axis\": 0.03491973504424095, \"y_axis\": 0.5472822189331055, \"name\": \"members\", \"original\": \"members\"}, {\"x_axis\": -0.053387027233839035, \"y_axis\": 0.5467982292175293, \"name\": \"arts\", \"original\": \"arts\"}, {\"x_axis\": 0.1669006496667862, \"y_axis\": 0.542543888092041, \"name\": \"within\", \"original\": \"within\"}, {\"x_axis\": 0.08248843997716904, \"y_axis\": 0.5424885749816895, \"name\": \"is\", \"original\": \"is\"}, {\"x_axis\": 0.049062225967645645, \"y_axis\": 0.5422908663749695, \"name\": \"nonprofit\", \"original\": \"nonprofit\"}, {\"x_axis\": 0.0361216738820076, \"y_axis\": 0.5416373014450073, \"name\": \"particular\", \"original\": \"particular\"}, {\"x_axis\": -0.11454138159751892, \"y_axis\": 0.5406358242034912, \"name\": \"foundation\", \"original\": \"foundation\"}, {\"x_axis\": 0.06811273843050003, \"y_axis\": 0.5387965440750122, \"name\": \"now\", \"original\": \"now\"}, {\"x_axis\": 0.13014964759349823, \"y_axis\": 0.5380068421363831, \"name\": \"development\", \"original\": \"development\"}, {\"x_axis\": 0.09644710272550583, \"y_axis\": 0.5370649695396423, \"name\": \"leaders\", \"original\": \"leaders\"}, {\"x_axis\": -0.0009144524810835719, \"y_axis\": 0.5367429256439209, \"name\": \"and\", \"original\": \"and\"}, {\"x_axis\": 0.03116988018155098, \"y_axis\": 0.5356765985488892, \"name\": \"working\", \"original\": \"working\"}, {\"x_axis\": 0.0694141685962677, \"y_axis\": 0.5355296730995178, \"name\": \"growing\", \"original\": \"growing\"}, {\"x_axis\": 0.09238214045763016, \"y_axis\": 0.5352967381477356, \"name\": \"where\", \"original\": \"where\"}, {\"x_axis\": 0.05938534811139107, \"y_axis\": 0.5352596044540405, \"name\": \"groups\", \"original\": \"groups\"}, {\"x_axis\": 0.007380560971796513, \"y_axis\": 0.534902811050415, \"name\": \"interests\", \"original\": \"interests\"}, {\"x_axis\": -0.11438219249248505, \"y_axis\": 0.534040629863739, \"name\": \"\\u201d\", \"original\": \"\\u201d\"}, {\"x_axis\": -0.11156316846609116, \"y_axis\": 0.5337904095649719, \"name\": \"nature\", \"original\": \"nature\"}, {\"x_axis\": 0.15856808423995972, \"y_axis\": 0.5332754850387573, \"name\": \"schools\", \"original\": \"schools\"}, {\"x_axis\": 0.042373158037662506, \"y_axis\": 0.5317462086677551, \"name\": \"important\", \"original\": \"important\"}, {\"x_axis\": 0.09060627222061157, \"y_axis\": 0.5312860608100891, \"name\": \"united\", \"original\": \"united\"}, {\"x_axis\": -0.004502297379076481, \"y_axis\": 0.5306787490844727, \"name\": \"based\", \"original\": \"based\"}, {\"x_axis\": 0.025012576952576637, \"y_axis\": 0.5304015874862671, \"name\": \"today\", \"original\": \"today\"}, {\"x_axis\": 0.022565806284546852, \"y_axis\": 0.530320942401886, \"name\": \".\", \"original\": \".\"}, {\"x_axis\": 0.051834434270858765, \"y_axis\": 0.5299190282821655, \"name\": \"recognized\", \"original\": \"recognized\"}, {\"x_axis\": 0.1564878523349762, \"y_axis\": 0.5297549962997437, \"name\": \"population\", \"original\": \"population\"}, {\"x_axis\": -0.0016685229493305087, \"y_axis\": 0.5295963287353516, \"name\": \"work\", \"original\": \"work\"}, {\"x_axis\": 0.053283751010894775, \"y_axis\": 0.5290694236755371, \"name\": \"leadership\", \"original\": \"leadership\"}, {\"x_axis\": -0.15847907960414886, \"y_axis\": 0.528390645980835, \"name\": \"scientific\", \"original\": \"scientific\"}, {\"x_axis\": 0.07115551829338074, \"y_axis\": 0.5282695293426514, \"name\": \"organisations\", \"original\": \"organisations\"}, {\"x_axis\": 0.027951080352067947, \"y_axis\": 0.5271035432815552, \"name\": \"non-profit\", \"original\": \"non-profit\"}, {\"x_axis\": 0.017593760043382645, \"y_axis\": 0.526999831199646, \"name\": \"promote\", \"original\": \"promote\"}, {\"x_axis\": 0.02214205265045166, \"y_axis\": 0.5260582566261292, \"name\": \"associations\", \"original\": \"associations\"}, {\"x_axis\": 0.03524039685726166, \"y_axis\": 0.5259002447128296, \"name\": \"should\", \"original\": \"should\"}, {\"x_axis\": 0.05288543179631233, \"y_axis\": 0.5255671143531799, \"name\": \"especially\", \"original\": \"especially\"}, {\"x_axis\": 0.046808235347270966, \"y_axis\": 0.5251984596252441, \"name\": \"lives\", \"original\": \"lives\"}, {\"x_axis\": 0.0382792092859745, \"y_axis\": 0.52333664894104, \"name\": \"among\", \"original\": \"among\"}, {\"x_axis\": 0.05477634444832802, \"y_axis\": 0.5232610106468201, \"name\": \"civic\", \"original\": \"civic\"}, {\"x_axis\": 0.016155049204826355, \"y_axis\": 0.5218974351882935, \"name\": \"living\", \"original\": \"living\"}, {\"x_axis\": 0.10065217316150665, \"y_axis\": 0.5214856266975403, \"name\": \"has\", \"original\": \"has\"}, {\"x_axis\": 0.0697072297334671, \"y_axis\": 0.5209077596664429, \"name\": \"both\", \"original\": \"both\"}, {\"x_axis\": 0.08525281399488449, \"y_axis\": 0.52074134349823, \"name\": \"also\", \"original\": \"also\"}, {\"x_axis\": -0.017996830865740776, \"y_axis\": 0.5202661752700806, \"name\": \"\\u2019s\", \"original\": \"\\u2019s\"}, {\"x_axis\": -0.04665873572230339, \"y_axis\": 0.5197372436523438, \"name\": \"heritage\", \"original\": \"heritage\"}, {\"x_axis\": -0.059432320296764374, \"y_axis\": 0.5197196006774902, \"name\": \"trust\", \"original\": \"trust\"}, {\"x_axis\": 0.030491119250655174, \"y_axis\": 0.5196287631988525, \"name\": \"way\", \"original\": \"way\"}, {\"x_axis\": 0.06588539481163025, \"y_axis\": 0.5193777680397034, \"name\": \"hope\", \"original\": \"hope\"}, {\"x_axis\": 0.18417058885097504, \"y_axis\": 0.5191248655319214, \"name\": \"support\", \"original\": \"support\"}, {\"x_axis\": 0.025029921904206276, \"y_axis\": 0.5188126564025879, \"name\": \"our\", \"original\": \"our\"}, {\"x_axis\": 0.11425744742155075, \"y_axis\": 0.5179721713066101, \"name\": \"church\", \"original\": \"church\"}, {\"x_axis\": 0.0013598798541352153, \"y_axis\": 0.5170495510101318, \"name\": \"common\", \"original\": \"common\"}, {\"x_axis\": 0.0490068756043911, \"y_axis\": 0.5166446566581726, \"name\": \"all\", \"original\": \"all\"}, {\"x_axis\": 0.01741931401193142, \"y_axis\": 0.5161910653114319, \"name\": \"of\", \"original\": \"of\"}, {\"x_axis\": -0.07863379269838333, \"y_axis\": 0.516098141670227, \"name\": \"become\", \"original\": \"become\"}, {\"x_axis\": 0.03581203892827034, \"y_axis\": 0.5159051418304443, \"name\": \"business\", \"original\": \"business\"}, {\"x_axis\": 0.06679532676935196, \"y_axis\": 0.514344334602356, \"name\": \"in\", \"original\": \"in\"}, {\"x_axis\": -0.07984772324562073, \"y_axis\": 0.5134539008140564, \"name\": \"religion\", \"original\": \"religion\"}, {\"x_axis\": 0.02886308915913105, \"y_axis\": 0.5133044719696045, \"name\": \"union\", \"original\": \"union\"}, {\"x_axis\": -0.18191052973270416, \"y_axis\": 0.5129079818725586, \"name\": \"science\", \"original\": \"science\"}, {\"x_axis\": 0.24985870718955994, \"y_axis\": 0.5118703246116638, \"name\": \"area\", \"original\": \"area\"}, {\"x_axis\": 0.1529182344675064, \"y_axis\": 0.5116947889328003, \"name\": \"families\", \"original\": \"families\"}]}}, {\"mode\": \"vega-lite\"});\n",
       "</script>"
      ],
      "text/plain": [
       "alt.LayerChart(...)"
      ]
     },
     "execution_count": 26,
     "metadata": {},
     "output_type": "execute_result"
    }
   ],
   "source": [
    "# when cosine similarity is used, there's a clear sharp lower bound\n",
    "# on the y axis, which makes sense because that's how the word set \n",
    "# was defined\n",
    "sim_avg.plot_interactive(x_axis=diff, y_axis=avg, \n",
    "                         axis_metric=\"cosine_similarity\")"
   ]
  },
  {
   "cell_type": "code",
   "execution_count": 27,
   "metadata": {},
   "outputs": [
    {
     "data": {
      "text/html": [
       "\n",
       "<div id=\"altair-viz-d25ddb528f0f49149faa8adee86cdea8\"></div>\n",
       "<script type=\"text/javascript\">\n",
       "  (function(spec, embedOpt){\n",
       "    let outputDiv = document.currentScript.previousElementSibling;\n",
       "    if (outputDiv.id !== \"altair-viz-d25ddb528f0f49149faa8adee86cdea8\") {\n",
       "      outputDiv = document.getElementById(\"altair-viz-d25ddb528f0f49149faa8adee86cdea8\");\n",
       "    }\n",
       "    const paths = {\n",
       "      \"vega\": \"https://cdn.jsdelivr.net/npm//vega@5?noext\",\n",
       "      \"vega-lib\": \"https://cdn.jsdelivr.net/npm//vega-lib?noext\",\n",
       "      \"vega-lite\": \"https://cdn.jsdelivr.net/npm//vega-lite@4.8.1?noext\",\n",
       "      \"vega-embed\": \"https://cdn.jsdelivr.net/npm//vega-embed@6?noext\",\n",
       "    };\n",
       "\n",
       "    function loadScript(lib) {\n",
       "      return new Promise(function(resolve, reject) {\n",
       "        var s = document.createElement('script');\n",
       "        s.src = paths[lib];\n",
       "        s.async = true;\n",
       "        s.onload = () => resolve(paths[lib]);\n",
       "        s.onerror = () => reject(`Error loading script: ${paths[lib]}`);\n",
       "        document.getElementsByTagName(\"head\")[0].appendChild(s);\n",
       "      });\n",
       "    }\n",
       "\n",
       "    function showError(err) {\n",
       "      outputDiv.innerHTML = `<div class=\"error\" style=\"color:red;\">${err}</div>`;\n",
       "      throw err;\n",
       "    }\n",
       "\n",
       "    function displayChart(vegaEmbed) {\n",
       "      vegaEmbed(outputDiv, spec, embedOpt)\n",
       "        .catch(err => showError(`Javascript Error: ${err.message}<br>This usually means there's a typo in your chart specification. See the javascript console for the full traceback.`));\n",
       "    }\n",
       "\n",
       "    if(typeof define === \"function\" && define.amd) {\n",
       "      requirejs.config({paths});\n",
       "      require([\"vega-embed\"], displayChart, err => showError(`Error loading script: ${err.message}`));\n",
       "    } else if (typeof vegaEmbed === \"function\") {\n",
       "      displayChart(vegaEmbed);\n",
       "    } else {\n",
       "      loadScript(\"vega\")\n",
       "        .then(() => loadScript(\"vega-lite\"))\n",
       "        .then(() => loadScript(\"vega-embed\"))\n",
       "        .catch(showError)\n",
       "        .then(() => displayChart(vegaEmbed));\n",
       "    }\n",
       "  })({\"width\": 500, \"height\": 400, \"layer\": [{\"mark\": {\"type\": \"circle\", \"size\": 60}, \"encoding\": {\"color\": {\"type\": \"nominal\", \"field\": \"\", \"legend\": null}, \"tooltip\": [{\"type\": \"nominal\", \"field\": \"name\"}, {\"type\": \"nominal\", \"field\": \"original\"}], \"x\": {\"type\": \"quantitative\", \"axis\": {\"title\": \"(community - society)\"}, \"field\": \"x_axis\"}, \"y\": {\"type\": \"quantitative\", \"axis\": {\"title\": \"(local - global)\"}, \"field\": \"y_axis\"}}, \"selection\": {\"selector003\": {\"type\": \"interval\", \"bind\": \"scales\", \"encodings\": [\"x\", \"y\"]}}, \"title\": \"(community - society) vs. (local - global)\"}, {\"mark\": {\"type\": \"text\", \"color\": \"black\", \"dx\": -15, \"dy\": 3}, \"encoding\": {\"text\": {\"type\": \"nominal\", \"field\": \"original\"}, \"x\": {\"type\": \"quantitative\", \"field\": \"x_axis\"}, \"y\": {\"type\": \"quantitative\", \"field\": \"y_axis\"}}}], \"data\": {\"name\": \"data-2d97b7cbb62351c6f57759f67797e380\"}, \"$schema\": \"https://vega.github.io/schema/vega-lite/v4.8.1.json\", \"datasets\": {\"data-2d97b7cbb62351c6f57759f67797e380\": [{\"x_axis\": -0.5627281069755554, \"y_axis\": -0.008180780336260796, \"name\": \"society\", \"original\": \"society\"}, {\"x_axis\": 0.4372718334197998, \"y_axis\": 0.11178530007600784, \"name\": \"community\", \"original\": \"community\"}, {\"x_axis\": 0.36593738198280334, \"y_axis\": 0.14526884257793427, \"name\": \"communities\", \"original\": \"communities\"}, {\"x_axis\": -0.372810035943985, \"y_axis\": -0.0010516094043850899, \"name\": \"societies\", \"original\": \"societies\"}, {\"x_axis\": 0.011498353444039822, \"y_axis\": 0.09171311557292938, \"name\": \"established\", \"original\": \"established\"}, {\"x_axis\": -0.11394449323415756, \"y_axis\": 0.06360161304473877, \"name\": \"culture\", \"original\": \"culture\"}, {\"x_axis\": -0.08486620336771011, \"y_axis\": -0.0427360013127327, \"name\": \"social\", \"original\": \"social\"}, {\"x_axis\": 0.09593692421913147, \"y_axis\": 0.08071023225784302, \"name\": \"organizations\", \"original\": \"organizations\"}, {\"x_axis\": -0.0004133904876653105, \"y_axis\": -0.06500191241502762, \"name\": \"organization\", \"original\": \"organization\"}, {\"x_axis\": -0.06256023794412613, \"y_axis\": 0.02812577411532402, \"name\": \"cultural\", \"original\": \"cultural\"}, {\"x_axis\": 0.06837320327758789, \"y_axis\": 0.06821168959140778, \"name\": \"public\", \"original\": \"public\"}, {\"x_axis\": -0.04531824588775635, \"y_axis\": 0.054622165858745575, \"name\": \"founded\", \"original\": \"founded\"}, {\"x_axis\": -0.1104738861322403, \"y_axis\": 0.09811975061893463, \"name\": \"association\", \"original\": \"association\"}, {\"x_axis\": -0.13530243933200836, \"y_axis\": -0.02543497271835804, \"name\": \"institution\", \"original\": \"institution\"}, {\"x_axis\": 0.047107186168432236, \"y_axis\": 0.023275068029761314, \"name\": \"country\", \"original\": \"country\"}, {\"x_axis\": -0.19405294954776764, \"y_axis\": -0.024915222078561783, \"name\": \"life\", \"original\": \"life\"}, {\"x_axis\": 0.03248421102762222, \"y_axis\": 0.11725190281867981, \"name\": \"citizens\", \"original\": \"citizens\"}, {\"x_axis\": 0.1408265382051468, \"y_axis\": 0.3978639543056488, \"name\": \"local\", \"original\": \"local\"}, {\"x_axis\": 0.09678671509027481, \"y_axis\": 0.03650527819991112, \"name\": \"part\", \"original\": \"part\"}, {\"x_axis\": -0.03084791824221611, \"y_axis\": 0.01516495831310749, \"name\": \"the\", \"original\": \"the\"}, {\"x_axis\": 0.052270181477069855, \"y_axis\": 0.03515952453017235, \"name\": \"education\", \"original\": \"education\"}, {\"x_axis\": 0.015383174642920494, \"y_axis\": 0.02020927146077156, \"name\": \"institutions\", \"original\": \"institutions\"}, {\"x_axis\": 0.044355571269989014, \"y_axis\": 0.038098905235528946, \"name\": \"well\", \"original\": \"well\"}, {\"x_axis\": -0.07521665841341019, \"y_axis\": 0.060994260013103485, \"name\": \"member\", \"original\": \"member\"}, {\"x_axis\": -0.020865606144070625, \"y_axis\": 0.04563909024000168, \"name\": \"establishment\", \"original\": \"establishment\"}, {\"x_axis\": 0.09024562686681747, \"y_axis\": 0.029332134872674942, \"name\": \"educational\", \"original\": \"educational\"}, {\"x_axis\": 0.12117534875869751, \"y_axis\": 0.11364507675170898, \"name\": \"council\", \"original\": \"council\"}, {\"x_axis\": -0.12424803525209427, \"y_axis\": -0.030277816578745842, \"name\": \"american\", \"original\": \"american\"}, {\"x_axis\": 0.027515191584825516, \"y_axis\": -0.10687396675348282, \"name\": \"nation\", \"original\": \"nation\"}, {\"x_axis\": -0.1301880180835724, \"y_axis\": 0.05452057346701622, \"name\": \"national\", \"original\": \"national\"}, {\"x_axis\": -0.048539821058511734, \"y_axis\": 0.06473531574010849, \"name\": \"organized\", \"original\": \"organized\"}, {\"x_axis\": -0.023335283622145653, \"y_axis\": -0.19467133283615112, \"name\": \"international\", \"original\": \"international\"}, {\"x_axis\": 0.0006859363638795912, \"y_axis\": 0.14511364698410034, \"name\": \"religious\", \"original\": \"religious\"}, {\"x_axis\": 0.09981173276901245, \"y_axis\": 0.16464297473430634, \"name\": \"people\", \"original\": \"people\"}, {\"x_axis\": 0.02010679990053177, \"y_axis\": 0.0007088182028383017, \"name\": \"which\", \"original\": \"which\"}, {\"x_axis\": 0.07736728340387344, \"y_axis\": 0.13148300349712372, \"name\": \"many\", \"original\": \"many\"}, {\"x_axis\": 0.03149200230836868, \"y_axis\": 0.08012519776821136, \"name\": \"youth\", \"original\": \"youth\"}, {\"x_axis\": 0.03425927087664604, \"y_axis\": -0.01837455853819847, \"name\": \"concerned\", \"original\": \"concerned\"}, {\"x_axis\": -0.2598067820072174, \"y_axis\": -0.11664247512817383, \"name\": \"institute\", \"original\": \"institute\"}, {\"x_axis\": 0.03806398808956146, \"y_axis\": 0.12243026494979858, \"name\": \"members\", \"original\": \"members\"}, {\"x_axis\": -0.06285035610198975, \"y_axis\": 0.07138814777135849, \"name\": \"arts\", \"original\": \"arts\"}, {\"x_axis\": 0.1660076230764389, \"y_axis\": 0.015455411747097969, \"name\": \"within\", \"original\": \"within\"}, {\"x_axis\": 0.08431481570005417, \"y_axis\": -0.02138524502515793, \"name\": \"is\", \"original\": \"is\"}, {\"x_axis\": 0.05366498976945877, \"y_axis\": -0.0214314516633749, \"name\": \"nonprofit\", \"original\": \"nonprofit\"}, {\"x_axis\": 0.029957009479403496, \"y_axis\": 0.009830680675804615, \"name\": \"particular\", \"original\": \"particular\"}, {\"x_axis\": -0.12943951785564423, \"y_axis\": -0.06313605606555939, \"name\": \"foundation\", \"original\": \"foundation\"}, {\"x_axis\": 0.062009021639823914, \"y_axis\": -0.01455900352448225, \"name\": \"now\", \"original\": \"now\"}, {\"x_axis\": 0.1489918828010559, \"y_axis\": -0.08257745206356049, \"name\": \"development\", \"original\": \"development\"}, {\"x_axis\": 0.10473727434873581, \"y_axis\": 0.020138708874583244, \"name\": \"leaders\", \"original\": \"leaders\"}, {\"x_axis\": -0.0008368002600036561, \"y_axis\": 0.03472086042165756, \"name\": \"and\", \"original\": \"and\"}, {\"x_axis\": 0.029230771586298943, \"y_axis\": 0.08433584868907928, \"name\": \"working\", \"original\": \"working\"}, {\"x_axis\": 0.07429637014865875, \"y_axis\": -0.10512630641460419, \"name\": \"growing\", \"original\": \"growing\"}, {\"x_axis\": 0.08546257764101028, \"y_axis\": 0.09668589383363724, \"name\": \"where\", \"original\": \"where\"}, {\"x_axis\": 0.06794464588165283, \"y_axis\": 0.11289126425981522, \"name\": \"groups\", \"original\": \"groups\"}, {\"x_axis\": 0.0078004286624491215, \"y_axis\": 0.017922693863511086, \"name\": \"interests\", \"original\": \"interests\"}, {\"x_axis\": -0.09800262749195099, \"y_axis\": 0.0028048832900822163, \"name\": \"\\u201d\", \"original\": \"\\u201d\"}, {\"x_axis\": -0.10996457934379578, \"y_axis\": -0.025928551331162453, \"name\": \"nature\", \"original\": \"nature\"}, {\"x_axis\": 0.18963956832885742, \"y_axis\": 0.183858260512352, \"name\": \"schools\", \"original\": \"schools\"}, {\"x_axis\": 0.04314121603965759, \"y_axis\": -0.005418849177658558, \"name\": \"important\", \"original\": \"important\"}, {\"x_axis\": 0.104341059923172, \"y_axis\": -0.045950986444950104, \"name\": \"united\", \"original\": \"united\"}, {\"x_axis\": -0.0046541569754481316, \"y_axis\": -0.013461459428071976, \"name\": \"based\", \"original\": \"based\"}, {\"x_axis\": 0.023157544434070587, \"y_axis\": 0.06849678605794907, \"name\": \"today\", \"original\": \"today\"}, {\"x_axis\": 0.01905224472284317, \"y_axis\": 0.040427953004837036, \"name\": \".\", \"original\": \".\"}, {\"x_axis\": 0.04789670184254646, \"y_axis\": 0.034450650215148926, \"name\": \"recognized\", \"original\": \"recognized\"}, {\"x_axis\": 0.20245197415351868, \"y_axis\": 0.05866057798266411, \"name\": \"population\", \"original\": \"population\"}, {\"x_axis\": -0.0016379487933591008, \"y_axis\": 0.07627388834953308, \"name\": \"work\", \"original\": \"work\"}, {\"x_axis\": 0.0537777841091156, \"y_axis\": -0.06313525140285492, \"name\": \"leadership\", \"original\": \"leadership\"}, {\"x_axis\": -0.17999358475208282, \"y_axis\": -0.1236991435289383, \"name\": \"scientific\", \"original\": \"scientific\"}, {\"x_axis\": 0.07490234076976776, \"y_axis\": 0.06540974974632263, \"name\": \"organisations\", \"original\": \"organisations\"}, {\"x_axis\": 0.033117637038230896, \"y_axis\": 0.043999526649713516, \"name\": \"non-profit\", \"original\": \"non-profit\"}, {\"x_axis\": 0.018876168876886368, \"y_axis\": -0.04040134325623512, \"name\": \"promote\", \"original\": \"promote\"}, {\"x_axis\": 0.02277093566954136, \"y_axis\": 0.16334299743175507, \"name\": \"associations\", \"original\": \"associations\"}, {\"x_axis\": 0.034468647092580795, \"y_axis\": 0.008310829289257526, \"name\": \"should\", \"original\": \"should\"}, {\"x_axis\": 0.04620258882641792, \"y_axis\": 0.030094826593995094, \"name\": \"especially\", \"original\": \"especially\"}, {\"x_axis\": 0.04746994003653526, \"y_axis\": 0.03591888025403023, \"name\": \"lives\", \"original\": \"lives\"}, {\"x_axis\": 0.039157334715127945, \"y_axis\": 0.014748803339898586, \"name\": \"among\", \"original\": \"among\"}, {\"x_axis\": 0.059025440365076065, \"y_axis\": 0.11662936210632324, \"name\": \"civic\", \"original\": \"civic\"}, {\"x_axis\": 0.017609328031539917, \"y_axis\": 0.06192973256111145, \"name\": \"living\", \"original\": \"living\"}, {\"x_axis\": 0.10150835663080215, \"y_axis\": -0.016406791284680367, \"name\": \"has\", \"original\": \"has\"}, {\"x_axis\": 0.05845540016889572, \"y_axis\": 0.03529224544763565, \"name\": \"both\", \"original\": \"both\"}, {\"x_axis\": 0.07512510567903519, \"y_axis\": 0.05325305089354515, \"name\": \"also\", \"original\": \"also\"}, {\"x_axis\": -0.017758311703801155, \"y_axis\": 0.0026132811326533556, \"name\": \"\\u2019s\", \"original\": \"\\u2019s\"}, {\"x_axis\": -0.0502617284655571, \"y_axis\": 0.06723387539386749, \"name\": \"heritage\", \"original\": \"heritage\"}, {\"x_axis\": -0.06502707302570343, \"y_axis\": 0.008107591420412064, \"name\": \"trust\", \"original\": \"trust\"}, {\"x_axis\": 0.02777225524187088, \"y_axis\": 0.003543957369402051, \"name\": \"way\", \"original\": \"way\"}, {\"x_axis\": 0.06178667023777962, \"y_axis\": -0.013674365356564522, \"name\": \"hope\", \"original\": \"hope\"}, {\"x_axis\": 0.19367821514606476, \"y_axis\": -0.020812461152672768, \"name\": \"support\", \"original\": \"support\"}, {\"x_axis\": 0.028846120461821556, \"y_axis\": -0.07755905389785767, \"name\": \"our\", \"original\": \"our\"}, {\"x_axis\": 0.14087241888046265, \"y_axis\": 0.15582546591758728, \"name\": \"church\", \"original\": \"church\"}, {\"x_axis\": 0.0013738683192059398, \"y_axis\": 0.006939860060811043, \"name\": \"common\", \"original\": \"common\"}, {\"x_axis\": 0.049117330461740494, \"y_axis\": 0.053670354187488556, \"name\": \"all\", \"original\": \"all\"}, {\"x_axis\": 0.017506640404462814, \"y_axis\": 0.014046740718185902, \"name\": \"of\", \"original\": \"of\"}, {\"x_axis\": -0.07922787219285965, \"y_axis\": -0.03966262564063072, \"name\": \"become\", \"original\": \"become\"}, {\"x_axis\": 0.0382208377122879, \"y_axis\": -0.0205437783151865, \"name\": \"business\", \"original\": \"business\"}, {\"x_axis\": 0.065372034907341, \"y_axis\": 0.0382523313164711, \"name\": \"in\", \"original\": \"in\"}, {\"x_axis\": -0.09094683825969696, \"y_axis\": 0.02730642631649971, \"name\": \"religion\", \"original\": \"religion\"}, {\"x_axis\": 0.03347337990999222, \"y_axis\": 0.02365102991461754, \"name\": \"union\", \"original\": \"union\"}, {\"x_axis\": -0.21275730431079865, \"y_axis\": -0.04460955783724785, \"name\": \"science\", \"original\": \"science\"}, {\"x_axis\": 0.26583990454673767, \"y_axis\": 0.1878410428762436, \"name\": \"area\", \"original\": \"area\"}, {\"x_axis\": 0.17624643445014954, \"y_axis\": 0.15880948305130005, \"name\": \"families\", \"original\": \"families\"}]}}, {\"mode\": \"vega-lite\"});\n",
       "</script>"
      ],
      "text/plain": [
       "alt.LayerChart(...)"
      ]
     },
     "execution_count": 27,
     "metadata": {},
     "output_type": "execute_result"
    }
   ],
   "source": [
    "# add a second binary axis, local-global\n",
    "sim_avg.plot_interactive(x_axis=diff, \n",
    "                         y_axis=emb_wiki['local'] - emb_wiki['global'])"
   ]
  },
  {
   "cell_type": "code",
   "execution_count": 28,
   "metadata": {},
   "outputs": [
    {
     "data": {
      "text/html": [
       "\n",
       "<div id=\"altair-viz-cd4bd153050e465cbdb0104c0bd9f76b\"></div>\n",
       "<script type=\"text/javascript\">\n",
       "  (function(spec, embedOpt){\n",
       "    let outputDiv = document.currentScript.previousElementSibling;\n",
       "    if (outputDiv.id !== \"altair-viz-cd4bd153050e465cbdb0104c0bd9f76b\") {\n",
       "      outputDiv = document.getElementById(\"altair-viz-cd4bd153050e465cbdb0104c0bd9f76b\");\n",
       "    }\n",
       "    const paths = {\n",
       "      \"vega\": \"https://cdn.jsdelivr.net/npm//vega@5?noext\",\n",
       "      \"vega-lib\": \"https://cdn.jsdelivr.net/npm//vega-lib?noext\",\n",
       "      \"vega-lite\": \"https://cdn.jsdelivr.net/npm//vega-lite@4.8.1?noext\",\n",
       "      \"vega-embed\": \"https://cdn.jsdelivr.net/npm//vega-embed@6?noext\",\n",
       "    };\n",
       "\n",
       "    function loadScript(lib) {\n",
       "      return new Promise(function(resolve, reject) {\n",
       "        var s = document.createElement('script');\n",
       "        s.src = paths[lib];\n",
       "        s.async = true;\n",
       "        s.onload = () => resolve(paths[lib]);\n",
       "        s.onerror = () => reject(`Error loading script: ${paths[lib]}`);\n",
       "        document.getElementsByTagName(\"head\")[0].appendChild(s);\n",
       "      });\n",
       "    }\n",
       "\n",
       "    function showError(err) {\n",
       "      outputDiv.innerHTML = `<div class=\"error\" style=\"color:red;\">${err}</div>`;\n",
       "      throw err;\n",
       "    }\n",
       "\n",
       "    function displayChart(vegaEmbed) {\n",
       "      vegaEmbed(outputDiv, spec, embedOpt)\n",
       "        .catch(err => showError(`Javascript Error: ${err.message}<br>This usually means there's a typo in your chart specification. See the javascript console for the full traceback.`));\n",
       "    }\n",
       "\n",
       "    if(typeof define === \"function\" && define.amd) {\n",
       "      requirejs.config({paths});\n",
       "      require([\"vega-embed\"], displayChart, err => showError(`Error loading script: ${err.message}`));\n",
       "    } else if (typeof vegaEmbed === \"function\") {\n",
       "      displayChart(vegaEmbed);\n",
       "    } else {\n",
       "      loadScript(\"vega\")\n",
       "        .then(() => loadScript(\"vega-lite\"))\n",
       "        .then(() => loadScript(\"vega-embed\"))\n",
       "        .catch(showError)\n",
       "        .then(() => displayChart(vegaEmbed));\n",
       "    }\n",
       "  })({\"width\": 500, \"height\": 400, \"layer\": [{\"mark\": {\"type\": \"circle\", \"size\": 60}, \"encoding\": {\"color\": {\"type\": \"nominal\", \"field\": \"\", \"legend\": null}, \"tooltip\": [{\"type\": \"nominal\", \"field\": \"name\"}, {\"type\": \"nominal\", \"field\": \"original\"}], \"x\": {\"type\": \"quantitative\", \"axis\": {\"title\": \"(community - society)\"}, \"field\": \"x_axis\"}, \"y\": {\"type\": \"quantitative\", \"axis\": {\"title\": \"(local - global)\"}, \"field\": \"y_axis\"}}, \"selection\": {\"selector004\": {\"type\": \"interval\", \"bind\": \"scales\", \"encodings\": [\"x\", \"y\"]}}, \"title\": \"(community - society) vs. (local - global)\"}, {\"mark\": {\"type\": \"text\", \"color\": \"black\", \"dx\": -15, \"dy\": 3}, \"encoding\": {\"text\": {\"type\": \"nominal\", \"field\": \"original\"}, \"x\": {\"type\": \"quantitative\", \"field\": \"x_axis\"}, \"y\": {\"type\": \"quantitative\", \"field\": \"y_axis\"}}}], \"data\": {\"name\": \"data-2cd66310a8e5cdb04ffc52f58971a9de\"}, \"$schema\": \"https://vega.github.io/schema/vega-lite/v4.8.1.json\", \"datasets\": {\"data-2cd66310a8e5cdb04ffc52f58971a9de\": [{\"x_axis\": -0.49506866931915283, \"y_axis\": -0.009188590571284294, \"name\": \"society\", \"original\": \"society\"}, {\"x_axis\": 0.4048543870449066, \"y_axis\": 0.1321355402469635, \"name\": \"community\", \"original\": \"community\"}, {\"x_axis\": 0.3442264199256897, \"y_axis\": 0.17446063458919525, \"name\": \"communities\", \"original\": \"communities\"}, {\"x_axis\": -0.34677213430404663, \"y_axis\": -0.0012488174252212048, \"name\": \"societies\", \"original\": \"societies\"}, {\"x_axis\": 0.012477339245378971, \"y_axis\": 0.1270589977502823, \"name\": \"established\", \"original\": \"established\"}, {\"x_axis\": -0.1057688519358635, \"y_axis\": 0.07537376135587692, \"name\": \"culture\", \"original\": \"culture\"}, {\"x_axis\": -0.07241656631231308, \"y_axis\": -0.04655694216489792, \"name\": \"social\", \"original\": \"social\"}, {\"x_axis\": 0.08634046465158463, \"y_axis\": 0.09273523837327957, \"name\": \"organizations\", \"original\": \"organizations\"}, {\"x_axis\": -0.00037888105725869536, \"y_axis\": -0.07606099545955658, \"name\": \"organization\", \"original\": \"organization\"}, {\"x_axis\": -0.05392904579639435, \"y_axis\": 0.03095397911965847, \"name\": \"cultural\", \"original\": \"cultural\"}, {\"x_axis\": 0.06270695477724075, \"y_axis\": 0.0798686072230339, \"name\": \"public\", \"original\": \"public\"}, {\"x_axis\": -0.04434828832745552, \"y_axis\": 0.0682433471083641, \"name\": \"founded\", \"original\": \"founded\"}, {\"x_axis\": -0.09270785748958588, \"y_axis\": 0.10512377321720123, \"name\": \"association\", \"original\": \"association\"}, {\"x_axis\": -0.12497644871473312, \"y_axis\": -0.02999449521303177, \"name\": \"institution\", \"original\": \"institution\"}, {\"x_axis\": 0.04410558193922043, \"y_axis\": 0.02782178483903408, \"name\": \"country\", \"original\": \"country\"}, {\"x_axis\": -0.1893494576215744, \"y_axis\": -0.031038181856274605, \"name\": \"life\", \"original\": \"life\"}, {\"x_axis\": 0.032044071704149246, \"y_axis\": 0.14766685664653778, \"name\": \"citizens\", \"original\": \"citizens\"}, {\"x_axis\": 0.1338246464729309, \"y_axis\": 0.4826960861682892, \"name\": \"local\", \"original\": \"local\"}, {\"x_axis\": 0.10635046660900116, \"y_axis\": 0.05121144279837608, \"name\": \"part\", \"original\": \"part\"}, {\"x_axis\": -0.03183557838201523, \"y_axis\": 0.019980911165475845, \"name\": \"the\", \"original\": \"the\"}, {\"x_axis\": 0.0446823313832283, \"y_axis\": 0.03837180882692337, \"name\": \"education\", \"original\": \"education\"}, {\"x_axis\": 0.013806726783514023, \"y_axis\": 0.023157035931944847, \"name\": \"institutions\", \"original\": \"institutions\"}, {\"x_axis\": 0.05180126428604126, \"y_axis\": 0.05680573359131813, \"name\": \"well\", \"original\": \"well\"}, {\"x_axis\": -0.068821482360363, \"y_axis\": 0.07125028967857361, \"name\": \"member\", \"original\": \"member\"}, {\"x_axis\": -0.02356056310236454, \"y_axis\": 0.06579291820526123, \"name\": \"establishment\", \"original\": \"establishment\"}, {\"x_axis\": 0.08449303358793259, \"y_axis\": 0.035061150789260864, \"name\": \"educational\", \"original\": \"educational\"}, {\"x_axis\": 0.099309042096138, \"y_axis\": 0.11890845000743866, \"name\": \"council\", \"original\": \"council\"}, {\"x_axis\": -0.10860244184732437, \"y_axis\": -0.03378799185156822, \"name\": \"american\", \"original\": \"american\"}, {\"x_axis\": 0.025501402094960213, \"y_axis\": -0.12645936012268066, \"name\": \"nation\", \"original\": \"nation\"}, {\"x_axis\": -0.1072055920958519, \"y_axis\": 0.05731846019625664, \"name\": \"national\", \"original\": \"national\"}, {\"x_axis\": -0.05145476385951042, \"y_axis\": 0.08761052787303925, \"name\": \"organized\", \"original\": \"organized\"}, {\"x_axis\": -0.01904390938580036, \"y_axis\": -0.20283032953739166, \"name\": \"international\", \"original\": \"international\"}, {\"x_axis\": 0.0005782843218185008, \"y_axis\": 0.1561882346868515, \"name\": \"religious\", \"original\": \"religious\"}, {\"x_axis\": 0.09012092649936676, \"y_axis\": 0.18979063630104065, \"name\": \"people\", \"original\": \"people\"}, {\"x_axis\": 0.021525532007217407, \"y_axis\": 0.0009687894489616156, \"name\": \"which\", \"original\": \"which\"}, {\"x_axis\": 0.07566552609205246, \"y_axis\": 0.16417156159877777, \"name\": \"many\", \"original\": \"many\"}, {\"x_axis\": 0.029575174674391747, \"y_axis\": 0.09606911242008209, \"name\": \"youth\", \"original\": \"youth\"}, {\"x_axis\": 0.04028725251555443, \"y_axis\": -0.02758633717894554, \"name\": \"concerned\", \"original\": \"concerned\"}, {\"x_axis\": -0.21539321541786194, \"y_axis\": -0.12345986813306808, \"name\": \"institute\", \"original\": \"institute\"}, {\"x_axis\": 0.03491973504424095, \"y_axis\": 0.14339467883110046, \"name\": \"members\", \"original\": \"members\"}, {\"x_axis\": -0.053387027233839035, \"y_axis\": 0.07741795480251312, \"name\": \"arts\", \"original\": \"arts\"}, {\"x_axis\": 0.1669006496667862, \"y_axis\": 0.019838007166981697, \"name\": \"within\", \"original\": \"within\"}, {\"x_axis\": 0.08248843997716904, \"y_axis\": -0.02671106345951557, \"name\": \"is\", \"original\": \"is\"}, {\"x_axis\": 0.049062225967645645, \"y_axis\": -0.025014705955982208, \"name\": \"nonprofit\", \"original\": \"nonprofit\"}, {\"x_axis\": 0.0361216738820076, \"y_axis\": 0.015133545733988285, \"name\": \"particular\", \"original\": \"particular\"}, {\"x_axis\": -0.11454138159751892, \"y_axis\": -0.0713280737400055, \"name\": \"foundation\", \"original\": \"foundation\"}, {\"x_axis\": 0.06811273843050003, \"y_axis\": -0.020417040213942528, \"name\": \"now\", \"original\": \"now\"}, {\"x_axis\": 0.13014964759349823, \"y_axis\": -0.09209360182285309, \"name\": \"development\", \"original\": \"development\"}, {\"x_axis\": 0.09644710272550583, \"y_axis\": 0.023675942793488503, \"name\": \"leaders\", \"original\": \"leaders\"}, {\"x_axis\": -0.0009144524810835719, \"y_axis\": 0.04844171553850174, \"name\": \"and\", \"original\": \"and\"}, {\"x_axis\": 0.03116988018155098, \"y_axis\": 0.11481405049562454, \"name\": \"working\", \"original\": \"working\"}, {\"x_axis\": 0.0694141685962677, \"y_axis\": -0.1253947764635086, \"name\": \"growing\", \"original\": \"growing\"}, {\"x_axis\": 0.09238214045763016, \"y_axis\": 0.13343285024166107, \"name\": \"where\", \"original\": \"where\"}, {\"x_axis\": 0.05938534811139107, \"y_axis\": 0.12597140669822693, \"name\": \"groups\", \"original\": \"groups\"}, {\"x_axis\": 0.007380560971796513, \"y_axis\": 0.02165018580853939, \"name\": \"interests\", \"original\": \"interests\"}, {\"x_axis\": -0.11438219249248505, \"y_axis\": 0.004179487004876137, \"name\": \"\\u201d\", \"original\": \"\\u201d\"}, {\"x_axis\": -0.11156316846609116, \"y_axis\": -0.033584121614694595, \"name\": \"nature\", \"original\": \"nature\"}, {\"x_axis\": 0.15856808423995972, \"y_axis\": 0.19627167284488678, \"name\": \"schools\", \"original\": \"schools\"}, {\"x_axis\": 0.042373158037662506, \"y_axis\": -0.006795054767280817, \"name\": \"important\", \"original\": \"important\"}, {\"x_axis\": 0.09060627222061157, \"y_axis\": -0.05094311758875847, \"name\": \"united\", \"original\": \"united\"}, {\"x_axis\": -0.004502297379076481, \"y_axis\": -0.016625458374619484, \"name\": \"based\", \"original\": \"based\"}, {\"x_axis\": 0.025012576952576637, \"y_axis\": 0.09445475041866302, \"name\": \"today\", \"original\": \"today\"}, {\"x_axis\": 0.022565806284546852, \"y_axis\": 0.0611327588558197, \"name\": \".\", \"original\": \".\"}, {\"x_axis\": 0.051834434270858765, \"y_axis\": 0.04759896919131279, \"name\": \"recognized\", \"original\": \"recognized\"}, {\"x_axis\": 0.1564878523349762, \"y_axis\": 0.057888541370630264, \"name\": \"population\", \"original\": \"population\"}, {\"x_axis\": -0.0016685229493305087, \"y_axis\": 0.0991959497332573, \"name\": \"work\", \"original\": \"work\"}, {\"x_axis\": 0.053283751010894775, \"y_axis\": -0.07986408472061157, \"name\": \"leadership\", \"original\": \"leadership\"}, {\"x_axis\": -0.15847907960414886, \"y_axis\": -0.13904942572116852, \"name\": \"scientific\", \"original\": \"scientific\"}, {\"x_axis\": 0.07115551829338074, \"y_axis\": 0.07933105528354645, \"name\": \"organisations\", \"original\": \"organisations\"}, {\"x_axis\": 0.027951080352067947, \"y_axis\": 0.0474105067551136, \"name\": \"non-profit\", \"original\": \"non-profit\"}, {\"x_axis\": 0.017593760043382645, \"y_axis\": -0.04807598888874054, \"name\": \"promote\", \"original\": \"promote\"}, {\"x_axis\": 0.02214205265045166, \"y_axis\": 0.20278002321720123, \"name\": \"associations\", \"original\": \"associations\"}, {\"x_axis\": 0.03524039685726166, \"y_axis\": 0.010847979225218296, \"name\": \"should\", \"original\": \"should\"}, {\"x_axis\": 0.05288543179631233, \"y_axis\": 0.043979398906230927, \"name\": \"especially\", \"original\": \"especially\"}, {\"x_axis\": 0.046808235347270966, \"y_axis\": 0.045218292623758316, \"name\": \"lives\", \"original\": \"lives\"}, {\"x_axis\": 0.0382792092859745, \"y_axis\": 0.018407482653856277, \"name\": \"among\", \"original\": \"among\"}, {\"x_axis\": 0.05477634444832802, \"y_axis\": 0.13818126916885376, \"name\": \"civic\", \"original\": \"civic\"}, {\"x_axis\": 0.016155049204826355, \"y_axis\": 0.07253578305244446, \"name\": \"living\", \"original\": \"living\"}, {\"x_axis\": 0.10065217316150665, \"y_axis\": -0.020769819617271423, \"name\": \"has\", \"original\": \"has\"}, {\"x_axis\": 0.0697072297334671, \"y_axis\": 0.053730402141809464, \"name\": \"both\", \"original\": \"both\"}, {\"x_axis\": 0.08525281399488449, \"y_axis\": 0.0771535262465477, \"name\": \"also\", \"original\": \"also\"}, {\"x_axis\": -0.017996830865740776, \"y_axis\": 0.0033811696339398623, \"name\": \"\\u2019s\", \"original\": \"\\u2019s\"}, {\"x_axis\": -0.04665873572230339, \"y_axis\": 0.07968401163816452, \"name\": \"heritage\", \"original\": \"heritage\"}, {\"x_axis\": -0.059432320296764374, \"y_axis\": 0.00946036260575056, \"name\": \"trust\", \"original\": \"trust\"}, {\"x_axis\": 0.030491119250655174, \"y_axis\": 0.004967494402080774, \"name\": \"way\", \"original\": \"way\"}, {\"x_axis\": 0.06588539481163025, \"y_axis\": -0.018616119399666786, \"name\": \"hope\", \"original\": \"hope\"}, {\"x_axis\": 0.18417058885097504, \"y_axis\": -0.02526681125164032, \"name\": \"support\", \"original\": \"support\"}, {\"x_axis\": 0.025029921904206276, \"y_axis\": -0.0859195739030838, \"name\": \"our\", \"original\": \"our\"}, {\"x_axis\": 0.11425744742155075, \"y_axis\": 0.16135580837726593, \"name\": \"church\", \"original\": \"church\"}, {\"x_axis\": 0.0013598798541352153, \"y_axis\": 0.00876985490322113, \"name\": \"common\", \"original\": \"common\"}, {\"x_axis\": 0.0490068756043911, \"y_axis\": 0.06836666911840439, \"name\": \"all\", \"original\": \"all\"}, {\"x_axis\": 0.01741931401193142, \"y_axis\": 0.01784396544098854, \"name\": \"of\", \"original\": \"of\"}, {\"x_axis\": -0.07863379269838333, \"y_axis\": -0.05025743320584297, \"name\": \"become\", \"original\": \"become\"}, {\"x_axis\": 0.03581203892827034, \"y_axis\": -0.02457517571747303, \"name\": \"business\", \"original\": \"business\"}, {\"x_axis\": 0.06679532676935196, \"y_axis\": 0.0498998686671257, \"name\": \"in\", \"original\": \"in\"}, {\"x_axis\": -0.07984772324562073, \"y_axis\": 0.030607465654611588, \"name\": \"religion\", \"original\": \"religion\"}, {\"x_axis\": 0.02886308915913105, \"y_axis\": 0.026036391034722328, \"name\": \"union\", \"original\": \"union\"}, {\"x_axis\": -0.18191052973270416, \"y_axis\": -0.048695508390665054, \"name\": \"science\", \"original\": \"science\"}, {\"x_axis\": 0.24985870718955994, \"y_axis\": 0.2253992259502411, \"name\": \"area\", \"original\": \"area\"}, {\"x_axis\": 0.1529182344675064, \"y_axis\": 0.17591503262519836, \"name\": \"families\", \"original\": \"families\"}]}}, {\"mode\": \"vega-lite\"});\n",
       "</script>"
      ],
      "text/plain": [
       "alt.LayerChart(...)"
      ]
     },
     "execution_count": 28,
     "metadata": {},
     "output_type": "execute_result"
    }
   ],
   "source": [
    "sim_avg.plot_interactive(x_axis=diff, \n",
    "                         y_axis=emb_wiki['local'] - emb_wiki['global'], \n",
    "                         axis_metric='cosine_similarity')"
   ]
  },
  {
   "cell_type": "markdown",
   "metadata": {},
   "source": [
    "Like Koslowski et al, I can calculate cosine similarity between the axes directly. (Note: the Embedding class has a method that does cosine *distance*.)"
   ]
  },
  {
   "cell_type": "code",
   "execution_count": 29,
   "metadata": {},
   "outputs": [],
   "source": [
    "diff_loc = emb_wiki['local'] - emb_wiki['global']"
   ]
  },
  {
   "cell_type": "code",
   "execution_count": 30,
   "metadata": {},
   "outputs": [
    {
     "data": {
      "text/plain": [
       "0.8468398"
      ]
     },
     "execution_count": 30,
     "metadata": {},
     "output_type": "execute_result"
    }
   ],
   "source": [
    "diff.distance(diff_loc, metric='cosine')"
   ]
  },
  {
   "cell_type": "markdown",
   "metadata": {},
   "source": [
    "A bigger comparison set of words might help me see more trends, but will make the plots themselves harder to read."
   ]
  },
  {
   "cell_type": "code",
   "execution_count": 31,
   "metadata": {},
   "outputs": [],
   "source": [
    "sim_avg2 = emb_wiki.embset_similar(avg, n=1000)"
   ]
  },
  {
   "cell_type": "code",
   "execution_count": 32,
   "metadata": {},
   "outputs": [
    {
     "data": {
      "text/html": [
       "\n",
       "<div id=\"altair-viz-a90de8679a3a4cb8bb50ca3850db9906\"></div>\n",
       "<script type=\"text/javascript\">\n",
       "  (function(spec, embedOpt){\n",
       "    let outputDiv = document.currentScript.previousElementSibling;\n",
       "    if (outputDiv.id !== \"altair-viz-a90de8679a3a4cb8bb50ca3850db9906\") {\n",
       "      outputDiv = document.getElementById(\"altair-viz-a90de8679a3a4cb8bb50ca3850db9906\");\n",
       "    }\n",
       "    const paths = {\n",
       "      \"vega\": \"https://cdn.jsdelivr.net/npm//vega@5?noext\",\n",
       "      \"vega-lib\": \"https://cdn.jsdelivr.net/npm//vega-lib?noext\",\n",
       "      \"vega-lite\": \"https://cdn.jsdelivr.net/npm//vega-lite@4.8.1?noext\",\n",
       "      \"vega-embed\": \"https://cdn.jsdelivr.net/npm//vega-embed@6?noext\",\n",
       "    };\n",
       "\n",
       "    function loadScript(lib) {\n",
       "      return new Promise(function(resolve, reject) {\n",
       "        var s = document.createElement('script');\n",
       "        s.src = paths[lib];\n",
       "        s.async = true;\n",
       "        s.onload = () => resolve(paths[lib]);\n",
       "        s.onerror = () => reject(`Error loading script: ${paths[lib]}`);\n",
       "        document.getElementsByTagName(\"head\")[0].appendChild(s);\n",
       "      });\n",
       "    }\n",
       "\n",
       "    function showError(err) {\n",
       "      outputDiv.innerHTML = `<div class=\"error\" style=\"color:red;\">${err}</div>`;\n",
       "      throw err;\n",
       "    }\n",
       "\n",
       "    function displayChart(vegaEmbed) {\n",
       "      vegaEmbed(outputDiv, spec, embedOpt)\n",
       "        .catch(err => showError(`Javascript Error: ${err.message}<br>This usually means there's a typo in your chart specification. See the javascript console for the full traceback.`));\n",
       "    }\n",
       "\n",
       "    if(typeof define === \"function\" && define.amd) {\n",
       "      requirejs.config({paths});\n",
       "      require([\"vega-embed\"], displayChart, err => showError(`Error loading script: ${err.message}`));\n",
       "    } else if (typeof vegaEmbed === \"function\") {\n",
       "      displayChart(vegaEmbed);\n",
       "    } else {\n",
       "      loadScript(\"vega\")\n",
       "        .then(() => loadScript(\"vega-lite\"))\n",
       "        .then(() => loadScript(\"vega-embed\"))\n",
       "        .catch(showError)\n",
       "        .then(() => displayChart(vegaEmbed));\n",
       "    }\n",
       "  })({\"width\": 500, \"height\": 400, \"layer\": [{\"mark\": {\"type\": \"circle\", \"size\": 60}, \"encoding\": {\"color\": {\"type\": \"nominal\", \"field\": \"\", \"legend\": null}, \"tooltip\": [{\"type\": \"nominal\", \"field\": \"name\"}, {\"type\": \"nominal\", \"field\": \"original\"}], \"x\": {\"type\": \"quantitative\", \"axis\": {\"title\": \"(community - society)\"}, \"field\": \"x_axis\"}, \"y\": {\"type\": \"quantitative\", \"axis\": {\"title\": \"avg(community, society)\"}, \"field\": \"y_axis\"}}, \"selection\": {\"selector005\": {\"type\": \"interval\", \"bind\": \"scales\", \"encodings\": [\"x\", \"y\"]}}, \"title\": \"(community - society) vs. avg(community, society)\"}, {\"mark\": {\"type\": \"text\", \"color\": \"black\", \"dx\": -15, \"dy\": 3}, \"encoding\": {\"text\": {\"type\": \"nominal\", \"field\": \"original\"}, \"x\": {\"type\": \"quantitative\", \"field\": \"x_axis\"}, \"y\": {\"type\": \"quantitative\", \"field\": \"y_axis\"}}}], \"data\": {\"name\": \"data-74211e3a236b9353013aaba3630e2c6a\"}, \"$schema\": \"https://vega.github.io/schema/vega-lite/v4.8.1.json\", \"datasets\": {\"data-74211e3a236b9353013aaba3630e2c6a\": [{\"x_axis\": -0.49506866931915283, \"y_axis\": 0.8984881043434143, \"name\": \"society\", \"original\": \"society\"}, {\"x_axis\": 0.4048543870449066, \"y_axis\": 0.8868792057037354, \"name\": \"community\", \"original\": \"community\"}, {\"x_axis\": 0.3442264199256897, \"y_axis\": 0.7118983864784241, \"name\": \"communities\", \"original\": \"communities\"}, {\"x_axis\": -0.34677213430404663, \"y_axis\": 0.7081072330474854, \"name\": \"societies\", \"original\": \"societies\"}, {\"x_axis\": 0.012477339245378971, \"y_axis\": 0.6357155442237854, \"name\": \"established\", \"original\": \"established\"}, {\"x_axis\": -0.1057688519358635, \"y_axis\": 0.6182379722595215, \"name\": \"culture\", \"original\": \"culture\"}, {\"x_axis\": -0.07241656631231308, \"y_axis\": 0.6159939169883728, \"name\": \"social\", \"original\": \"social\"}, {\"x_axis\": 0.08634046465158463, \"y_axis\": 0.6148782968521118, \"name\": \"organizations\", \"original\": \"organizations\"}, {\"x_axis\": -0.00037888105725869536, \"y_axis\": 0.6134245991706848, \"name\": \"organization\", \"original\": \"organization\"}, {\"x_axis\": -0.05392904579639435, \"y_axis\": 0.5949233770370483, \"name\": \"cultural\", \"original\": \"cultural\"}, {\"x_axis\": 0.06270695477724075, \"y_axis\": 0.5941275358200073, \"name\": \"public\", \"original\": \"public\"}, {\"x_axis\": -0.04434828832745552, \"y_axis\": 0.5912646055221558, \"name\": \"founded\", \"original\": \"founded\"}, {\"x_axis\": -0.09270785748958588, \"y_axis\": 0.5882400274276733, \"name\": \"association\", \"original\": \"association\"}, {\"x_axis\": -0.12497644871473312, \"y_axis\": 0.5855342745780945, \"name\": \"institution\", \"original\": \"institution\"}, {\"x_axis\": 0.04410558193922043, \"y_axis\": 0.5776381492614746, \"name\": \"country\", \"original\": \"country\"}, {\"x_axis\": -0.1893494576215744, \"y_axis\": 0.5768893957138062, \"name\": \"life\", \"original\": \"life\"}, {\"x_axis\": 0.032044071704149246, \"y_axis\": 0.5763185620307922, \"name\": \"citizens\", \"original\": \"citizens\"}, {\"x_axis\": 0.1338246464729309, \"y_axis\": 0.5747148394584656, \"name\": \"local\", \"original\": \"local\"}, {\"x_axis\": 0.10635046660900116, \"y_axis\": 0.5738731622695923, \"name\": \"part\", \"original\": \"part\"}, {\"x_axis\": -0.03183557838201523, \"y_axis\": 0.57378751039505, \"name\": \"the\", \"original\": \"the\"}, {\"x_axis\": 0.0446823313832283, \"y_axis\": 0.5733246803283691, \"name\": \"education\", \"original\": \"education\"}, {\"x_axis\": 0.013806726783514023, \"y_axis\": 0.5715380311012268, \"name\": \"institutions\", \"original\": \"institutions\"}, {\"x_axis\": 0.05180126428604126, \"y_axis\": 0.5709089040756226, \"name\": \"well\", \"original\": \"well\"}, {\"x_axis\": -0.068821482360363, \"y_axis\": 0.5705286860466003, \"name\": \"member\", \"original\": \"member\"}, {\"x_axis\": -0.02356056310236454, \"y_axis\": 0.5690096616744995, \"name\": \"establishment\", \"original\": \"establishment\"}, {\"x_axis\": 0.08449303358793259, \"y_axis\": 0.5678063035011292, \"name\": \"educational\", \"original\": \"educational\"}, {\"x_axis\": 0.099309042096138, \"y_axis\": 0.5674905180931091, \"name\": \"council\", \"original\": \"council\"}, {\"x_axis\": -0.10860244184732437, \"y_axis\": 0.5660229325294495, \"name\": \"american\", \"original\": \"american\"}, {\"x_axis\": 0.025501402094960213, \"y_axis\": 0.5636746883392334, \"name\": \"nation\", \"original\": \"nation\"}, {\"x_axis\": -0.1072055920958519, \"y_axis\": 0.5616464018821716, \"name\": \"national\", \"original\": \"national\"}, {\"x_axis\": -0.05145476385951042, \"y_axis\": 0.559431254863739, \"name\": \"organized\", \"original\": \"organized\"}, {\"x_axis\": -0.01904390938580036, \"y_axis\": 0.5593816041946411, \"name\": \"international\", \"original\": \"international\"}, {\"x_axis\": 0.0005782843218185008, \"y_axis\": 0.5585923194885254, \"name\": \"religious\", \"original\": \"religious\"}, {\"x_axis\": 0.09012092649936676, \"y_axis\": 0.5521698594093323, \"name\": \"people\", \"original\": \"people\"}, {\"x_axis\": 0.021525532007217407, \"y_axis\": 0.5502648949623108, \"name\": \"which\", \"original\": \"which\"}, {\"x_axis\": 0.07566552609205246, \"y_axis\": 0.5497080087661743, \"name\": \"many\", \"original\": \"many\"}, {\"x_axis\": 0.029575174674391747, \"y_axis\": 0.5492575168609619, \"name\": \"youth\", \"original\": \"youth\"}, {\"x_axis\": 0.04028725251555443, \"y_axis\": 0.5486956238746643, \"name\": \"concerned\", \"original\": \"concerned\"}, {\"x_axis\": -0.21539321541786194, \"y_axis\": 0.5477816462516785, \"name\": \"institute\", \"original\": \"institute\"}, {\"x_axis\": 0.03491973504424095, \"y_axis\": 0.5472822189331055, \"name\": \"members\", \"original\": \"members\"}, {\"x_axis\": -0.053387027233839035, \"y_axis\": 0.5467982292175293, \"name\": \"arts\", \"original\": \"arts\"}, {\"x_axis\": 0.1669006496667862, \"y_axis\": 0.542543888092041, \"name\": \"within\", \"original\": \"within\"}, {\"x_axis\": 0.08248843997716904, \"y_axis\": 0.5424885749816895, \"name\": \"is\", \"original\": \"is\"}, {\"x_axis\": 0.049062225967645645, \"y_axis\": 0.5422908663749695, \"name\": \"nonprofit\", \"original\": \"nonprofit\"}, {\"x_axis\": 0.0361216738820076, \"y_axis\": 0.5416373014450073, \"name\": \"particular\", \"original\": \"particular\"}, {\"x_axis\": -0.11454138159751892, \"y_axis\": 0.5406358242034912, \"name\": \"foundation\", \"original\": \"foundation\"}, {\"x_axis\": 0.06811273843050003, \"y_axis\": 0.5387965440750122, \"name\": \"now\", \"original\": \"now\"}, {\"x_axis\": 0.13014964759349823, \"y_axis\": 0.5380068421363831, \"name\": \"development\", \"original\": \"development\"}, {\"x_axis\": 0.09644710272550583, \"y_axis\": 0.5370649695396423, \"name\": \"leaders\", \"original\": \"leaders\"}, {\"x_axis\": -0.0009144524810835719, \"y_axis\": 0.5367429256439209, \"name\": \"and\", \"original\": \"and\"}, {\"x_axis\": 0.03116988018155098, \"y_axis\": 0.5356765985488892, \"name\": \"working\", \"original\": \"working\"}, {\"x_axis\": 0.0694141685962677, \"y_axis\": 0.5355296730995178, \"name\": \"growing\", \"original\": \"growing\"}, {\"x_axis\": 0.09238214045763016, \"y_axis\": 0.5352967381477356, \"name\": \"where\", \"original\": \"where\"}, {\"x_axis\": 0.05938534811139107, \"y_axis\": 0.5352596044540405, \"name\": \"groups\", \"original\": \"groups\"}, {\"x_axis\": 0.007380560971796513, \"y_axis\": 0.534902811050415, \"name\": \"interests\", \"original\": \"interests\"}, {\"x_axis\": -0.11438219249248505, \"y_axis\": 0.534040629863739, \"name\": \"\\u201d\", \"original\": \"\\u201d\"}, {\"x_axis\": -0.11156316846609116, \"y_axis\": 0.5337904095649719, \"name\": \"nature\", \"original\": \"nature\"}, {\"x_axis\": 0.15856808423995972, \"y_axis\": 0.5332754850387573, \"name\": \"schools\", \"original\": \"schools\"}, {\"x_axis\": 0.042373158037662506, \"y_axis\": 0.5317462086677551, \"name\": \"important\", \"original\": \"important\"}, {\"x_axis\": 0.09060627222061157, \"y_axis\": 0.5312860608100891, \"name\": \"united\", \"original\": \"united\"}, {\"x_axis\": -0.004502297379076481, \"y_axis\": 0.5306787490844727, \"name\": \"based\", \"original\": \"based\"}, {\"x_axis\": 0.025012576952576637, \"y_axis\": 0.5304015874862671, \"name\": \"today\", \"original\": \"today\"}, {\"x_axis\": 0.022565806284546852, \"y_axis\": 0.530320942401886, \"name\": \".\", \"original\": \".\"}, {\"x_axis\": 0.051834434270858765, \"y_axis\": 0.5299190282821655, \"name\": \"recognized\", \"original\": \"recognized\"}, {\"x_axis\": 0.1564878523349762, \"y_axis\": 0.5297549962997437, \"name\": \"population\", \"original\": \"population\"}, {\"x_axis\": -0.0016685229493305087, \"y_axis\": 0.5295963287353516, \"name\": \"work\", \"original\": \"work\"}, {\"x_axis\": 0.053283751010894775, \"y_axis\": 0.5290694236755371, \"name\": \"leadership\", \"original\": \"leadership\"}, {\"x_axis\": -0.15847907960414886, \"y_axis\": 0.528390645980835, \"name\": \"scientific\", \"original\": \"scientific\"}, {\"x_axis\": 0.07115551829338074, \"y_axis\": 0.5282695293426514, \"name\": \"organisations\", \"original\": \"organisations\"}, {\"x_axis\": 0.027951080352067947, \"y_axis\": 0.5271035432815552, \"name\": \"non-profit\", \"original\": \"non-profit\"}, {\"x_axis\": 0.017593760043382645, \"y_axis\": 0.526999831199646, \"name\": \"promote\", \"original\": \"promote\"}, {\"x_axis\": 0.02214205265045166, \"y_axis\": 0.5260582566261292, \"name\": \"associations\", \"original\": \"associations\"}, {\"x_axis\": 0.03524039685726166, \"y_axis\": 0.5259002447128296, \"name\": \"should\", \"original\": \"should\"}, {\"x_axis\": 0.05288543179631233, \"y_axis\": 0.5255671143531799, \"name\": \"especially\", \"original\": \"especially\"}, {\"x_axis\": 0.046808235347270966, \"y_axis\": 0.5251984596252441, \"name\": \"lives\", \"original\": \"lives\"}, {\"x_axis\": 0.0382792092859745, \"y_axis\": 0.52333664894104, \"name\": \"among\", \"original\": \"among\"}, {\"x_axis\": 0.05477634444832802, \"y_axis\": 0.5232610106468201, \"name\": \"civic\", \"original\": \"civic\"}, {\"x_axis\": 0.016155049204826355, \"y_axis\": 0.5218974351882935, \"name\": \"living\", \"original\": \"living\"}, {\"x_axis\": 0.10065217316150665, \"y_axis\": 0.5214856266975403, \"name\": \"has\", \"original\": \"has\"}, {\"x_axis\": 0.0697072297334671, \"y_axis\": 0.5209077596664429, \"name\": \"both\", \"original\": \"both\"}, {\"x_axis\": 0.08525281399488449, \"y_axis\": 0.52074134349823, \"name\": \"also\", \"original\": \"also\"}, {\"x_axis\": -0.017996830865740776, \"y_axis\": 0.5202661752700806, \"name\": \"\\u2019s\", \"original\": \"\\u2019s\"}, {\"x_axis\": -0.04665873572230339, \"y_axis\": 0.5197372436523438, \"name\": \"heritage\", \"original\": \"heritage\"}, {\"x_axis\": -0.059432320296764374, \"y_axis\": 0.5197196006774902, \"name\": \"trust\", \"original\": \"trust\"}, {\"x_axis\": 0.030491119250655174, \"y_axis\": 0.5196287631988525, \"name\": \"way\", \"original\": \"way\"}, {\"x_axis\": 0.06588539481163025, \"y_axis\": 0.5193777680397034, \"name\": \"hope\", \"original\": \"hope\"}, {\"x_axis\": 0.18417058885097504, \"y_axis\": 0.5191248655319214, \"name\": \"support\", \"original\": \"support\"}, {\"x_axis\": 0.025029921904206276, \"y_axis\": 0.5188126564025879, \"name\": \"our\", \"original\": \"our\"}, {\"x_axis\": 0.11425744742155075, \"y_axis\": 0.5179721713066101, \"name\": \"church\", \"original\": \"church\"}, {\"x_axis\": 0.0013598798541352153, \"y_axis\": 0.5170495510101318, \"name\": \"common\", \"original\": \"common\"}, {\"x_axis\": 0.0490068756043911, \"y_axis\": 0.5166446566581726, \"name\": \"all\", \"original\": \"all\"}, {\"x_axis\": 0.01741931401193142, \"y_axis\": 0.5161910653114319, \"name\": \"of\", \"original\": \"of\"}, {\"x_axis\": -0.07863379269838333, \"y_axis\": 0.516098141670227, \"name\": \"become\", \"original\": \"become\"}, {\"x_axis\": 0.03581203892827034, \"y_axis\": 0.5159051418304443, \"name\": \"business\", \"original\": \"business\"}, {\"x_axis\": 0.06679532676935196, \"y_axis\": 0.514344334602356, \"name\": \"in\", \"original\": \"in\"}, {\"x_axis\": -0.07984772324562073, \"y_axis\": 0.5134539008140564, \"name\": \"religion\", \"original\": \"religion\"}, {\"x_axis\": 0.02886308915913105, \"y_axis\": 0.5133044719696045, \"name\": \"union\", \"original\": \"union\"}, {\"x_axis\": -0.18191052973270416, \"y_axis\": 0.5129079818725586, \"name\": \"science\", \"original\": \"science\"}, {\"x_axis\": 0.24985870718955994, \"y_axis\": 0.5118703246116638, \"name\": \"area\", \"original\": \"area\"}, {\"x_axis\": 0.1529182344675064, \"y_axis\": 0.5116947889328003, \"name\": \"families\", \"original\": \"families\"}, {\"x_axis\": -0.013646170496940613, \"y_axis\": 0.5110440850257874, \"name\": \"example\", \"original\": \"example\"}, {\"x_axis\": 0.050380103290081024, \"y_axis\": 0.5107865929603577, \"name\": \"own\", \"original\": \"own\"}, {\"x_axis\": 0.045305222272872925, \"y_axis\": 0.510378897190094, \"name\": \"that\", \"original\": \"that\"}, {\"x_axis\": 0.15642179548740387, \"y_axis\": 0.5103713274002075, \"name\": \"efforts\", \"original\": \"efforts\"}, {\"x_axis\": -0.11631549894809723, \"y_axis\": 0.5100043416023254, \"name\": \"historical\", \"original\": \"historical\"}, {\"x_axis\": 0.1536940038204193, \"y_axis\": 0.5099673867225647, \"name\": \"needs\", \"original\": \"needs\"}, {\"x_axis\": -0.1540207713842392, \"y_axis\": 0.5099320411682129, \"name\": \"history\", \"original\": \"history\"}, {\"x_axis\": 0.058828022330999374, \"y_axis\": 0.509716808795929, \"name\": \"catholic\", \"original\": \"catholic\"}, {\"x_axis\": 0.14479704201221466, \"y_axis\": 0.5093127489089966, \"name\": \"jewish\", \"original\": \"jewish\"}, {\"x_axis\": 0.08581197261810303, \"y_axis\": 0.5088244676589966, \"name\": \"center\", \"original\": \"center\"}, {\"x_axis\": 0.009533674456179142, \"y_axis\": 0.5083267092704773, \"name\": \"whole\", \"original\": \"whole\"}, {\"x_axis\": 0.06764443218708038, \"y_axis\": 0.508137047290802, \"name\": \"greater\", \"original\": \"greater\"}, {\"x_axis\": 0.012881395407021046, \"y_axis\": 0.5079096555709839, \"name\": \"for\", \"original\": \"for\"}, {\"x_axis\": 0.02684468775987625, \"y_axis\": 0.5071305632591248, \"name\": \"this\", \"original\": \"this\"}, {\"x_axis\": -0.00889676995575428, \"y_axis\": 0.5064405798912048, \"name\": \"benefit\", \"original\": \"benefit\"}, {\"x_axis\": -0.02516218088567257, \"y_axis\": 0.5063239336013794, \"name\": \"understand\", \"original\": \"understand\"}, {\"x_axis\": 0.02128021791577339, \"y_axis\": 0.5062432885169983, \"name\": \"view\", \"original\": \"view\"}, {\"x_axis\": -0.10709243267774582, \"y_axis\": 0.5061629414558411, \"name\": \"\\u201c\", \"original\": \"\\u201c\"}, {\"x_axis\": 0.06635428965091705, \"y_axis\": 0.5060450434684753, \"name\": \"family\", \"original\": \"family\"}, {\"x_axis\": 0.05979270488023758, \"y_axis\": 0.5057500004768372, \"name\": \"other\", \"original\": \"other\"}, {\"x_axis\": -0.09029801934957504, \"y_axis\": 0.505578339099884, \"name\": \"preservation\", \"original\": \"preservation\"}, {\"x_axis\": 0.17181767523288727, \"y_axis\": 0.5052769184112549, \"name\": \"regional\", \"original\": \"regional\"}, {\"x_axis\": 0.040854159742593765, \"y_axis\": 0.5045173168182373, \"name\": \"african\", \"original\": \"african\"}, {\"x_axis\": 0.058162622153759, \"y_axis\": 0.5044336318969727, \"name\": \"it\", \"original\": \"it\"}, {\"x_axis\": -0.02673853002488613, \"y_axis\": 0.5041413903236389, \"name\": \"organisation\", \"original\": \"organisation\"}, {\"x_axis\": -0.046563949435949326, \"y_axis\": 0.503279447555542, \"name\": \"context\", \"original\": \"context\"}, {\"x_axis\": 0.023363323882222176, \"y_axis\": 0.5026978254318237, \"name\": \"not\", \"original\": \"not\"}, {\"x_axis\": -0.07288490980863571, \"y_axis\": 0.5026109218597412, \"name\": \"itself\", \"original\": \"itself\"}, {\"x_axis\": 0.045129839330911636, \"y_axis\": 0.502348005771637, \"name\": \"establish\", \"original\": \"establish\"}, {\"x_axis\": 0.011270072311162949, \"y_axis\": 0.502081573009491, \"name\": \"dedicated\", \"original\": \"dedicated\"}, {\"x_axis\": 0.14303307235240936, \"y_axis\": 0.5017170310020447, \"name\": \"school\", \"original\": \"school\"}, {\"x_axis\": -0.06286023557186127, \"y_axis\": 0.5015394687652588, \"name\": \"medical\", \"original\": \"medical\"}, {\"x_axis\": -0.02427101694047451, \"y_axis\": 0.5012738704681396, \"name\": \"fact\", \"original\": \"fact\"}, {\"x_axis\": 0.005695055238902569, \"y_axis\": 0.5011447072029114, \"name\": \"college\", \"original\": \"college\"}, {\"x_axis\": -0.11495237052440643, \"y_axis\": 0.5010620951652527, \"name\": \"founding\", \"original\": \"founding\"}, {\"x_axis\": 0.09717195481061935, \"y_axis\": 0.5006392598152161, \"name\": \"called\", \"original\": \"called\"}, {\"x_axis\": -0.016757532954216003, \"y_axis\": 0.5005419254302979, \"name\": \"health\", \"original\": \"health\"}, {\"x_axis\": -0.06752371042966843, \"y_axis\": 0.5000496506690979, \"name\": \"america\", \"original\": \"america\"}, {\"x_axis\": 0.14992451667785645, \"y_axis\": 0.49953892827033997, \"name\": \"small\", \"original\": \"small\"}, {\"x_axis\": 0.02964591607451439, \"y_axis\": 0.49896571040153503, \"name\": \"most\", \"original\": \"most\"}, {\"x_axis\": 0.03671039640903473, \"y_axis\": 0.49895957112312317, \"name\": \",\", \"original\": \",\"}, {\"x_axis\": 0.053609203547239304, \"y_axis\": 0.49802225828170776, \"name\": \"diverse\", \"original\": \"diverse\"}, {\"x_axis\": -0.14622381329536438, \"y_axis\": 0.4975720942020416, \"name\": \"art\", \"original\": \"art\"}, {\"x_axis\": -0.014910113997757435, \"y_axis\": 0.4973998963832855, \"name\": \"these\", \"original\": \"these\"}, {\"x_axis\": 0.005517037585377693, \"y_axis\": 0.4969186782836914, \"name\": \"very\", \"original\": \"very\"}, {\"x_axis\": -0.18397098779678345, \"y_axis\": 0.49674132466316223, \"name\": \"academy\", \"original\": \"academy\"}, {\"x_axis\": -0.10935092717409134, \"y_axis\": 0.4959765374660492, \"name\": \"study\", \"original\": \"study\"}, {\"x_axis\": 0.051371019333601, \"y_axis\": 0.4959055185317993, \"name\": \"particularly\", \"original\": \"particularly\"}, {\"x_axis\": 0.1170036569237709, \"y_axis\": 0.4951574206352234, \"name\": \"students\", \"original\": \"students\"}, {\"x_axis\": 0.10864447802305222, \"y_axis\": 0.4949077367782593, \"name\": \"western\", \"original\": \"western\"}, {\"x_axis\": -0.016673456877470016, \"y_axis\": 0.49478331208229065, \"name\": \"present\", \"original\": \"present\"}, {\"x_axis\": 0.016202300786972046, \"y_axis\": 0.4945234954357147, \"name\": \"must\", \"original\": \"must\"}, {\"x_axis\": 0.05789495259523392, \"y_axis\": 0.49444377422332764, \"name\": \"urban\", \"original\": \"urban\"}, {\"x_axis\": 0.08270220458507538, \"y_axis\": 0.49393734335899353, \"name\": \"need\", \"original\": \"need\"}, {\"x_axis\": -0.003226292785257101, \"y_axis\": 0.4936918020248413, \"name\": \"regard\", \"original\": \"regard\"}, {\"x_axis\": 0.07465134561061859, \"y_axis\": 0.49321115016937256, \"name\": \"faith\", \"original\": \"faith\"}, {\"x_axis\": -0.0905613899230957, \"y_axis\": 0.4930434226989746, \"name\": \"understanding\", \"original\": \"understanding\"}, {\"x_axis\": -0.03185398131608963, \"y_axis\": 0.49263712763786316, \"name\": \"civil\", \"original\": \"civil\"}, {\"x_axis\": 0.09016234427690506, \"y_axis\": 0.4926319718360901, \"name\": \"encourage\", \"original\": \"encourage\"}, {\"x_axis\": 0.027848079800605774, \"y_axis\": 0.49192067980766296, \"name\": \"same\", \"original\": \"same\"}, {\"x_axis\": 0.025950482115149498, \"y_axis\": 0.4918692708015442, \"name\": \"children\", \"original\": \"children\"}, {\"x_axis\": 0.08401193469762802, \"y_axis\": 0.4916534721851349, \"name\": \"there\", \"original\": \"there\"}, {\"x_axis\": 0.0810675173997879, \"y_axis\": 0.4914252460002899, \"name\": \"activities\", \"original\": \"activities\"}, {\"x_axis\": -0.18238601088523865, \"y_axis\": 0.4911673665046692, \"name\": \"politics\", \"original\": \"politics\"}, {\"x_axis\": 0.030015762895345688, \"y_axis\": 0.49108126759529114, \"name\": \"what\", \"original\": \"what\"}, {\"x_axis\": -0.0057450272142887115, \"y_axis\": 0.4910007119178772, \"name\": \"individuals\", \"original\": \"individuals\"}, {\"x_axis\": -0.045935437083244324, \"y_axis\": 0.49095648527145386, \"name\": \"peoples\", \"original\": \"peoples\"}, {\"x_axis\": 0.08209631592035294, \"y_axis\": 0.4908786714076996, \"name\": \"student\", \"original\": \"student\"}, {\"x_axis\": 0.0322268009185791, \"y_axis\": 0.49066412448883057, \"name\": \"creation\", \"original\": \"creation\"}, {\"x_axis\": 0.07616215944290161, \"y_axis\": 0.49059343338012695, \"name\": \"countries\", \"original\": \"countries\"}, {\"x_axis\": -0.13474121689796448, \"y_axis\": 0.49057257175445557, \"name\": \"modern\", \"original\": \"modern\"}, {\"x_axis\": 0.11386135965585709, \"y_axis\": 0.4893585443496704, \"name\": \"help\", \"original\": \"help\"}, {\"x_axis\": -0.1292615383863449, \"y_axis\": 0.4892912805080414, \"name\": \"contemporary\", \"original\": \"contemporary\"}, {\"x_axis\": -0.06520450115203857, \"y_axis\": 0.4886188209056854, \"name\": \"world\", \"original\": \"world\"}, {\"x_axis\": -0.0936320498585701, \"y_axis\": 0.4885842204093933, \"name\": \"tradition\", \"original\": \"tradition\"}, {\"x_axis\": 0.0252083670347929, \"y_axis\": 0.4884389638900757, \"name\": \"importance\", \"original\": \"importance\"}, {\"x_axis\": 0.0988326296210289, \"y_axis\": 0.4882062077522278, \"name\": \"encouraged\", \"original\": \"encouraged\"}, {\"x_axis\": 0.15686185657978058, \"y_axis\": 0.48796987533569336, \"name\": \"initiative\", \"original\": \"initiative\"}, {\"x_axis\": 0.09655898809432983, \"y_axis\": 0.4876543879508972, \"name\": \"states\", \"original\": \"states\"}, {\"x_axis\": 0.050977759063243866, \"y_axis\": 0.4876498281955719, \"name\": \"entire\", \"original\": \"entire\"}, {\"x_axis\": 0.03288371115922928, \"y_axis\": 0.48730871081352234, \"name\": \"respect\", \"original\": \"respect\"}, {\"x_axis\": 0.04847097396850586, \"y_axis\": 0.4871613681316376, \"name\": \"active\", \"original\": \"active\"}, {\"x_axis\": 0.013612368144094944, \"y_axis\": 0.4870811700820923, \"name\": \"kind\", \"original\": \"kind\"}, {\"x_axis\": 0.01812484860420227, \"y_axis\": 0.4869457483291626, \"name\": \"academic\", \"original\": \"academic\"}, {\"x_axis\": -0.039609987288713455, \"y_axis\": 0.48679032921791077, \"name\": \"truly\", \"original\": \"truly\"}, {\"x_axis\": 0.015162177383899689, \"y_axis\": 0.4865310788154602, \"name\": \"create\", \"original\": \"create\"}, {\"x_axis\": 0.05815822258591652, \"y_axis\": 0.48614951968193054, \"name\": \"only\", \"original\": \"only\"}, {\"x_axis\": 0.04302739351987839, \"y_axis\": 0.48605769872665405, \"name\": \"but\", \"original\": \"but\"}, {\"x_axis\": -0.035231295973062515, \"y_axis\": 0.4859747588634491, \"name\": \"political\", \"original\": \"political\"}, {\"x_axis\": 0.16293886303901672, \"y_axis\": 0.4853864908218384, \"name\": \"primarily\", \"original\": \"primarily\"}, {\"x_axis\": 0.05463114008307457, \"y_axis\": 0.4850386083126068, \"name\": \"because\", \"original\": \"because\"}, {\"x_axis\": 0.026001745834946632, \"y_axis\": 0.4846932888031006, \"name\": \"government\", \"original\": \"government\"}, {\"x_axis\": 0.006302058231085539, \"y_axis\": 0.4844847321510315, \"name\": \"prominent\", \"original\": \"prominent\"}, {\"x_axis\": -0.06009351834654808, \"y_axis\": 0.4840078055858612, \"name\": \"multicultural\", \"original\": \"multicultural\"}, {\"x_axis\": 0.07381048798561096, \"y_axis\": 0.4835200905799866, \"name\": \"city\", \"original\": \"city\"}, {\"x_axis\": 0.0335681326687336, \"y_axis\": 0.48318740725517273, \"name\": \"developed\", \"original\": \"developed\"}, {\"x_axis\": 0.05939481407403946, \"y_axis\": 0.48290884494781494, \"name\": \"care\", \"original\": \"care\"}, {\"x_axis\": 0.09519083052873611, \"y_axis\": 0.48244795203208923, \"name\": \"governments\", \"original\": \"governments\"}, {\"x_axis\": 0.028511328622698784, \"y_axis\": 0.48229244351387024, \"name\": \"such\", \"original\": \"such\"}, {\"x_axis\": -0.10426828265190125, \"y_axis\": 0.4819889962673187, \"name\": \"human\", \"original\": \"human\"}, {\"x_axis\": 0.035457707941532135, \"y_axis\": 0.4819292724132538, \"name\": \"to\", \"original\": \"to\"}, {\"x_axis\": 0.0860934630036354, \"y_axis\": 0.4815922975540161, \"name\": \"muslim\", \"original\": \"muslim\"}, {\"x_axis\": 0.06203937903046608, \"y_axis\": 0.4815652072429657, \"name\": \"have\", \"original\": \"have\"}, {\"x_axis\": 0.0005319339106790721, \"y_axis\": 0.48150575160980225, \"name\": \"various\", \"original\": \"various\"}, {\"x_axis\": -0.0077184829860925674, \"y_axis\": 0.4813665449619293, \"name\": \"he\", \"original\": \"he\"}, {\"x_axis\": 0.027584781870245934, \"y_axis\": 0.4813443124294281, \"name\": \"as\", \"original\": \"as\"}, {\"x_axis\": -0.1127043068408966, \"y_axis\": 0.48067596554756165, \"name\": \"studies\", \"original\": \"studies\"}, {\"x_axis\": 0.013365411199629307, \"y_axis\": 0.4806538224220276, \"name\": \"diversity\", \"original\": \"diversity\"}, {\"x_axis\": -0.11096053570508957, \"y_axis\": 0.4804249405860901, \"name\": \"democracy\", \"original\": \"democracy\"}, {\"x_axis\": 0.009678030386567116, \"y_axis\": 0.48027026653289795, \"name\": \"creating\", \"original\": \"creating\"}, {\"x_axis\": 0.023360593244433403, \"y_axis\": 0.4799101948738098, \"name\": \"believe\", \"original\": \"believe\"}, {\"x_axis\": 0.06865078210830688, \"y_axis\": 0.47942808270454407, \"name\": \"forum\", \"original\": \"forum\"}, {\"x_axis\": -0.025404907763004303, \"y_axis\": 0.4793719947338104, \"name\": \"created\", \"original\": \"created\"}, {\"x_axis\": -0.04222436249256134, \"y_axis\": 0.47908473014831543, \"name\": \"change\", \"original\": \"change\"}, {\"x_axis\": 0.2717187702655792, \"y_axis\": 0.47853007912635803, \"name\": \"residents\", \"original\": \"residents\"}, {\"x_axis\": 0.019776275381445885, \"y_axis\": 0.4785064160823822, \"name\": \"traditional\", \"original\": \"traditional\"}, {\"x_axis\": 0.007519151084125042, \"y_axis\": 0.47827592492103577, \"name\": \"rather\", \"original\": \"rather\"}, {\"x_axis\": 0.04746123030781746, \"y_axis\": 0.4782620966434479, \"name\": \"represents\", \"original\": \"represents\"}, {\"x_axis\": 0.15431329607963562, \"y_axis\": 0.47814252972602844, \"name\": \"parents\", \"original\": \"parents\"}, {\"x_axis\": 0.07886099070310593, \"y_axis\": 0.4779413938522339, \"name\": \"means\", \"original\": \"means\"}, {\"x_axis\": 0.11652341485023499, \"y_axis\": 0.4777512848377228, \"name\": \"addition\", \"original\": \"addition\"}, {\"x_axis\": 0.04306834563612938, \"y_axis\": 0.47769516706466675, \"name\": \"more\", \"original\": \"more\"}, {\"x_axis\": -0.03319195285439491, \"y_axis\": 0.47700974345207214, \"name\": \"environment\", \"original\": \"environment\"}, {\"x_axis\": 0.06523747742176056, \"y_axis\": 0.4765264093875885, \"name\": \"a\", \"original\": \"a\"}, {\"x_axis\": 0.058081816881895065, \"y_axis\": 0.47643908858299255, \"name\": \"christian\", \"original\": \"christian\"}, {\"x_axis\": 0.02134210430085659, \"y_axis\": 0.47610464692115784, \"name\": \"great\", \"original\": \"great\"}, {\"x_axis\": -0.20535777509212494, \"y_axis\": 0.47575199604034424, \"name\": \"literature\", \"original\": \"literature\"}, {\"x_axis\": 0.009242828004062176, \"y_axis\": 0.4756051003932953, \"name\": \"represent\", \"original\": \"represent\"}, {\"x_axis\": -0.12945808470249176, \"y_axis\": 0.4755776524543762, \"name\": \"becoming\", \"original\": \"becoming\"}, {\"x_axis\": -0.14125283062458038, \"y_axis\": 0.47543424367904663, \"name\": \"advancement\", \"original\": \"advancement\"}, {\"x_axis\": -0.039446618407964706, \"y_axis\": 0.475422203540802, \"name\": \"how\", \"original\": \"how\"}, {\"x_axis\": 0.021962309256196022, \"y_axis\": 0.4752368927001953, \"name\": \"involved\", \"original\": \"involved\"}, {\"x_axis\": -0.06412246823310852, \"y_axis\": 0.47520652413368225, \"name\": \"became\", \"original\": \"became\"}, {\"x_axis\": 0.011344809085130692, \"y_axis\": 0.47512078285217285, \"name\": \"new\", \"original\": \"new\"}, {\"x_axis\": 0.09184233844280243, \"y_axis\": 0.47489961981773376, \"name\": \"focused\", \"original\": \"focused\"}, {\"x_axis\": 0.01389363408088684, \"y_axis\": 0.47483372688293457, \"name\": \"interest\", \"original\": \"interest\"}, {\"x_axis\": -0.06604364514350891, \"y_axis\": 0.4742693603038788, \"name\": \"indeed\", \"original\": \"indeed\"}, {\"x_axis\": 0.006910440046340227, \"y_axis\": 0.4741115868091583, \"name\": \"they\", \"original\": \"they\"}, {\"x_axis\": 0.05361972376704216, \"y_axis\": 0.4739508628845215, \"name\": \"private\", \"original\": \"private\"}, {\"x_axis\": 0.023798929527401924, \"y_axis\": 0.4739331305027008, \"name\": \"membership\", \"original\": \"membership\"}, {\"x_axis\": 0.07240573316812515, \"y_axis\": 0.4737829267978668, \"name\": \"participate\", \"original\": \"participate\"}, {\"x_axis\": -0.03206724673509598, \"y_axis\": 0.4737701117992401, \"name\": \"knowledge\", \"original\": \"knowledge\"}, {\"x_axis\": 0.057661544531583786, \"y_axis\": 0.4735170006752014, \"name\": \"professionals\", \"original\": \"professionals\"}, {\"x_axis\": 0.022890709340572357, \"y_axis\": 0.47289323806762695, \"name\": \"library\", \"original\": \"library\"}, {\"x_axis\": 0.08069554716348648, \"y_axis\": 0.47280868887901306, \"name\": \"significant\", \"original\": \"significant\"}, {\"x_axis\": 0.02103598043322563, \"y_axis\": 0.47277501225471497, \"name\": \"much\", \"original\": \"much\"}, {\"x_axis\": 0.2055307775735855, \"y_axis\": 0.47168558835983276, \"name\": \"areas\", \"original\": \"areas\"}, {\"x_axis\": -0.01291790883988142, \"y_axis\": 0.47140559554100037, \"name\": \"amongst\", \"original\": \"amongst\"}, {\"x_axis\": 0.015033756382763386, \"y_axis\": 0.4711780250072479, \"name\": \"responsible\", \"original\": \"responsible\"}, {\"x_axis\": -0.09084595739841461, \"y_axis\": 0.4709169864654541, \"name\": \"research\", \"original\": \"research\"}, {\"x_axis\": 0.0392354354262352, \"y_axis\": 0.47081100940704346, \"name\": \"known\", \"original\": \"known\"}, {\"x_axis\": -0.099490687251091, \"y_axis\": 0.47065362334251404, \"name\": \"traditions\", \"original\": \"traditions\"}, {\"x_axis\": -0.13438735902309418, \"y_axis\": 0.4705829620361328, \"name\": \"literary\", \"original\": \"literary\"}, {\"x_axis\": -0.013848371803760529, \"y_axis\": 0.4701763987541199, \"name\": \"awareness\", \"original\": \"awareness\"}, {\"x_axis\": 0.04002653807401657, \"y_axis\": 0.4698464572429657, \"name\": \"recognition\", \"original\": \"recognition\"}, {\"x_axis\": 0.09181410074234009, \"y_axis\": 0.4698423743247986, \"name\": \"centre\", \"original\": \"centre\"}, {\"x_axis\": 0.0441444031894207, \"y_axis\": 0.4697873592376709, \"name\": \"although\", \"original\": \"although\"}, {\"x_axis\": 0.10535954684019089, \"y_axis\": 0.4693753719329834, \"name\": \"large\", \"original\": \"large\"}, {\"x_axis\": 0.13194778561592102, \"y_axis\": 0.4692860245704651, \"name\": \"learning\", \"original\": \"learning\"}, {\"x_axis\": 0.08487341552972794, \"y_axis\": 0.4690872132778168, \"name\": \"advocacy\", \"original\": \"advocacy\"}, {\"x_axis\": 0.12575790286064148, \"y_axis\": 0.4690294563770294, \"name\": \"continuing\", \"original\": \"continuing\"}, {\"x_axis\": 0.01888909935951233, \"y_axis\": 0.4688597321510315, \"name\": \"teaching\", \"original\": \"teaching\"}, {\"x_axis\": -0.03284969553351402, \"y_axis\": 0.468802273273468, \"name\": \"influential\", \"original\": \"influential\"}, {\"x_axis\": 0.07990585267543793, \"y_axis\": 0.4686967432498932, \"name\": \"services\", \"original\": \"services\"}, {\"x_axis\": -0.06747828423976898, \"y_axis\": 0.4685244858264923, \"name\": \"\\u2014\", \"original\": \"\\u2014\"}, {\"x_axis\": 0.16282667219638824, \"y_axis\": 0.4683825373649597, \"name\": \"town\", \"original\": \"town\"}, {\"x_axis\": 0.07393936812877655, \"y_axis\": 0.46830567717552185, \"name\": \"colleges\", \"original\": \"colleges\"}, {\"x_axis\": 0.1679682433605194, \"y_axis\": 0.46799734234809875, \"name\": \"across\", \"original\": \"across\"}, {\"x_axis\": 0.10051817446947098, \"y_axis\": 0.46782374382019043, \"name\": \"throughout\", \"original\": \"throughout\"}, {\"x_axis\": 0.032970089465379715, \"y_axis\": 0.46763017773628235, \"name\": \"one\", \"original\": \"one\"}, {\"x_axis\": -0.24709613621234894, \"y_axis\": 0.46757742762565613, \"name\": \"sciences\", \"original\": \"sciences\"}, {\"x_axis\": 0.11102256178855896, \"y_axis\": 0.4674856662750244, \"name\": \"bring\", \"original\": \"bring\"}, {\"x_axis\": 0.1198171004652977, \"y_axis\": 0.4674592912197113, \"name\": \"native\", \"original\": \"native\"}, {\"x_axis\": 0.09162582457065582, \"y_axis\": 0.4674225151538849, \"name\": \"focus\", \"original\": \"focus\"}, {\"x_axis\": -0.024485522881150246, \"y_axis\": 0.46731480956077576, \"name\": \"devoted\", \"original\": \"devoted\"}, {\"x_axis\": -0.07102640718221664, \"y_axis\": 0.4673059284687042, \"name\": \"furthermore\", \"original\": \"furthermore\"}, {\"x_axis\": -0.007178915198892355, \"y_axis\": 0.4667297899723053, \"name\": \"future\", \"original\": \"future\"}, {\"x_axis\": -0.019337885081768036, \"y_axis\": 0.46666958928108215, \"name\": \"exists\", \"original\": \"exists\"}, {\"x_axis\": 0.006897912826389074, \"y_axis\": 0.46642351150512695, \"name\": \"so\", \"original\": \"so\"}, {\"x_axis\": 0.09496980905532837, \"y_axis\": 0.4663531184196472, \"name\": \"participation\", \"original\": \"participation\"}, {\"x_axis\": 0.019659290090203285, \"y_axis\": 0.46634870767593384, \"name\": \"however\", \"original\": \"however\"}, {\"x_axis\": -0.0462833046913147, \"y_axis\": 0.4661892354488373, \"name\": \"system\", \"original\": \"system\"}, {\"x_axis\": -0.07500483840703964, \"y_axis\": 0.4657343029975891, \"name\": \"values\", \"original\": \"values\"}, {\"x_axis\": 0.1269909143447876, \"y_axis\": 0.4656849205493927, \"name\": \"churches\", \"original\": \"churches\"}, {\"x_axis\": -0.04012417048215866, \"y_axis\": 0.46561190485954285, \"name\": \"idea\", \"original\": \"idea\"}, {\"x_axis\": -0.07296081632375717, \"y_axis\": 0.46546638011932373, \"name\": \"movement\", \"original\": \"movement\"}, {\"x_axis\": 0.12467443943023682, \"y_axis\": 0.4654403030872345, \"name\": \"nations\", \"original\": \"nations\"}, {\"x_axis\": 0.04203152284026146, \"y_axis\": 0.4651415944099426, \"name\": \"historically\", \"original\": \"historically\"}, {\"x_axis\": 0.017252476885914803, \"y_axis\": 0.46507230401039124, \"name\": \"are\", \"original\": \"are\"}, {\"x_axis\": 0.06571508198976517, \"y_axis\": 0.46476030349731445, \"name\": \"here\", \"original\": \"here\"}, {\"x_axis\": 0.07038833200931549, \"y_axis\": 0.46452856063842773, \"name\": \"beyond\", \"original\": \"beyond\"}, {\"x_axis\": 0.0010126059642061591, \"y_axis\": 0.46442997455596924, \"name\": \"every\", \"original\": \"every\"}, {\"x_axis\": 0.0015306423883885145, \"y_axis\": 0.4636794626712799, \"name\": \"being\", \"original\": \"being\"}, {\"x_axis\": 0.006833658553659916, \"y_axis\": 0.4635237753391266, \"name\": \"roots\", \"original\": \"roots\"}, {\"x_axis\": 0.06367937475442886, \"y_axis\": 0.46350082755088806, \"name\": \"want\", \"original\": \"want\"}, {\"x_axis\": -0.0034614792093634605, \"y_axis\": 0.4628635346889496, \"name\": \"conservation\", \"original\": \"conservation\"}, {\"x_axis\": 0.21149621903896332, \"y_axis\": 0.46281832456588745, \"name\": \"serves\", \"original\": \"serves\"}, {\"x_axis\": 0.013566476292908192, \"y_axis\": 0.46269357204437256, \"name\": \"from\", \"original\": \"from\"}, {\"x_axis\": -0.07589679956436157, \"y_axis\": 0.46261778473854065, \"name\": \"therefore\", \"original\": \"therefore\"}, {\"x_axis\": 0.01964927650988102, \"y_axis\": 0.46252182126045227, \"name\": \"contribute\", \"original\": \"contribute\"}, {\"x_axis\": 0.10087400674819946, \"y_axis\": 0.4625193774700165, \"name\": \"historic\", \"original\": \"historic\"}, {\"x_axis\": 0.07827610522508621, \"y_axis\": 0.46235838532447815, \"name\": \"educators\", \"original\": \"educators\"}, {\"x_axis\": 0.05507085099816322, \"y_axis\": 0.46217650175094604, \"name\": \"still\", \"original\": \"still\"}, {\"x_axis\": -0.023763474076986313, \"y_axis\": 0.46210378408432007, \"name\": \"professional\", \"original\": \"professional\"}, {\"x_axis\": 0.18249446153640747, \"y_axis\": 0.461989164352417, \"name\": \"east\", \"original\": \"east\"}, {\"x_axis\": 0.0557132214307785, \"y_axis\": 0.4617663621902466, \"name\": \"make\", \"original\": \"make\"}, {\"x_axis\": -0.014950813725590706, \"y_axis\": 0.4617496728897095, \"name\": \"given\", \"original\": \"given\"}, {\"x_axis\": -0.028871450573205948, \"y_axis\": 0.4617018699645996, \"name\": \"contribution\", \"original\": \"contribution\"}, {\"x_axis\": 0.09368199110031128, \"y_axis\": 0.4614695608615875, \"name\": \"helping\", \"original\": \"helping\"}, {\"x_axis\": 0.11819753795862198, \"y_axis\": 0.461244136095047, \"name\": \"friends\", \"original\": \"friends\"}, {\"x_axis\": 0.006504418794065714, \"y_axis\": 0.46096271276474, \"name\": \"think\", \"original\": \"think\"}, {\"x_axis\": 0.009714742191135883, \"y_axis\": 0.4609503149986267, \"name\": \"even\", \"original\": \"even\"}, {\"x_axis\": 0.007846320047974586, \"y_axis\": 0.46073591709136963, \"name\": \"having\", \"original\": \"having\"}, {\"x_axis\": 0.11422520130872726, \"y_axis\": 0.4605826735496521, \"name\": \"largest\", \"original\": \"largest\"}, {\"x_axis\": 0.017014043405652046, \"y_axis\": 0.4603736996650696, \"name\": \"generally\", \"original\": \"generally\"}, {\"x_axis\": -0.002059265272691846, \"y_axis\": 0.4593423008918762, \"name\": \"ways\", \"original\": \"ways\"}, {\"x_axis\": 0.06965187191963196, \"y_axis\": 0.45928657054901123, \"name\": \"its\", \"original\": \"its\"}, {\"x_axis\": 0.08125536888837814, \"y_axis\": 0.4591807425022125, \"name\": \"thriving\", \"original\": \"thriving\"}, {\"x_axis\": 0.11994073539972305, \"y_axis\": 0.4591558873653412, \"name\": \"some\", \"original\": \"some\"}, {\"x_axis\": 0.047362834215164185, \"y_axis\": 0.4589962065219879, \"name\": \"though\", \"original\": \"though\"}, {\"x_axis\": -0.01819656230509281, \"y_axis\": 0.45879122614860535, \"name\": \"promoting\", \"original\": \"promoting\"}, {\"x_axis\": 0.05766554921865463, \"y_axis\": 0.4586339294910431, \"name\": \"would\", \"original\": \"would\"}, {\"x_axis\": -0.04455220699310303, \"y_axis\": 0.4585932791233063, \"name\": \"represented\", \"original\": \"represented\"}, {\"x_axis\": 0.04536556452512741, \"y_axis\": 0.45822426676750183, \"name\": \"who\", \"original\": \"who\"}, {\"x_axis\": 0.034353360533714294, \"y_axis\": 0.4579087197780609, \"name\": \"we\", \"original\": \"we\"}, {\"x_axis\": -0.10535366833209991, \"y_axis\": 0.4575081467628479, \"name\": \"women\", \"original\": \"women\"}, {\"x_axis\": 0.0930977389216423, \"y_axis\": 0.45725154876708984, \"name\": \"larger\", \"original\": \"larger\"}, {\"x_axis\": 0.049122344702482224, \"y_axis\": 0.456894189119339, \"name\": \"aims\", \"original\": \"aims\"}, {\"x_axis\": -0.005714296363294125, \"y_axis\": 0.45643651485443115, \"name\": \"upon\", \"original\": \"upon\"}, {\"x_axis\": 0.047420285642147064, \"y_axis\": 0.45626041293144226, \"name\": \"independent\", \"original\": \"independent\"}, {\"x_axis\": -0.06793366372585297, \"y_axis\": 0.4562532603740692, \"name\": \"increasingly\", \"original\": \"increasingly\"}, {\"x_axis\": 0.05887162312865257, \"y_axis\": 0.4561958312988281, \"name\": \"others\", \"original\": \"others\"}, {\"x_axis\": -0.018657278269529343, \"y_axis\": 0.4559621512889862, \"name\": \"formed\", \"original\": \"formed\"}, {\"x_axis\": 0.13775189220905304, \"y_axis\": 0.4557901918888092, \"name\": \"provide\", \"original\": \"provide\"}, {\"x_axis\": 0.009754535742104053, \"y_axis\": 0.45545336604118347, \"name\": \"charity\", \"original\": \"charity\"}, {\"x_axis\": 0.04418019950389862, \"y_axis\": 0.45514023303985596, \"name\": \"those\", \"original\": \"those\"}, {\"x_axis\": 0.09181667119264603, \"y_axis\": 0.454908549785614, \"name\": \"integrated\", \"original\": \"integrated\"}, {\"x_axis\": 0.02557683177292347, \"y_axis\": 0.4547247290611267, \"name\": \"once\", \"original\": \"once\"}, {\"x_axis\": 0.1667388528585434, \"y_axis\": 0.454689621925354, \"name\": \"arab\", \"original\": \"arab\"}, {\"x_axis\": 0.11141057312488556, \"y_axis\": 0.4544406533241272, \"name\": \"program\", \"original\": \"program\"}, {\"x_axis\": 0.2913382351398468, \"y_axis\": 0.45436084270477295, \"name\": \"outreach\", \"original\": \"outreach\"}, {\"x_axis\": -0.023794539272785187, \"y_axis\": 0.45420756936073303, \"name\": \"environmental\", \"original\": \"environmental\"}, {\"x_axis\": -0.05258532240986824, \"y_axis\": 0.45419663190841675, \"name\": \"cultures\", \"original\": \"cultures\"}, {\"x_axis\": -0.07919979095458984, \"y_axis\": 0.454147070646286, \"name\": \"university\", \"original\": \"university\"}, {\"x_axis\": 0.008488587103784084, \"y_axis\": 0.45414674282073975, \"name\": \"be\", \"original\": \"be\"}, {\"x_axis\": 0.07680971920490265, \"y_axis\": 0.45350441336631775, \"name\": \"concern\", \"original\": \"concern\"}, {\"x_axis\": 0.04131130129098892, \"y_axis\": 0.4534607529640198, \"name\": \"been\", \"original\": \"been\"}, {\"x_axis\": -0.03787272796034813, \"y_axis\": 0.453330397605896, \"name\": \"years\", \"original\": \"years\"}, {\"x_axis\": 0.04386776313185692, \"y_axis\": 0.45329955220222473, \"name\": \"towards\", \"original\": \"towards\"}, {\"x_axis\": -0.05775706097483635, \"y_axis\": 0.4532642662525177, \"name\": \"works\", \"original\": \"works\"}, {\"x_axis\": 0.028296275064349174, \"y_axis\": 0.4531767964363098, \"name\": \"policy\", \"original\": \"policy\"}, {\"x_axis\": -0.013316656462848186, \"y_axis\": 0.4530109465122223, \"name\": \"universities\", \"original\": \"universities\"}, {\"x_axis\": 0.10885068774223328, \"y_axis\": 0.45279577374458313, \"name\": \"continues\", \"original\": \"continues\"}, {\"x_axis\": 0.23838628828525543, \"y_axis\": 0.45266345143318176, \"name\": \"campus\", \"original\": \"campus\"}, {\"x_axis\": -0.00932811014354229, \"y_axis\": 0.45252880454063416, \"name\": \"rights\", \"original\": \"rights\"}, {\"x_axis\": -0.033492643386125565, \"y_axis\": 0.45222312211990356, \"name\": \"decades\", \"original\": \"decades\"}, {\"x_axis\": 0.15099559724330902, \"y_axis\": 0.4520852863788605, \"name\": \"programs\", \"original\": \"programs\"}, {\"x_axis\": 0.0795857235789299, \"y_axis\": 0.45199820399284363, \"name\": \"through\", \"original\": \"through\"}, {\"x_axis\": -0.06712698936462402, \"y_axis\": 0.4519966244697571, \"name\": \"honor\", \"original\": \"honor\"}, {\"x_axis\": 0.014859599061310291, \"y_axis\": 0.45147207379341125, \"name\": \"focuses\", \"original\": \"focuses\"}, {\"x_axis\": 0.04476150497794151, \"y_axis\": 0.4514322578907013, \"name\": \"state\", \"original\": \"state\"}, {\"x_axis\": -0.1074351966381073, \"y_axis\": 0.4512394368648529, \"name\": \"ordinary\", \"original\": \"ordinary\"}, {\"x_axis\": 0.031877923756837845, \"y_axis\": 0.4512212574481964, \"name\": \"economic\", \"original\": \"economic\"}, {\"x_axis\": 0.009659778326749802, \"y_axis\": 0.45122095942497253, \"name\": \"educate\", \"original\": \"educate\"}, {\"x_axis\": 0.08424696326255798, \"y_axis\": 0.45107340812683105, \"name\": \"opportunity\", \"original\": \"opportunity\"}, {\"x_axis\": -0.12073272466659546, \"y_axis\": 0.45084455609321594, \"name\": \"freedom\", \"original\": \"freedom\"}, {\"x_axis\": 0.0522536039352417, \"y_axis\": 0.4507850408554077, \"name\": \"conference\", \"original\": \"conference\"}, {\"x_axis\": 0.012484458275139332, \"y_axis\": 0.4506615102291107, \"name\": \"making\", \"original\": \"making\"}, {\"x_axis\": 0.09330043196678162, \"y_axis\": 0.4503251612186432, \"name\": \"continue\", \"original\": \"continue\"}, {\"x_axis\": 0.17837369441986084, \"y_axis\": 0.450308233499527, \"name\": \"middle\", \"original\": \"middle\"}, {\"x_axis\": 0.16718997061252594, \"y_axis\": 0.4502067267894745, \"name\": \"west\", \"original\": \"west\"}, {\"x_axis\": 0.029384342953562737, \"y_axis\": 0.4501546621322632, \"name\": \"taken\", \"original\": \"taken\"}, {\"x_axis\": 0.051559045910835266, \"y_axis\": 0.4500987231731415, \"name\": \"believes\", \"original\": \"believes\"}, {\"x_axis\": 0.010161599144339561, \"y_axis\": 0.4499066174030304, \"name\": \"purpose\", \"original\": \"purpose\"}, {\"x_axis\": 0.08922608196735382, \"y_axis\": 0.4495851695537567, \"name\": \"join\", \"original\": \"join\"}, {\"x_axis\": 0.13859137892723083, \"y_axis\": 0.44950973987579346, \"name\": \"region\", \"original\": \"region\"}, {\"x_axis\": 0.11415283381938934, \"y_axis\": 0.44930657744407654, \"name\": \"provides\", \"original\": \"provides\"}, {\"x_axis\": -0.026645753532648087, \"y_axis\": 0.44918957352638245, \"name\": \"...\", \"original\": \"...\"}, {\"x_axis\": -0.10850462317466736, \"y_axis\": 0.44903555512428284, \"name\": \"transformed\", \"original\": \"transformed\"}, {\"x_axis\": 0.010254931636154652, \"y_axis\": 0.44889432191848755, \"name\": \"different\", \"original\": \"different\"}, {\"x_axis\": 0.0661783516407013, \"y_axis\": 0.4487352669239044, \"name\": \"any\", \"original\": \"any\"}, {\"x_axis\": 0.02394408918917179, \"y_axis\": 0.4486512541770935, \"name\": \"americans\", \"original\": \"americans\"}, {\"x_axis\": -0.02425345964729786, \"y_axis\": 0.4485306739807129, \"name\": \"noted\", \"original\": \"noted\"}, {\"x_axis\": 0.05084078013896942, \"y_axis\": 0.44840458035469055, \"name\": \"brought\", \"original\": \"brought\"}, {\"x_axis\": -0.012475293129682541, \"y_axis\": 0.4482276141643524, \"name\": \"group\", \"original\": \"group\"}, {\"x_axis\": 0.015630114823579788, \"y_axis\": 0.44778120517730713, \"name\": \"unique\", \"original\": \"unique\"}, {\"x_axis\": 0.002834601793438196, \"y_axis\": 0.4477706849575043, \"name\": \"mainstream\", \"original\": \"mainstream\"}, {\"x_axis\": 0.0010186899453401566, \"y_axis\": 0.447742760181427, \"name\": \"board\", \"original\": \"board\"}, {\"x_axis\": -0.0643368661403656, \"y_axis\": 0.4473925828933716, \"name\": \"aspects\", \"original\": \"aspects\"}, {\"x_axis\": 0.08552201092243195, \"y_axis\": 0.44730961322784424, \"name\": \"gathering\", \"original\": \"gathering\"}, {\"x_axis\": 0.0996408462524414, \"y_axis\": 0.44730091094970703, \"name\": \"building\", \"original\": \"building\"}, {\"x_axis\": 0.15279053151607513, \"y_axis\": 0.4471959173679352, \"name\": \"effort\", \"original\": \"effort\"}, {\"x_axis\": -0.011126031167805195, \"y_axis\": 0.446930468082428, \"name\": \"cannot\", \"original\": \"cannot\"}, {\"x_axis\": -0.10357935726642609, \"y_axis\": 0.4468642771244049, \"name\": \"thus\", \"original\": \"thus\"}, {\"x_axis\": -0.04555715247988701, \"y_axis\": 0.4466170072555542, \"name\": \"perspective\", \"original\": \"perspective\"}, {\"x_axis\": -0.023692118003964424, \"y_axis\": 0.4465752840042114, \"name\": \"sense\", \"original\": \"sense\"}, {\"x_axis\": 0.029150808230042458, \"y_axis\": 0.44649454951286316, \"name\": \"aim\", \"original\": \"aim\"}, {\"x_axis\": -0.015523724257946014, \"y_axis\": 0.44639307260513306, \"name\": \"industry\", \"original\": \"industry\"}, {\"x_axis\": 0.19266200065612793, \"y_axis\": 0.44634756445884705, \"name\": \"rural\", \"original\": \"rural\"}, {\"x_axis\": 0.1945563405752182, \"y_axis\": 0.4462323784828186, \"name\": \"home\", \"original\": \"home\"}, {\"x_axis\": -0.07718554139137268, \"y_axis\": 0.4457712173461914, \"name\": \"themselves\", \"original\": \"themselves\"}, {\"x_axis\": 0.028322290629148483, \"y_axis\": 0.44549351930618286, \"name\": \"faculty\", \"original\": \"faculty\"}, {\"x_axis\": 0.33751505613327026, \"y_axis\": 0.4450758397579193, \"name\": \"neighborhood\", \"original\": \"neighborhood\"}, {\"x_axis\": 0.025656739249825478, \"y_axis\": 0.4450431168079376, \"name\": \"establishing\", \"original\": \"establishing\"}, {\"x_axis\": -0.0397944375872612, \"y_axis\": 0.4449368417263031, \"name\": \"interested\", \"original\": \"interested\"}, {\"x_axis\": 0.10712248831987381, \"y_axis\": 0.44492533802986145, \"name\": \"collective\", \"original\": \"collective\"}, {\"x_axis\": 0.1348682940006256, \"y_axis\": 0.444850891828537, \"name\": \"urged\", \"original\": \"urged\"}, {\"x_axis\": -0.00491525512188673, \"y_axis\": 0.44476553797721863, \"name\": \"indian\", \"original\": \"indian\"}, {\"x_axis\": -0.016116563230752945, \"y_axis\": 0.4446862041950226, \"name\": \"sort\", \"original\": \"sort\"}, {\"x_axis\": -0.01742454059422016, \"y_axis\": 0.44424521923065186, \"name\": \"likewise\", \"original\": \"likewise\"}, {\"x_axis\": -0.13710717856884003, \"y_axis\": 0.44402727484703064, \"name\": \"museum\", \"original\": \"museum\"}, {\"x_axis\": -0.05784311890602112, \"y_axis\": 0.4439176917076111, \"name\": \"federation\", \"original\": \"federation\"}, {\"x_axis\": 0.10705406963825226, \"y_axis\": 0.4438202679157257, \"name\": \"action\", \"original\": \"action\"}, {\"x_axis\": -0.014899646863341331, \"y_axis\": 0.4437442123889923, \"name\": \"relations\", \"original\": \"relations\"}, {\"x_axis\": 0.034767501056194305, \"y_axis\": 0.44367027282714844, \"name\": \"popular\", \"original\": \"popular\"}, {\"x_axis\": 0.03470992669463158, \"y_axis\": 0.4436327815055847, \"name\": \"governmental\", \"original\": \"governmental\"}, {\"x_axis\": -0.06753335148096085, \"y_axis\": 0.44318413734436035, \"name\": \"law\", \"original\": \"law\"}, {\"x_axis\": 0.10964318364858627, \"y_axis\": 0.4430604577064514, \"name\": \"come\", \"original\": \"come\"}, {\"x_axis\": 0.08122843503952026, \"y_axis\": 0.4429718255996704, \"name\": \"media\", \"original\": \"media\"}, {\"x_axis\": -0.06601987779140472, \"y_axis\": 0.44281959533691406, \"name\": \"islamic\", \"original\": \"islamic\"}, {\"x_axis\": 0.1733957678079605, \"y_axis\": 0.4428001940250397, \"name\": \"centers\", \"original\": \"centers\"}, {\"x_axis\": 0.05547367408871651, \"y_axis\": 0.44211286306381226, \"name\": \"recently\", \"original\": \"recently\"}, {\"x_axis\": 0.1582215577363968, \"y_axis\": 0.44149699807167053, \"name\": \"supports\", \"original\": \"supports\"}, {\"x_axis\": 0.06222617253661156, \"y_axis\": 0.4411996901035309, \"name\": \"african-american\", \"original\": \"african-american\"}, {\"x_axis\": -0.05282261222600937, \"y_axis\": 0.4410613477230072, \"name\": \"order\", \"original\": \"order\"}, {\"x_axis\": 0.059442710131406784, \"y_axis\": 0.4410048723220825, \"name\": \"into\", \"original\": \"into\"}, {\"x_axis\": 0.02425176277756691, \"y_axis\": 0.44099605083465576, \"name\": \"current\", \"original\": \"current\"}, {\"x_axis\": 0.04982387647032738, \"y_axis\": 0.44096606969833374, \"name\": \"recognize\", \"original\": \"recognize\"}, {\"x_axis\": 0.06376951187849045, \"y_axis\": 0.4407581686973572, \"name\": \"find\", \"original\": \"find\"}, {\"x_axis\": -0.013467775657773018, \"y_axis\": 0.44073110818862915, \"name\": \"views\", \"original\": \"views\"}, {\"x_axis\": 0.023944677785038948, \"y_axis\": 0.4405781328678131, \"name\": \"feel\", \"original\": \"feel\"}, {\"x_axis\": 0.003298718249425292, \"y_axis\": 0.44047027826309204, \"name\": \"european\", \"original\": \"european\"}, {\"x_axis\": 0.004522230010479689, \"y_axis\": 0.44021740555763245, \"name\": \"politicians\", \"original\": \"politicians\"}, {\"x_axis\": -0.09806396812200546, \"y_axis\": 0.44007575511932373, \"name\": \"generations\", \"original\": \"generations\"}, {\"x_axis\": -0.022519035264849663, \"y_axis\": 0.43984317779541016, \"name\": \"music\", \"original\": \"music\"}, {\"x_axis\": -0.04899406433105469, \"y_axis\": 0.4397735297679901, \"name\": \"young\", \"original\": \"young\"}, {\"x_axis\": 0.10134753584861755, \"y_axis\": 0.43974173069000244, \"name\": \"attending\", \"original\": \"attending\"}, {\"x_axis\": 0.049214258790016174, \"y_axis\": 0.43966782093048096, \"name\": \"will\", \"original\": \"will\"}, {\"x_axis\": 0.03393740579485893, \"y_axis\": 0.4396052062511444, \"name\": \"learn\", \"original\": \"learn\"}, {\"x_axis\": 0.11377459019422531, \"y_axis\": 0.43954727053642273, \"name\": \"several\", \"original\": \"several\"}, {\"x_axis\": 0.05889333412051201, \"y_axis\": 0.4394119381904602, \"name\": \"whose\", \"original\": \"whose\"}, {\"x_axis\": 0.09510361403226852, \"y_axis\": 0.4393936097621918, \"name\": \"supported\", \"original\": \"supported\"}, {\"x_axis\": 0.04853418469429016, \"y_axis\": 0.43930965662002563, \"name\": \"developing\", \"original\": \"developing\"}, {\"x_axis\": 0.042855728417634964, \"y_axis\": 0.4392296373844147, \"name\": \"black\", \"original\": \"black\"}, {\"x_axis\": 0.12717530131340027, \"y_axis\": 0.4392118453979492, \"name\": \"attended\", \"original\": \"attended\"}, {\"x_axis\": 0.050200339406728745, \"y_axis\": 0.4390726089477539, \"name\": \"together\", \"original\": \"together\"}, {\"x_axis\": 0.048397015780210495, \"y_axis\": 0.4388255774974823, \"name\": \"about\", \"original\": \"about\"}, {\"x_axis\": -0.03965055197477341, \"y_axis\": 0.4387582540512085, \"name\": \"belief\", \"original\": \"belief\"}, {\"x_axis\": -0.05222979187965393, \"y_axis\": 0.4384762644767761, \"name\": \"accepted\", \"original\": \"accepted\"}, {\"x_axis\": 0.02031603455543518, \"y_axis\": 0.43824687600135803, \"name\": \"enterprise\", \"original\": \"enterprise\"}, {\"x_axis\": 0.03487639129161835, \"y_axis\": 0.4381265938282013, \"name\": \"can\", \"original\": \"can\"}, {\"x_axis\": 0.08285217732191086, \"y_axis\": 0.43810513615608215, \"name\": \"rest\", \"original\": \"rest\"}, {\"x_axis\": -0.01712748408317566, \"y_axis\": 0.43802088499069214, \"name\": \"citizen\", \"original\": \"citizen\"}, {\"x_axis\": 0.03762073814868927, \"y_axis\": 0.4380051791667938, \"name\": \"peace\", \"original\": \"peace\"}, {\"x_axis\": 0.07877415418624878, \"y_axis\": 0.43798452615737915, \"name\": \"ensure\", \"original\": \"ensure\"}, {\"x_axis\": -0.039606619626283646, \"y_axis\": 0.43790769577026367, \"name\": \"serious\", \"original\": \"serious\"}, {\"x_axis\": -0.0500001460313797, \"y_axis\": 0.437427818775177, \"name\": \"described\", \"original\": \"described\"}, {\"x_axis\": 0.04725489392876625, \"y_axis\": 0.43742141127586365, \"name\": \"unity\", \"original\": \"unity\"}, {\"x_axis\": 0.125757098197937, \"y_axis\": 0.43736696243286133, \"name\": \"providing\", \"original\": \"providing\"}, {\"x_axis\": 0.049321018159389496, \"y_axis\": 0.4373573064804077, \"name\": \"does\", \"original\": \"does\"}, {\"x_axis\": 0.0730898529291153, \"y_axis\": 0.43725794553756714, \"name\": \"indigenous\", \"original\": \"indigenous\"}, {\"x_axis\": 0.022457687184214592, \"y_axis\": 0.43724507093429565, \"name\": \"discussion\", \"original\": \"discussion\"}, {\"x_axis\": -0.0015642785001546144, \"y_axis\": 0.4371618330478668, \"name\": \"legal\", \"original\": \"legal\"}, {\"x_axis\": -0.04847200587391853, \"y_axis\": 0.43715551495552063, \"name\": \"[\", \"original\": \"[\"}, {\"x_axis\": 0.013259930536150932, \"y_axis\": 0.43702253699302673, \"name\": \"done\", \"original\": \"done\"}, {\"x_axis\": -0.12056764960289001, \"y_axis\": 0.43690308928489685, \"name\": \"profession\", \"original\": \"profession\"}, {\"x_axis\": 0.08831460028886795, \"y_axis\": 0.4368768036365509, \"name\": \"everyone\", \"original\": \"everyone\"}, {\"x_axis\": 0.04193641245365143, \"y_axis\": 0.43684881925582886, \"name\": \"service\", \"original\": \"service\"}, {\"x_axis\": -0.02519856207072735, \"y_axis\": 0.43679168820381165, \"name\": \"thought\", \"original\": \"thought\"}, {\"x_axis\": 0.09780044108629227, \"y_axis\": 0.4359603822231293, \"name\": \"grew\", \"original\": \"grew\"}, {\"x_axis\": -0.01702466607093811, \"y_axis\": 0.43588054180145264, \"name\": \"representing\", \"original\": \"representing\"}, {\"x_axis\": 0.054403360933065414, \"y_axis\": 0.43582409620285034, \"name\": \"say\", \"original\": \"say\"}, {\"x_axis\": 0.030872367322444916, \"y_axis\": 0.4352830648422241, \"name\": \"realize\", \"original\": \"realize\"}, {\"x_axis\": 0.03966293856501579, \"y_axis\": 0.43477296829223633, \"name\": \"focusing\", \"original\": \"focusing\"}, {\"x_axis\": 0.044213294982910156, \"y_axis\": 0.43472620844841003, \"name\": \"sponsored\", \"original\": \"sponsored\"}, {\"x_axis\": 0.2163742035627365, \"y_axis\": 0.4346781075000763, \"name\": \"predominantly\", \"original\": \"predominantly\"}, {\"x_axis\": 0.002079786965623498, \"y_axis\": 0.4344721734523773, \"name\": \"always\", \"original\": \"always\"}, {\"x_axis\": 0.0449497364461422, \"y_axis\": 0.4341934025287628, \"name\": \"poor\", \"original\": \"poor\"}, {\"x_axis\": 0.013639326207339764, \"y_axis\": 0.4339148998260498, \"name\": \"further\", \"original\": \"further\"}, {\"x_axis\": -0.032801974564790726, \"y_axis\": 0.43387243151664734, \"name\": \"governance\", \"original\": \"governance\"}, {\"x_axis\": -0.04637641832232475, \"y_axis\": 0.4337640404701233, \"name\": \"promotes\", \"original\": \"promotes\"}, {\"x_axis\": 0.03547337278723717, \"y_axis\": 0.433663547039032, \"name\": \"management\", \"original\": \"management\"}, {\"x_axis\": -0.026882659643888474, \"y_axis\": 0.433650940656662, \"name\": \"fair\", \"original\": \"fair\"}, {\"x_axis\": -0.1265914887189865, \"y_axis\": 0.4336451292037964, \"name\": \"scholars\", \"original\": \"scholars\"}, {\"x_axis\": -0.0577390231192112, \"y_axis\": 0.43363919854164124, \"name\": \"\\u2019\", \"original\": \"\\u2019\"}, {\"x_axis\": 0.018754513934254646, \"y_axis\": 0.43362462520599365, \"name\": \"formerly\", \"original\": \"formerly\"}, {\"x_axis\": -0.015209713019430637, \"y_axis\": 0.43341097235679626, \"name\": \"often\", \"original\": \"often\"}, {\"x_axis\": 0.0793784111738205, \"y_axis\": 0.4333902895450592, \"name\": \"lgbt\", \"original\": \"lgbt\"}, {\"x_axis\": -0.12112898379564285, \"y_axis\": 0.4333041310310364, \"name\": \"medicine\", \"original\": \"medicine\"}, {\"x_axis\": -0.05479371175169945, \"y_axis\": 0.4331396520137787, \"name\": \"oldest\", \"original\": \"oldest\"}, {\"x_axis\": 0.07613102346658707, \"y_axis\": 0.4331326484680176, \"name\": \"address\", \"original\": \"address\"}, {\"x_axis\": -0.045588504523038864, \"y_axis\": 0.43283388018608093, \"name\": \"global\", \"original\": \"global\"}, {\"x_axis\": 0.004861286375671625, \"y_axis\": 0.432813435792923, \"name\": \"according\", \"original\": \"according\"}, {\"x_axis\": 0.06374930590391159, \"y_axis\": 0.4327889382839203, \"name\": \"central\", \"original\": \"central\"}, {\"x_axis\": 0.17929793894290924, \"y_axis\": 0.4324544370174408, \"name\": \"project\", \"original\": \"project\"}, {\"x_axis\": -0.06333893537521362, \"y_axis\": 0.43244117498397827, \"name\": \"educated\", \"original\": \"educated\"}, {\"x_axis\": -0.13278228044509888, \"y_axis\": 0.43240293860435486, \"name\": \"fundamental\", \"original\": \"fundamental\"}, {\"x_axis\": 0.04315062239766121, \"y_axis\": 0.43234872817993164, \"name\": \"fund\", \"original\": \"fund\"}, {\"x_axis\": 0.0338284857571125, \"y_axis\": 0.4323273301124573, \"name\": \"major\", \"original\": \"major\"}, {\"x_axis\": 0.12289968878030777, \"y_axis\": 0.432092547416687, \"name\": \"authorities\", \"original\": \"authorities\"}, {\"x_axis\": 0.06226979196071625, \"y_axis\": 0.43189486861228943, \"name\": \"little\", \"original\": \"little\"}, {\"x_axis\": 0.19775418937206268, \"y_axis\": 0.4314621388912201, \"name\": \"businesses\", \"original\": \"businesses\"}, {\"x_axis\": -0.19790306687355042, \"y_axis\": 0.43137821555137634, \"name\": \"civilized\", \"original\": \"civilized\"}, {\"x_axis\": -0.001786612905561924, \"y_axis\": 0.43128788471221924, \"name\": \"was\", \"original\": \"was\"}, {\"x_axis\": -0.007457911502569914, \"y_axis\": 0.4308567941188812, \"name\": \"influence\", \"original\": \"influence\"}, {\"x_axis\": 0.07964599877595901, \"y_axis\": 0.4308198094367981, \"name\": \"take\", \"original\": \"take\"}, {\"x_axis\": 0.03583225980401039, \"y_axis\": 0.43074339628219604, \"name\": \"held\", \"original\": \"held\"}, {\"x_axis\": 0.02164142020046711, \"y_axis\": 0.4305899143218994, \"name\": \"issues\", \"original\": \"issues\"}, {\"x_axis\": -0.020348811522126198, \"y_axis\": 0.4305614233016968, \"name\": \"advocate\", \"original\": \"advocate\"}, {\"x_axis\": 0.007477614562958479, \"y_axis\": 0.4305274784564972, \"name\": \"time\", \"original\": \"time\"}, {\"x_axis\": 0.09808166325092316, \"y_axis\": 0.4305148720741272, \"name\": \"teachers\", \"original\": \"teachers\"}, {\"x_axis\": 0.0015048917848616838, \"y_axis\": 0.43048587441444397, \"name\": \"standards\", \"original\": \"standards\"}, {\"x_axis\": -0.10980023443698883, \"y_axis\": 0.4304150938987732, \"name\": \"circles\", \"original\": \"circles\"}, {\"x_axis\": -0.040160760283470154, \"y_axis\": 0.43017175793647766, \"name\": \"leading\", \"original\": \"leading\"}, {\"x_axis\": 0.054823730140924454, \"y_axis\": 0.43005672097206116, \"name\": \"behalf\", \"original\": \"behalf\"}, {\"x_axis\": -0.05552021414041519, \"y_axis\": 0.43001922965049744, \"name\": \"deeply\", \"original\": \"deeply\"}, {\"x_axis\": 0.0054640453308820724, \"y_axis\": 0.4300045967102051, \"name\": \"process\", \"original\": \"process\"}, {\"x_axis\": 0.030891001224517822, \"y_axis\": 0.43000131845474243, \"name\": \"place\", \"original\": \"place\"}, {\"x_axis\": 0.1711241453886032, \"y_axis\": 0.4299573302268982, \"name\": \"assistance\", \"original\": \"assistance\"}, {\"x_axis\": -0.08186376094818115, \"y_axis\": 0.4295523464679718, \"name\": \"true\", \"original\": \"true\"}, {\"x_axis\": 0.04989300295710564, \"y_axis\": 0.42949581146240234, \"name\": \"helped\", \"original\": \"helped\"}, {\"x_axis\": 0.02345876581966877, \"y_axis\": 0.4294857978820801, \"name\": \"status\", \"original\": \"status\"}, {\"x_axis\": 0.10832566022872925, \"y_axis\": 0.4294242560863495, \"name\": \"meeting\", \"original\": \"meeting\"}, {\"x_axis\": 0.07232868671417236, \"y_axis\": 0.4291946589946747, \"name\": \"integrate\", \"original\": \"integrate\"}, {\"x_axis\": 0.054941777139902115, \"y_axis\": 0.42905664443969727, \"name\": \"use\", \"original\": \"use\"}, {\"x_axis\": 0.011781994253396988, \"y_axis\": 0.42904406785964966, \"name\": \"between\", \"original\": \"between\"}, {\"x_axis\": 0.026104072108864784, \"y_axis\": 0.4287373423576355, \"name\": \"progress\", \"original\": \"progress\"}, {\"x_axis\": 0.045698132365942, \"y_axis\": 0.4287196695804596, \"name\": \"could\", \"original\": \"could\"}, {\"x_axis\": 0.0673379972577095, \"y_axis\": 0.4287121593952179, \"name\": \"places\", \"original\": \"places\"}, {\"x_axis\": 0.10313204675912857, \"y_axis\": 0.4283639192581177, \"name\": \"security\", \"original\": \"security\"}, {\"x_axis\": -0.00380540918558836, \"y_axis\": 0.42807841300964355, \"name\": \"aware\", \"original\": \"aware\"}, {\"x_axis\": 0.05700016766786575, \"y_axis\": 0.42804205417633057, \"name\": \"put\", \"original\": \"put\"}, {\"x_axis\": 0.036577027291059494, \"y_axis\": 0.4277898371219635, \"name\": \"an\", \"original\": \"an\"}, {\"x_axis\": 0.0536271296441555, \"y_axis\": 0.42774584889411926, \"name\": \"encourages\", \"original\": \"encourages\"}, {\"x_axis\": 0.1961294561624527, \"y_axis\": 0.42768946290016174, \"name\": \"outside\", \"original\": \"outside\"}, {\"x_axis\": 0.031110180541872978, \"y_axis\": 0.4276047646999359, \"name\": \"numerous\", \"original\": \"numerous\"}, {\"x_axis\": 0.03801119700074196, \"y_axis\": 0.4275437295436859, \"name\": \"better\", \"original\": \"better\"}, {\"x_axis\": -0.11321116983890533, \"y_axis\": 0.42751410603523254, \"name\": \"century\", \"original\": \"century\"}, {\"x_axis\": 0.09730775654315948, \"y_axis\": 0.42745479941368103, \"name\": \"ongoing\", \"original\": \"ongoing\"}, {\"x_axis\": 0.031212519854307175, \"y_axis\": 0.4272080063819885, \"name\": \"grown\", \"original\": \"grown\"}, {\"x_axis\": 0.2300104796886444, \"y_axis\": 0.4271877706050873, \"name\": \"located\", \"original\": \"located\"}, {\"x_axis\": 0.15216323733329773, \"y_axis\": 0.4271441102027893, \"name\": \"commitment\", \"original\": \"commitment\"}, {\"x_axis\": -0.011206654831767082, \"y_axis\": 0.42714112997055054, \"name\": \"considered\", \"original\": \"considered\"}, {\"x_axis\": 0.15273794531822205, \"y_axis\": 0.4270375072956085, \"name\": \"hispanic\", \"original\": \"hispanic\"}, {\"x_axis\": 0.08689972013235092, \"y_axis\": 0.42701593041419983, \"name\": \"representatives\", \"original\": \"representatives\"}, {\"x_axis\": 0.04757930710911751, \"y_axis\": 0.4267425537109375, \"name\": \"than\", \"original\": \"than\"}, {\"x_axis\": 0.023778291419148445, \"y_axis\": 0.4267127811908722, \"name\": \"beginning\", \"original\": \"beginning\"}, {\"x_axis\": -0.0947619080543518, \"y_axis\": 0.42657628655433655, \"name\": \"welfare\", \"original\": \"welfare\"}, {\"x_axis\": -0.007003904785960913, \"y_axis\": 0.4265194833278656, \"name\": \"she\", \"original\": \"she\"}, {\"x_axis\": 0.018924608826637268, \"y_axis\": 0.42650648951530457, \"name\": \"increasing\", \"original\": \"increasing\"}, {\"x_axis\": 0.031712211668491364, \"y_axis\": 0.42649203538894653, \"name\": \"preserve\", \"original\": \"preserve\"}, {\"x_axis\": 0.05950731039047241, \"y_axis\": 0.4264765977859497, \"name\": \"sustainable\", \"original\": \"sustainable\"}, {\"x_axis\": 0.30437710881233215, \"y_axis\": 0.4264063537120819, \"name\": \"village\", \"original\": \"village\"}, {\"x_axis\": 0.061597418040037155, \"y_axis\": 0.42628875374794006, \"name\": \"continued\", \"original\": \"continued\"}, {\"x_axis\": 0.014094448648393154, \"y_axis\": 0.426230251789093, \"name\": \"reform\", \"original\": \"reform\"}, {\"x_axis\": 0.04458845779299736, \"y_axis\": 0.42620259523391724, \"name\": \"on\", \"original\": \"on\"}, {\"x_axis\": 0.020989209413528442, \"y_axis\": 0.42613038420677185, \"name\": \"eventually\", \"original\": \"eventually\"}, {\"x_axis\": 0.19354234635829926, \"y_axis\": 0.4259015619754791, \"name\": \"north\", \"original\": \"north\"}, {\"x_axis\": 0.08664464205503464, \"y_axis\": 0.42579808831214905, \"name\": \"conflict\", \"original\": \"conflict\"}, {\"x_axis\": 0.011665049940347672, \"y_axis\": 0.4255933165550232, \"name\": \"respected\", \"original\": \"respected\"}, {\"x_axis\": 0.07077111303806305, \"y_axis\": 0.4255625605583191, \"name\": \"with\", \"original\": \"with\"}, {\"x_axis\": 0.005709705408662558, \"y_axis\": 0.42520588636398315, \"name\": \"each\", \"original\": \"each\"}, {\"x_axis\": 0.07129818946123123, \"y_axis\": 0.4248274862766266, \"name\": \"critical\", \"original\": \"critical\"}, {\"x_axis\": -0.07407514750957489, \"y_axis\": 0.42460623383522034, \"name\": \"moreover\", \"original\": \"moreover\"}, {\"x_axis\": 0.005095207132399082, \"y_axis\": 0.42455199360847473, \"name\": \"certain\", \"original\": \"certain\"}, {\"x_axis\": 0.02194884791970253, \"y_axis\": 0.4242493808269501, \"name\": \"without\", \"original\": \"without\"}, {\"x_axis\": -0.07202987372875214, \"y_axis\": 0.42411813139915466, \"name\": \"elected\", \"original\": \"elected\"}, {\"x_axis\": 0.07638541609048843, \"y_axis\": 0.42405644059181213, \"name\": \"their\", \"original\": \"their\"}, {\"x_axis\": 0.04639258235692978, \"y_axis\": 0.4239755868911743, \"name\": \"protect\", \"original\": \"protect\"}, {\"x_axis\": 0.05841715261340141, \"y_axis\": 0.42387256026268005, \"name\": \"good\", \"original\": \"good\"}, {\"x_axis\": 0.09505294263362885, \"y_axis\": 0.4238508343696594, \"name\": \"integration\", \"original\": \"integration\"}, {\"x_axis\": -0.13354790210723877, \"y_axis\": 0.4232720732688904, \"name\": \"subject\", \"original\": \"subject\"}, {\"x_axis\": -0.010792880319058895, \"y_axis\": 0.42316147685050964, \"name\": \"exist\", \"original\": \"exist\"}, {\"x_axis\": 0.17172446846961975, \"y_axis\": 0.42315858602523804, \"name\": \"presence\", \"original\": \"presence\"}, {\"x_axis\": 0.0035435149911791086, \"y_axis\": 0.42309102416038513, \"name\": \"club\", \"original\": \"club\"}, {\"x_axis\": -0.020578552037477493, \"y_axis\": 0.4230244755744934, \"name\": \"reflects\", \"original\": \"reflects\"}, {\"x_axis\": 0.01784224808216095, \"y_axis\": 0.4230114817619324, \"name\": \"something\", \"original\": \"something\"}, {\"x_axis\": -0.00015747055294923484, \"y_axis\": 0.4227820634841919, \"name\": \"nevertheless\", \"original\": \"nevertheless\"}, {\"x_axis\": -0.08818579465150833, \"y_axis\": 0.4227469265460968, \"name\": \"existence\", \"original\": \"existence\"}, {\"x_axis\": 0.007820896804332733, \"y_axis\": 0.4226483106613159, \"name\": \"wealthy\", \"original\": \"wealthy\"}, {\"x_axis\": 0.042337656021118164, \"y_axis\": 0.42256590723991394, \"name\": \"initiated\", \"original\": \"initiated\"}, {\"x_axis\": 0.09258152544498444, \"y_axis\": 0.4224531054496765, \"name\": \"far\", \"original\": \"far\"}, {\"x_axis\": -0.05631173774600029, \"y_axis\": 0.42241907119750977, \"name\": \"regarded\", \"original\": \"regarded\"}, {\"x_axis\": 0.016119113191962242, \"y_axis\": 0.4223407208919525, \"name\": \"incorporated\", \"original\": \"incorporated\"}, {\"x_axis\": 0.011141376569867134, \"y_axis\": 0.42231133580207825, \"name\": \"free\", \"original\": \"free\"}, {\"x_axis\": -0.04988289624452591, \"y_axis\": 0.4222817122936249, \"name\": \"form\", \"original\": \"form\"}, {\"x_axis\": -0.04949789121747017, \"y_axis\": 0.4221005141735077, \"name\": \"\\\"\", \"original\": \"\\\"\"}, {\"x_axis\": 0.057808443903923035, \"y_axis\": 0.42202427983283997, \"name\": \"convinced\", \"original\": \"convinced\"}, {\"x_axis\": 0.0806039422750473, \"y_axis\": 0.4220227599143982, \"name\": \"currently\", \"original\": \"currently\"}, {\"x_axis\": 0.10618232190608978, \"y_axis\": 0.42188790440559387, \"name\": \"concerns\", \"original\": \"concerns\"}, {\"x_axis\": 0.027164233848452568, \"y_axis\": 0.42187097668647766, \"name\": \"collaboration\", \"original\": \"collaboration\"}, {\"x_axis\": 0.044315874576568604, \"y_axis\": 0.42183420062065125, \"name\": \"like\", \"original\": \"like\"}, {\"x_axis\": 0.04280904307961464, \"y_axis\": 0.4217430055141449, \"name\": \"meant\", \"original\": \"meant\"}, {\"x_axis\": 0.10129835456609726, \"y_axis\": 0.42164158821105957, \"name\": \"bringing\", \"original\": \"bringing\"}, {\"x_axis\": -0.07633320987224579, \"y_axis\": 0.42160335183143616, \"name\": \"organised\", \"original\": \"organised\"}, {\"x_axis\": 0.01634618453681469, \"y_axis\": 0.4215662181377411, \"name\": \"agricultural\", \"original\": \"agricultural\"}, {\"x_axis\": 0.086391881108284, \"y_axis\": 0.42151403427124023, \"name\": \"already\", \"original\": \"already\"}, {\"x_axis\": 0.06261240690946579, \"y_axis\": 0.4215109646320343, \"name\": \"advocates\", \"original\": \"advocates\"}, {\"x_axis\": 0.11925807595252991, \"y_axis\": 0.4214649796485901, \"name\": \"cooperative\", \"original\": \"cooperative\"}, {\"x_axis\": 0.005923565477132797, \"y_axis\": 0.42139703035354614, \"name\": \"or\", \"original\": \"or\"}, {\"x_axis\": -0.05271516740322113, \"y_axis\": 0.4211971163749695, \"name\": \"spirit\", \"original\": \"spirit\"}, {\"x_axis\": -0.015413506887853146, \"y_axis\": 0.42113998532295227, \"name\": \"prosperous\", \"original\": \"prosperous\"}, {\"x_axis\": 0.14249058067798615, \"y_axis\": 0.42112427949905396, \"name\": \"along\", \"original\": \"along\"}, {\"x_axis\": -0.023711908608675003, \"y_axis\": 0.4211157262325287, \"name\": \"issue\", \"original\": \"issue\"}, {\"x_axis\": 0.0473526269197464, \"y_axis\": 0.4207439422607422, \"name\": \"while\", \"original\": \"while\"}, {\"x_axis\": 0.040411852300167084, \"y_axis\": 0.42067888379096985, \"name\": \"helps\", \"original\": \"helps\"}, {\"x_axis\": -0.05497528612613678, \"y_axis\": 0.4206707775592804, \"name\": \"ever\", \"original\": \"ever\"}, {\"x_axis\": 0.009880567900836468, \"y_axis\": 0.42059341073036194, \"name\": \"result\", \"original\": \"result\"}, {\"x_axis\": 0.005246144253760576, \"y_axis\": 0.4204474091529846, \"name\": \"individual\", \"original\": \"individual\"}, {\"x_axis\": 0.06197571009397507, \"y_axis\": 0.42043060064315796, \"name\": \"libraries\", \"original\": \"libraries\"}, {\"x_axis\": -0.14814919233322144, \"y_axis\": 0.4203052222728729, \"name\": \"chapter\", \"original\": \"chapter\"}, {\"x_axis\": 0.1300029754638672, \"y_axis\": 0.4202284514904022, \"name\": \"access\", \"original\": \"access\"}, {\"x_axis\": 0.003299259813502431, \"y_axis\": 0.42018938064575195, \"name\": \"massachusetts\", \"original\": \"massachusetts\"}, {\"x_axis\": 0.046054769307374954, \"y_axis\": 0.4201743006706238, \"name\": \"problem\", \"original\": \"problem\"}, {\"x_axis\": 0.07785163074731827, \"y_axis\": 0.4201712906360626, \"name\": \"including\", \"original\": \"including\"}, {\"x_axis\": 0.11286336183547974, \"y_axis\": 0.42005184292793274, \"name\": \"populations\", \"original\": \"populations\"}, {\"x_axis\": 0.0766896978020668, \"y_axis\": 0.41980066895484924, \"name\": \"give\", \"original\": \"give\"}, {\"x_axis\": 0.15628215670585632, \"y_axis\": 0.4197136461734772, \"name\": \"mainly\", \"original\": \"mainly\"}, {\"x_axis\": -0.06356529146432877, \"y_axis\": 0.4197065532207489, \"name\": \"artists\", \"original\": \"artists\"}, {\"x_axis\": -0.11417174339294434, \"y_axis\": 0.4196806252002716, \"name\": \"physicians\", \"original\": \"physicians\"}, {\"x_axis\": 0.007552631665021181, \"y_axis\": 0.41967204213142395, \"name\": \"situation\", \"original\": \"situation\"}, {\"x_axis\": -0.030169351026415825, \"y_axis\": 0.4195381999015808, \"name\": \"understood\", \"original\": \"understood\"}, {\"x_axis\": 0.09689316153526306, \"y_axis\": 0.4194389879703522, \"name\": \"farmers\", \"original\": \"farmers\"}, {\"x_axis\": 0.1119023784995079, \"y_axis\": 0.4194079637527466, \"name\": \"just\", \"original\": \"just\"}, {\"x_axis\": 0.06466058641672134, \"y_axis\": 0.41937559843063354, \"name\": \"similar\", \"original\": \"similar\"}, {\"x_axis\": 0.06302926689386368, \"y_axis\": 0.4193519651889801, \"name\": \"up\", \"original\": \"up\"}, {\"x_axis\": -0.02753930538892746, \"y_axis\": 0.41931667923927307, \"name\": \"ought\", \"original\": \"ought\"}, {\"x_axis\": 0.0835271030664444, \"y_axis\": 0.4192443788051605, \"name\": \"fear\", \"original\": \"fear\"}, {\"x_axis\": 0.05759682506322861, \"y_axis\": 0.4189970791339874, \"name\": \"allow\", \"original\": \"allow\"}, {\"x_axis\": 0.11607363075017929, \"y_axis\": 0.4189789295196533, \"name\": \"response\", \"original\": \"response\"}, {\"x_axis\": 0.0733480453491211, \"y_axis\": 0.4189632534980774, \"name\": \"improve\", \"original\": \"improve\"}, {\"x_axis\": 0.03635769709944725, \"y_axis\": 0.41893357038497925, \"name\": \"them\", \"original\": \"them\"}, {\"x_axis\": 0.05992996692657471, \"y_axis\": 0.4188295006752014, \"name\": \"cooperation\", \"original\": \"cooperation\"}, {\"x_axis\": -0.2126142978668213, \"y_axis\": 0.41871294379234314, \"name\": \"humane\", \"original\": \"humane\"}, {\"x_axis\": 0.06497450917959213, \"y_axis\": 0.41868856549263, \"name\": \"recent\", \"original\": \"recent\"}, {\"x_axis\": 0.04873505234718323, \"y_axis\": 0.4185391664505005, \"name\": \"shared\", \"original\": \"shared\"}, {\"x_axis\": 0.09563730657100677, \"y_axis\": 0.4181804060935974, \"name\": \"resource\", \"original\": \"resource\"}, {\"x_axis\": 0.0851394310593605, \"y_axis\": 0.4180562198162079, \"name\": \"comprehensive\", \"original\": \"comprehensive\"}, {\"x_axis\": 0.04274415969848633, \"y_axis\": 0.4179667830467224, \"name\": \"variety\", \"original\": \"variety\"}, {\"x_axis\": 0.16122794151306152, \"y_axis\": 0.4174560606479645, \"name\": \"attend\", \"original\": \"attend\"}, {\"x_axis\": 0.08126752078533173, \"y_axis\": 0.41742411255836487, \"name\": \"out\", \"original\": \"out\"}, {\"x_axis\": 0.1147439181804657, \"y_axis\": 0.4174039959907532, \"name\": \"cities\", \"original\": \"cities\"}, {\"x_axis\": -0.04987139254808426, \"y_axis\": 0.41740092635154724, \"name\": \"annual\", \"original\": \"annual\"}, {\"x_axis\": 0.001192625262774527, \"y_axis\": 0.4172157347202301, \"name\": \"excellence\", \"original\": \"excellence\"}, {\"x_axis\": 0.11112143844366074, \"y_axis\": 0.41721442341804504, \"name\": \"call\", \"original\": \"call\"}, {\"x_axis\": -0.06387802213430405, \"y_axis\": 0.4172011911869049, \"name\": \"determined\", \"original\": \"determined\"}, {\"x_axis\": -0.06532739847898483, \"y_axis\": 0.4171176552772522, \"name\": \"reflect\", \"original\": \"reflect\"}, {\"x_axis\": 0.0626881942152977, \"y_axis\": 0.41709059476852417, \"name\": \"experience\", \"original\": \"experience\"}, {\"x_axis\": 0.07598152756690979, \"y_axis\": 0.41691967844963074, \"name\": \"wider\", \"original\": \"wider\"}, {\"x_axis\": 0.12177567183971405, \"y_axis\": 0.41691359877586365, \"name\": \"around\", \"original\": \"around\"}, {\"x_axis\": 0.06294448673725128, \"y_axis\": 0.4168626666069031, \"name\": \"consider\", \"original\": \"consider\"}, {\"x_axis\": 0.07974551618099213, \"y_axis\": 0.41684451699256897, \"name\": \"wanted\", \"original\": \"wanted\"}, {\"x_axis\": 0.11336642503738403, \"y_axis\": 0.4168393313884735, \"name\": \"live\", \"original\": \"live\"}, {\"x_axis\": 0.17746469378471375, \"y_axis\": 0.41672760248184204, \"name\": \"mostly\", \"original\": \"mostly\"}, {\"x_axis\": -0.01602160558104515, \"y_axis\": 0.41666725277900696, \"name\": \"conservative\", \"original\": \"conservative\"}, {\"x_axis\": 0.04724036157131195, \"y_axis\": 0.41661325097084045, \"name\": \"long\", \"original\": \"long\"}, {\"x_axis\": 0.06253243237733841, \"y_axis\": 0.4165528416633606, \"name\": \"impact\", \"original\": \"impact\"}, {\"x_axis\": 0.05138927325606346, \"y_axis\": 0.4164378345012665, \"name\": \"addressing\", \"original\": \"addressing\"}, {\"x_axis\": 0.01498413272202015, \"y_axis\": 0.41640275716781616, \"name\": \"longer\", \"original\": \"longer\"}, {\"x_axis\": -0.0049031456001102924, \"y_axis\": 0.41612493991851807, \"name\": \"first\", \"original\": \"first\"}, {\"x_axis\": 0.027746079489588737, \"y_axis\": 0.4161069691181183, \"name\": \"financial\", \"original\": \"financial\"}, {\"x_axis\": -0.05926751345396042, \"y_axis\": 0.4160987436771393, \"name\": \"architecture\", \"original\": \"architecture\"}, {\"x_axis\": 0.08726862072944641, \"y_axis\": 0.4160985052585602, \"name\": \"largely\", \"original\": \"largely\"}, {\"x_axis\": 0.0015320202801376581, \"y_axis\": 0.4160725772380829, \"name\": \"since\", \"original\": \"since\"}, {\"x_axis\": 0.10167111456394196, \"y_axis\": 0.41604819893836975, \"name\": \"few\", \"original\": \"few\"}, {\"x_axis\": 0.025475554168224335, \"y_axis\": 0.4159656763076782, \"name\": \"practice\", \"original\": \"practice\"}, {\"x_axis\": 0.20448143780231476, \"y_axis\": 0.4158264696598053, \"name\": \"initiatives\", \"original\": \"initiatives\"}, {\"x_axis\": 0.11482188105583191, \"y_axis\": 0.41576769948005676, \"name\": \"includes\", \"original\": \"includes\"}, {\"x_axis\": 0.013805373571813107, \"y_axis\": 0.41554445028305054, \"name\": \"practical\", \"original\": \"practical\"}, {\"x_axis\": 0.03388496860861778, \"y_axis\": 0.4155283570289612, \"name\": \"if\", \"original\": \"if\"}, {\"x_axis\": -0.033705152571201324, \"y_axis\": 0.41547465324401855, \"name\": \"affiliated\", \"original\": \"affiliated\"}, {\"x_axis\": 0.038135211914777756, \"y_axis\": 0.41544491052627563, \"name\": \"know\", \"original\": \"know\"}, {\"x_axis\": -0.0745912417769432, \"y_axis\": 0.4154270887374878, \"name\": \"struggle\", \"original\": \"struggle\"}, {\"x_axis\": -0.003929839003831148, \"y_axis\": 0.41538435220718384, \"name\": \"clergy\", \"original\": \"clergy\"}, {\"x_axis\": 0.0414804071187973, \"y_axis\": 0.4153577983379364, \"name\": \"yet\", \"original\": \"yet\"}, {\"x_axis\": 0.10803008079528809, \"y_axis\": 0.4153068959712982, \"name\": \"encouraging\", \"original\": \"encouraging\"}, {\"x_axis\": -0.015576928853988647, \"y_axis\": 0.41527289152145386, \"name\": \"instance\", \"original\": \"instance\"}, {\"x_axis\": 0.10343421995639801, \"y_axis\": 0.4152585566043854, \"name\": \"baptist\", \"original\": \"baptist\"}, {\"x_axis\": 0.12650655210018158, \"y_axis\": 0.41521427035331726, \"name\": \"calls\", \"original\": \"calls\"}, {\"x_axis\": -0.012256067246198654, \"y_axis\": 0.41512763500213623, \"name\": \"experts\", \"original\": \"experts\"}, {\"x_axis\": -0.05748749151825905, \"y_axis\": 0.4151068925857544, \"name\": \"continent\", \"original\": \"continent\"}, {\"x_axis\": 0.051990289241075516, \"y_axis\": 0.41501715779304504, \"name\": \"participating\", \"original\": \"participating\"}, {\"x_axis\": 0.006268512457609177, \"y_axis\": 0.4150015413761139, \"name\": \"joined\", \"original\": \"joined\"}, {\"x_axis\": -0.08874553442001343, \"y_axis\": 0.41467714309692383, \"name\": \"fraternity\", \"original\": \"fraternity\"}, {\"x_axis\": 0.05424358695745468, \"y_axis\": 0.41461893916130066, \"name\": \"actions\", \"original\": \"actions\"}, {\"x_axis\": -0.09346607327461243, \"y_axis\": 0.4145124852657318, \"name\": \"heart\", \"original\": \"heart\"}, {\"x_axis\": 0.0886707752943039, \"y_axis\": 0.41446414589881897, \"name\": \"include\", \"original\": \"include\"}, {\"x_axis\": -0.024809541180729866, \"y_axis\": 0.4144097864627838, \"name\": \"contributions\", \"original\": \"contributions\"}, {\"x_axis\": -0.004075523465871811, \"y_axis\": 0.41420677304267883, \"name\": \"affairs\", \"original\": \"affairs\"}, {\"x_axis\": -0.08222626894712448, \"y_axis\": 0.4140208065509796, \"name\": \"humanity\", \"original\": \"humanity\"}, {\"x_axis\": 0.0917852446436882, \"y_axis\": 0.4140091836452484, \"name\": \"approach\", \"original\": \"approach\"}, {\"x_axis\": 0.04103675112128258, \"y_axis\": 0.4139382839202881, \"name\": \"policies\", \"original\": \"policies\"}, {\"x_axis\": 0.055199503898620605, \"y_axis\": 0.4137533903121948, \"name\": \"methodist\", \"original\": \"methodist\"}, {\"x_axis\": 0.09737108647823334, \"y_axis\": 0.4137057662010193, \"name\": \"expressed\", \"original\": \"expressed\"}, {\"x_axis\": 0.010792438872158527, \"y_axis\": 0.4136798679828644, \"name\": \"branch\", \"original\": \"branch\"}, {\"x_axis\": 0.06390299648046494, \"y_axis\": 0.41366419196128845, \"name\": \"instead\", \"original\": \"instead\"}, {\"x_axis\": 0.07736597210168839, \"y_axis\": 0.41361573338508606, \"name\": \"separate\", \"original\": \"separate\"}, {\"x_axis\": 0.15972767770290375, \"y_axis\": 0.41353172063827515, \"name\": \"south\", \"original\": \"south\"}, {\"x_axis\": -0.06550218909978867, \"y_axis\": 0.4134889841079712, \"name\": \"foundations\", \"original\": \"foundations\"}, {\"x_axis\": -0.07699389010667801, \"y_axis\": 0.41346192359924316, \"name\": \"fellow\", \"original\": \"fellow\"}, {\"x_axis\": 0.012708897702395916, \"y_axis\": 0.413461297750473, \"name\": \"less\", \"original\": \"less\"}, {\"x_axis\": 0.1781838983297348, \"y_axis\": 0.41336995363235474, \"name\": \"build\", \"original\": \"build\"}, {\"x_axis\": 0.038384534418582916, \"y_axis\": 0.41316232085227966, \"name\": \"opposed\", \"original\": \"opposed\"}, {\"x_axis\": -0.06569685786962509, \"y_axis\": 0.4128367602825165, \"name\": \"pioneer\", \"original\": \"pioneer\"}, {\"x_axis\": -0.06413155049085617, \"y_axis\": 0.4127832055091858, \"name\": \"changed\", \"original\": \"changed\"}, {\"x_axis\": 0.06021590530872345, \"y_axis\": 0.4125951826572418, \"name\": \"trying\", \"original\": \"trying\"}, {\"x_axis\": 0.09880279749631882, \"y_axis\": 0.4125404357910156, \"name\": \"diaspora\", \"original\": \"diaspora\"}, {\"x_axis\": -0.18543127179145813, \"y_axis\": 0.4122698903083801, \"name\": \"journal\", \"original\": \"journal\"}, {\"x_axis\": 0.018163111060857773, \"y_axis\": 0.4121703505516052, \"name\": \"see\", \"original\": \"see\"}, {\"x_axis\": 0.10394927859306335, \"y_axis\": 0.4121527075767517, \"name\": \"calling\", \"original\": \"calling\"}, {\"x_axis\": 0.07403147965669632, \"y_axis\": 0.412116140127182, \"name\": \"additionally\", \"original\": \"additionally\"}, {\"x_axis\": 0.08715075254440308, \"y_axis\": 0.4120330810546875, \"name\": \"turn\", \"original\": \"turn\"}, {\"x_axis\": 0.0020805438980460167, \"y_axis\": 0.41203099489212036, \"name\": \"extent\", \"original\": \"extent\"}, {\"x_axis\": 0.12376141548156738, \"y_axis\": 0.41187629103660583, \"name\": \"ethnic\", \"original\": \"ethnic\"}, {\"x_axis\": 0.023159431293606758, \"y_axis\": 0.41172561049461365, \"name\": \"simply\", \"original\": \"simply\"}, {\"x_axis\": 0.026857633143663406, \"y_axis\": 0.4115692973136902, \"name\": \"reason\", \"original\": \"reason\"}, {\"x_axis\": 0.034439146518707275, \"y_axis\": 0.41147011518478394, \"name\": \"fully\", \"original\": \"fully\"}, {\"x_axis\": 0.0615944005548954, \"y_axis\": 0.4114048182964325, \"name\": \"able\", \"original\": \"able\"}, {\"x_axis\": 0.004567119758576155, \"y_axis\": 0.4113434851169586, \"name\": \"information\", \"original\": \"information\"}, {\"x_axis\": 0.06799601763486862, \"y_axis\": 0.41126179695129395, \"name\": \"seek\", \"original\": \"seek\"}, {\"x_axis\": 0.0892922654747963, \"y_axis\": 0.411254346370697, \"name\": \"participants\", \"original\": \"participants\"}, {\"x_axis\": 0.26085156202316284, \"y_axis\": 0.41107457876205444, \"name\": \"county\", \"original\": \"county\"}, {\"x_axis\": 0.07888763397932053, \"y_axis\": 0.41092827916145325, \"name\": \"resources\", \"original\": \"resources\"}, {\"x_axis\": 0.030250607058405876, \"y_axis\": 0.4106653928756714, \"name\": \"alternative\", \"original\": \"alternative\"}, {\"x_axis\": 0.08540481328964233, \"y_axis\": 0.410574734210968, \"name\": \"organize\", \"original\": \"organize\"}, {\"x_axis\": 0.10360725224018097, \"y_axis\": 0.4104275107383728, \"name\": \"lived\", \"original\": \"lived\"}, {\"x_axis\": 0.028589677065610886, \"y_axis\": 0.4103896915912628, \"name\": \"pride\", \"original\": \"pride\"}, {\"x_axis\": -0.08033949136734009, \"y_axis\": 0.4103385806083679, \"name\": \"principles\", \"original\": \"principles\"}, {\"x_axis\": 0.04016358032822609, \"y_axis\": 0.41033005714416504, \"name\": \"giving\", \"original\": \"giving\"}, {\"x_axis\": 0.07263605296611786, \"y_axis\": 0.4103236198425293, \"name\": \"parties\", \"original\": \"parties\"}, {\"x_axis\": 0.002740593394264579, \"y_axis\": 0.41031786799430847, \"name\": \"divided\", \"original\": \"divided\"}, {\"x_axis\": 0.03573376685380936, \"y_axis\": 0.41030630469322205, \"name\": \"commission\", \"original\": \"commission\"}, {\"x_axis\": 0.023671533912420273, \"y_axis\": 0.41021016240119934, \"name\": \"actually\", \"original\": \"actually\"}, {\"x_axis\": 0.054996948689222336, \"y_axis\": 0.41010648012161255, \"name\": \"toward\", \"original\": \"toward\"}, {\"x_axis\": 0.001853311900049448, \"y_axis\": 0.4100734293460846, \"name\": \"forms\", \"original\": \"forms\"}, {\"x_axis\": -0.027409853413701057, \"y_axis\": 0.41005051136016846, \"name\": \"war\", \"original\": \"war\"}, {\"x_axis\": 0.15062902867794037, \"y_axis\": 0.41003647446632385, \"name\": \"centres\", \"original\": \"centres\"}, {\"x_axis\": 0.08837073296308517, \"y_axis\": 0.4098218083381653, \"name\": \"over\", \"original\": \"over\"}, {\"x_axis\": -0.08147887885570526, \"y_axis\": 0.40973788499832153, \"name\": \"hall\", \"original\": \"hall\"}, {\"x_axis\": 0.03298904001712799, \"y_axis\": 0.4096575379371643, \"name\": \"really\", \"original\": \"really\"}, {\"x_axis\": -0.06552699208259583, \"y_axis\": 0.40939176082611084, \"name\": \"appreciation\", \"original\": \"appreciation\"}, {\"x_axis\": 0.07244239747524261, \"y_axis\": 0.40936675667762756, \"name\": \"develop\", \"original\": \"develop\"}, {\"x_axis\": 0.10948280245065689, \"y_axis\": 0.4093628227710724, \"name\": \"officials\", \"original\": \"officials\"}, {\"x_axis\": 0.08956170827150345, \"y_axis\": 0.4093574285507202, \"name\": \"offers\", \"original\": \"offers\"}, {\"x_axis\": 0.042592957615852356, \"y_axis\": 0.40915441513061523, \"name\": \"unlike\", \"original\": \"unlike\"}, {\"x_axis\": -0.1131620928645134, \"y_axis\": 0.4090125262737274, \"name\": \"moral\", \"original\": \"moral\"}, {\"x_axis\": -0.02226622775197029, \"y_axis\": 0.40896302461624146, \"name\": \"relationships\", \"original\": \"relationships\"}, {\"x_axis\": -0.07752451300621033, \"y_axis\": 0.4088459610939026, \"name\": \"act\", \"original\": \"act\"}, {\"x_axis\": 0.08574045449495316, \"y_axis\": 0.4088207185268402, \"name\": \"washington\", \"original\": \"washington\"}, {\"x_axis\": 0.0407622791826725, \"y_axis\": 0.4088168442249298, \"name\": \"persons\", \"original\": \"persons\"}, {\"x_axis\": 0.030289392918348312, \"y_axis\": 0.4087197184562683, \"name\": \"emphasis\", \"original\": \"emphasis\"}, {\"x_axis\": 0.15256422758102417, \"y_axis\": 0.40865427255630493, \"name\": \"farming\", \"original\": \"farming\"}, {\"x_axis\": -0.019862443208694458, \"y_axis\": 0.40861836075782776, \"name\": \"technology\", \"original\": \"technology\"}, {\"x_axis\": 0.1787112057209015, \"y_axis\": 0.4085330665111542, \"name\": \"grassroots\", \"original\": \"grassroots\"}, {\"x_axis\": 0.059366971254348755, \"y_axis\": 0.4084002673625946, \"name\": \"dominated\", \"original\": \"dominated\"}, {\"x_axis\": 0.2814802825450897, \"y_axis\": 0.40835142135620117, \"name\": \"neighborhoods\", \"original\": \"neighborhoods\"}, {\"x_axis\": 0.003928989637643099, \"y_axis\": 0.4083423912525177, \"name\": \"poverty\", \"original\": \"poverty\"}, {\"x_axis\": 0.07539106160402298, \"y_axis\": 0.4082261025905609, \"name\": \"specifically\", \"original\": \"specifically\"}, {\"x_axis\": 0.05221473425626755, \"y_axis\": 0.40822067856788635, \"name\": \"events\", \"original\": \"events\"}, {\"x_axis\": -0.007043082732707262, \"y_axis\": 0.40809687972068787, \"name\": \"charitable\", \"original\": \"charitable\"}, {\"x_axis\": -0.03628797456622124, \"y_axis\": 0.4080688953399658, \"name\": \"crime\", \"original\": \"crime\"}, {\"x_axis\": -0.10783280432224274, \"y_axis\": 0.40802714228630066, \"name\": \"consequently\", \"original\": \"consequently\"}, {\"x_axis\": -0.04996193200349808, \"y_axis\": 0.4079694449901581, \"name\": \"york\", \"original\": \"york\"}, {\"x_axis\": 0.10326993465423584, \"y_axis\": 0.4075918197631836, \"name\": \"non\", \"original\": \"non\"}, {\"x_axis\": 0.13350951671600342, \"y_axis\": 0.4075859785079956, \"name\": \"california\", \"original\": \"california\"}, {\"x_axis\": -0.05610940605401993, \"y_axis\": 0.4073207974433899, \"name\": \"intellectual\", \"original\": \"intellectual\"}, {\"x_axis\": -0.009325859136879444, \"y_axis\": 0.4071485996246338, \"name\": \"terms\", \"original\": \"terms\"}, {\"x_axis\": 0.023699481040239334, \"y_axis\": 0.40710166096687317, \"name\": \"role\", \"original\": \"role\"}, {\"x_axis\": 0.0846104621887207, \"y_axis\": 0.4070385992527008, \"name\": \"maintain\", \"original\": \"maintain\"}, {\"x_axis\": 0.07963212579488754, \"y_axis\": 0.4070155918598175, \"name\": \"another\", \"original\": \"another\"}, {\"x_axis\": -0.012538732029497623, \"y_axis\": 0.40680015087127686, \"name\": \"committee\", \"original\": \"committee\"}, {\"x_axis\": 0.04667115584015846, \"y_axis\": 0.406310111284256, \"name\": \"authority\", \"original\": \"authority\"}, {\"x_axis\": 0.06863249093294144, \"y_axis\": 0.40626534819602966, \"name\": \"noting\", \"original\": \"noting\"}, {\"x_axis\": 0.07654032856225967, \"y_axis\": 0.4062257409095764, \"name\": \"began\", \"original\": \"began\"}, {\"x_axis\": 0.13940079510211945, \"y_axis\": 0.40614691376686096, \"name\": \"immigrant\", \"original\": \"immigrant\"}, {\"x_axis\": 0.14166247844696045, \"y_axis\": 0.4060913026332855, \"name\": \"mission\", \"original\": \"mission\"}, {\"x_axis\": 0.018767667934298515, \"y_axis\": 0.4060811698436737, \"name\": \"might\", \"original\": \"might\"}, {\"x_axis\": 0.03880814090371132, \"y_axis\": 0.40591511130332947, \"name\": \"problems\", \"original\": \"problems\"}, {\"x_axis\": 0.06398507207632065, \"y_axis\": 0.40588948130607605, \"name\": \"following\", \"original\": \"following\"}, {\"x_axis\": 0.07524625957012177, \"y_axis\": 0.4058075547218323, \"name\": \"adopted\", \"original\": \"adopted\"}, {\"x_axis\": 0.010074835270643234, \"y_axis\": 0.4057915508747101, \"name\": \"'s\", \"original\": \"'s\"}, {\"x_axis\": -0.03455798700451851, \"y_axis\": 0.40553757548332214, \"name\": \"relationship\", \"original\": \"relationship\"}, {\"x_axis\": -0.06334327161312103, \"y_axis\": 0.40549516677856445, \"name\": \"friendship\", \"original\": \"friendship\"}, {\"x_axis\": -0.11879564076662064, \"y_axis\": 0.4054931402206421, \"name\": \"elite\", \"original\": \"elite\"}, {\"x_axis\": -0.03453071415424347, \"y_axis\": 0.4054381847381592, \"name\": \"english\", \"original\": \"english\"}, {\"x_axis\": 0.1175864040851593, \"y_axis\": 0.4052504301071167, \"name\": \"wants\", \"original\": \"wants\"}, {\"x_axis\": -0.08806369453668594, \"y_axis\": 0.4052249491214752, \"name\": \"secular\", \"original\": \"secular\"}, {\"x_axis\": 0.1456802934408188, \"y_axis\": 0.4052201509475708, \"name\": \"high\", \"original\": \"high\"}, {\"x_axis\": 0.05941373109817505, \"y_axis\": 0.40518128871917725, \"name\": \"do\", \"original\": \"do\"}, {\"x_axis\": 0.1287892609834671, \"y_axis\": 0.40511342883110046, \"name\": \"planning\", \"original\": \"planning\"}, {\"x_axis\": 0.009748579002916813, \"y_axis\": 0.4050210416316986, \"name\": \"belong\", \"original\": \"belong\"}, {\"x_axis\": 0.10132113099098206, \"y_axis\": 0.4050024151802063, \"name\": \"involvement\", \"original\": \"involvement\"}, {\"x_axis\": 0.0628584772348404, \"y_axis\": 0.40492913126945496, \"name\": \"property\", \"original\": \"property\"}, {\"x_axis\": -0.1271105259656906, \"y_axis\": 0.40492305159568787, \"name\": \"award\", \"original\": \"award\"}, {\"x_axis\": 0.14504504203796387, \"y_axis\": 0.404817134141922, \"name\": \"councils\", \"original\": \"councils\"}, {\"x_axis\": 0.0026952065527439117, \"y_axis\": 0.4046486020088196, \"name\": \"learned\", \"original\": \"learned\"}, {\"x_axis\": -0.10035363584756851, \"y_axis\": 0.4045199155807495, \"name\": \"profound\", \"original\": \"profound\"}, {\"x_axis\": 0.011394293047487736, \"y_axis\": 0.4045027196407318, \"name\": \"not-for-profit\", \"original\": \"not-for-profit\"}, {\"x_axis\": 0.011405200697481632, \"y_axis\": 0.40446364879608154, \"name\": \"academics\", \"original\": \"academics\"}, {\"x_axis\": -0.16403645277023315, \"y_axis\": 0.40444695949554443, \"name\": \"philosophy\", \"original\": \"philosophy\"}, {\"x_axis\": 0.05356341227889061, \"y_axis\": 0.40433159470558167, \"name\": \"wish\", \"original\": \"wish\"}, {\"x_axis\": 0.10975001752376556, \"y_axis\": 0.40415552258491516, \"name\": \"speak\", \"original\": \"speak\"}, {\"x_axis\": -0.060118552297353745, \"y_axis\": 0.4039713144302368, \"name\": \"convention\", \"original\": \"convention\"}, {\"x_axis\": -0.03181393817067146, \"y_axis\": 0.4038218855857849, \"name\": \"why\", \"original\": \"why\"}, {\"x_axis\": -0.037630416452884674, \"y_axis\": 0.4038070738315582, \"name\": \"class\", \"original\": \"class\"}, {\"x_axis\": -0.03662274777889252, \"y_axis\": 0.40375322103500366, \"name\": \"by\", \"original\": \"by\"}, {\"x_axis\": 0.02539580874145031, \"y_axis\": 0.4034472107887268, \"name\": \"successful\", \"original\": \"successful\"}, {\"x_axis\": 0.07883329689502716, \"y_axis\": 0.4033506214618683, \"name\": \"appropriate\", \"original\": \"appropriate\"}, {\"x_axis\": -0.1503642499446869, \"y_axis\": 0.40333089232444763, \"name\": \"british\", \"original\": \"british\"}, {\"x_axis\": 0.0318136103451252, \"y_axis\": 0.4033260643482208, \"name\": \"populace\", \"original\": \"populace\"}, {\"x_axis\": 0.07369466871023178, \"y_axis\": 0.40324825048446655, \"name\": \"peaceful\", \"original\": \"peaceful\"}, {\"x_axis\": 0.14774090051651, \"y_axis\": 0.4032326638698578, \"name\": \"comes\", \"original\": \"comes\"}, {\"x_axis\": -0.059030938893556595, \"y_axis\": 0.40297776460647583, \"name\": \"identity\", \"original\": \"identity\"}, {\"x_axis\": 0.20763170719146729, \"y_axis\": 0.4026653468608856, \"name\": \"towns\", \"original\": \"towns\"}, {\"x_axis\": -0.16820093989372253, \"y_axis\": 0.4026610553264618, \"name\": \"distinguished\", \"original\": \"distinguished\"}, {\"x_axis\": -0.03242899104952812, \"y_axis\": 0.40246573090553284, \"name\": \"caring\", \"original\": \"caring\"}, {\"x_axis\": 0.0305094625800848, \"y_axis\": 0.4023805558681488, \"name\": \"doing\", \"original\": \"doing\"}, {\"x_axis\": 0.13203439116477966, \"y_axis\": 0.4022808372974396, \"name\": \"immigrants\", \"original\": \"immigrants\"}, {\"x_axis\": 0.029225634410977364, \"y_axis\": 0.4021635353565216, \"name\": \"at\", \"original\": \"at\"}, {\"x_axis\": -0.014702744781970978, \"y_axis\": 0.4020906090736389, \"name\": \"europe\", \"original\": \"europe\"}, {\"x_axis\": 0.0735882818698883, \"y_axis\": 0.40204450488090515, \"name\": \"enable\", \"original\": \"enable\"}, {\"x_axis\": -0.08283398300409317, \"y_axis\": 0.40203750133514404, \"name\": \"publication\", \"original\": \"publication\"}, {\"x_axis\": 0.014113755896687508, \"y_axis\": 0.40202847123146057, \"name\": \"graduate\", \"original\": \"graduate\"}, {\"x_axis\": -0.1540396809577942, \"y_axis\": 0.40175768733024597, \"name\": \"presented\", \"original\": \"presented\"}, {\"x_axis\": 0.06650914251804352, \"y_axis\": 0.401701420545578, \"name\": \"classes\", \"original\": \"classes\"}, {\"x_axis\": 0.04142400994896889, \"y_axis\": 0.401631236076355, \"name\": \"entirely\", \"original\": \"entirely\"}, {\"x_axis\": -0.05467898026108742, \"y_axis\": 0.4014909863471985, \"name\": \"foremost\", \"original\": \"foremost\"}, {\"x_axis\": 0.016081970185041428, \"y_axis\": 0.4014734923839569, \"name\": \"referred\", \"original\": \"referred\"}, {\"x_axis\": -0.174032524228096, \"y_axis\": 0.401419997215271, \"name\": \"published\", \"original\": \"published\"}, {\"x_axis\": -0.03362603113055229, \"y_axis\": 0.40132519602775574, \"name\": \"latter\", \"original\": \"latter\"}, {\"x_axis\": -0.07097535580396652, \"y_axis\": 0.4010784924030304, \"name\": \"transforming\", \"original\": \"transforming\"}, {\"x_axis\": -0.00011810755677288398, \"y_axis\": 0.401064932346344, \"name\": \"significance\", \"original\": \"significance\"}, {\"x_axis\": 0.013838918879628181, \"y_axis\": 0.40081411600112915, \"name\": \"teach\", \"original\": \"teach\"}, {\"x_axis\": -0.028479447588324547, \"y_axis\": 0.40067681670188904, \"name\": \"teaches\", \"original\": \"teaches\"}, {\"x_axis\": 0.08003240078687668, \"y_axis\": 0.4006468653678894, \"name\": \"provided\", \"original\": \"provided\"}, {\"x_axis\": -0.07301895320415497, \"y_axis\": 0.4005584418773651, \"name\": \"president\", \"original\": \"president\"}, {\"x_axis\": 0.1300642192363739, \"y_axis\": 0.4003884792327881, \"name\": \"appealed\", \"original\": \"appealed\"}, {\"x_axis\": 0.07549252361059189, \"y_axis\": 0.40031740069389343, \"name\": \"volunteer\", \"original\": \"volunteer\"}, {\"x_axis\": -0.004302973859012127, \"y_axis\": 0.4003058671951294, \"name\": \"look\", \"original\": \"look\"}, {\"x_axis\": 0.13081665337085724, \"y_axis\": 0.4002503752708435, \"name\": \"move\", \"original\": \"move\"}, {\"x_axis\": -0.12775887548923492, \"y_axis\": 0.40015047788619995, \"name\": \"london\", \"original\": \"london\"}, {\"x_axis\": 0.1686650663614273, \"y_axis\": 0.4001442492008209, \"name\": \"funding\", \"original\": \"funding\"}, {\"x_axis\": 0.031112732365727425, \"y_axis\": 0.40010616183280945, \"name\": \"charities\", \"original\": \"charities\"}, {\"x_axis\": 0.04182218015193939, \"y_axis\": 0.40006375312805176, \"name\": \"found\", \"original\": \"found\"}, {\"x_axis\": -0.09987396746873856, \"y_axis\": 0.4000248312950134, \"name\": \"progressive\", \"original\": \"progressive\"}, {\"x_axis\": 0.052705634385347366, \"y_axis\": 0.39997193217277527, \"name\": \"intended\", \"original\": \"intended\"}, {\"x_axis\": -0.018619975075125694, \"y_axis\": 0.39995652437210083, \"name\": \"attitude\", \"original\": \"attitude\"}, {\"x_axis\": -0.04878344014286995, \"y_axis\": 0.3999256193637848, \"name\": \"beliefs\", \"original\": \"beliefs\"}, {\"x_axis\": 0.04411320760846138, \"y_axis\": 0.39982807636260986, \"name\": \"dialogue\", \"original\": \"dialogue\"}, {\"x_axis\": -0.0016671029152348638, \"y_axis\": 0.3998037278652191, \"name\": \"ultimately\", \"original\": \"ultimately\"}, {\"x_axis\": 0.08762985467910767, \"y_axis\": 0.3996706008911133, \"name\": \"houses\", \"original\": \"houses\"}, {\"x_axis\": -0.1415957659482956, \"y_axis\": 0.3993929326534271, \"name\": \"attitudes\", \"original\": \"attitudes\"}, {\"x_axis\": -0.02900453470647335, \"y_axis\": 0.39938870072364807, \"name\": \"body\", \"original\": \"body\"}, {\"x_axis\": -0.021208688616752625, \"y_axis\": 0.39937740564346313, \"name\": \"dealing\", \"original\": \"dealing\"}, {\"x_axis\": 0.09760911017656326, \"y_axis\": 0.3993684947490692, \"name\": \"partnership\", \"original\": \"partnership\"}, {\"x_axis\": 0.01966782473027706, \"y_axis\": 0.39927899837493896, \"name\": \"spiritual\", \"original\": \"spiritual\"}, {\"x_axis\": -0.08811962604522705, \"y_axis\": 0.3992266356945038, \"name\": \"harmony\", \"original\": \"harmony\"}, {\"x_axis\": 0.03384929522871971, \"y_axis\": 0.39918264746665955, \"name\": \"led\", \"original\": \"led\"}, {\"x_axis\": -0.03910531476140022, \"y_axis\": 0.399147629737854, \"name\": \"may\", \"original\": \"may\"}, {\"x_axis\": -0.05581727996468544, \"y_axis\": 0.39907023310661316, \"name\": \"seems\", \"original\": \"seems\"}, {\"x_axis\": -0.25668907165527344, \"y_axis\": 0.39893537759780884, \"name\": \"philosophical\", \"original\": \"philosophical\"}, {\"x_axis\": -0.04396571218967438, \"y_axis\": 0.3988945484161377, \"name\": \"restoration\", \"original\": \"restoration\"}, {\"x_axis\": 0.04026917740702629, \"y_axis\": 0.3988834619522095, \"name\": \"military\", \"original\": \"military\"}, {\"x_axis\": 0.060640089213848114, \"y_axis\": 0.3988695442676544, \"name\": \"going\", \"original\": \"going\"}, {\"x_axis\": 0.0198209211230278, \"y_axis\": 0.39886415004730225, \"name\": \"made\", \"original\": \"made\"}, {\"x_axis\": 0.0010901206405833364, \"y_axis\": 0.39879366755485535, \"name\": \"worked\", \"original\": \"worked\"}, {\"x_axis\": -0.030841723084449768, \"y_axis\": 0.39874163269996643, \"name\": \"governing\", \"original\": \"governing\"}, {\"x_axis\": 0.14734283089637756, \"y_axis\": 0.3986213803291321, \"name\": \"surrounding\", \"original\": \"surrounding\"}, {\"x_axis\": 0.06890765577554703, \"y_axis\": 0.39861059188842773, \"name\": \"saying\", \"original\": \"saying\"}, {\"x_axis\": 0.04398662969470024, \"y_axis\": 0.3985542356967926, \"name\": \"felt\", \"original\": \"felt\"}, {\"x_axis\": 0.005547977983951569, \"y_axis\": 0.398544579744339, \"name\": \"achievement\", \"original\": \"achievement\"}, {\"x_axis\": 0.1333538442850113, \"y_axis\": 0.39797553420066833, \"name\": \"southern\", \"original\": \"southern\"}, {\"x_axis\": 0.11747454851865768, \"y_axis\": 0.3979140520095825, \"name\": \"existing\", \"original\": \"existing\"}, {\"x_axis\": -0.03413974866271019, \"y_axis\": 0.3978792428970337, \"name\": \"transform\", \"original\": \"transform\"}, {\"x_axis\": 0.20014137029647827, \"y_axis\": 0.39771080017089844, \"name\": \"projects\", \"original\": \"projects\"}, {\"x_axis\": -0.061920709908008575, \"y_axis\": 0.39770227670669556, \"name\": \"concept\", \"original\": \"concept\"}, {\"x_axis\": 0.09391140192747116, \"y_axis\": 0.3976961374282837, \"name\": \"point\", \"original\": \"point\"}, {\"x_axis\": -0.010981226339936256, \"y_axis\": 0.3974106013774872, \"name\": \"matters\", \"original\": \"matters\"}, {\"x_axis\": 0.10268199443817139, \"y_axis\": 0.39732038974761963, \"name\": \"raised\", \"original\": \"raised\"}, {\"x_axis\": 0.18740686774253845, \"y_axis\": 0.3972810208797455, \"name\": \"minority\", \"original\": \"minority\"}, {\"x_axis\": -0.0207606740295887, \"y_axis\": 0.39724400639533997, \"name\": \"treatment\", \"original\": \"treatment\"}, {\"x_axis\": 0.05764278769493103, \"y_axis\": 0.3970518410205841, \"name\": \"oriented\", \"original\": \"oriented\"}, {\"x_axis\": -0.028996173292398453, \"y_axis\": 0.39705008268356323, \"name\": \"communication\", \"original\": \"communication\"}, {\"x_axis\": -0.036233361810445786, \"y_axis\": 0.396963506937027, \"name\": \"founders\", \"original\": \"founders\"}, {\"x_axis\": 0.07629938423633575, \"y_axis\": 0.39670324325561523, \"name\": \"audience\", \"original\": \"audience\"}, {\"x_axis\": 0.15058375895023346, \"y_axis\": 0.3964845538139343, \"name\": \"affluent\", \"original\": \"affluent\"}, {\"x_axis\": 0.012304178439080715, \"y_axis\": 0.3964155614376068, \"name\": \"child\", \"original\": \"child\"}, {\"x_axis\": -0.15780016779899597, \"y_axis\": 0.3963795304298401, \"name\": \"scientists\", \"original\": \"scientists\"}, {\"x_axis\": 0.028843780979514122, \"y_axis\": 0.3962583541870117, \"name\": \"invited\", \"original\": \"invited\"}, {\"x_axis\": -0.025645218789577484, \"y_axis\": 0.3960425555706024, \"name\": \"taught\", \"original\": \"taught\"}, {\"x_axis\": 0.20180447399616241, \"y_axis\": 0.39603716135025024, \"name\": \"facility\", \"original\": \"facility\"}, {\"x_axis\": 0.043259140104055405, \"y_axis\": 0.3960323631763458, \"name\": \"remains\", \"original\": \"remains\"}, {\"x_axis\": 0.0881471335887909, \"y_axis\": 0.3959851861000061, \"name\": \"volunteers\", \"original\": \"volunteers\"}, {\"x_axis\": 0.048735227435827255, \"y_axis\": 0.395979106426239, \"name\": \"whom\", \"original\": \"whom\"}, {\"x_axis\": -0.07572952657938004, \"y_axis\": 0.3958640992641449, \"name\": \"defined\", \"original\": \"defined\"}, {\"x_axis\": 0.03534289821982384, \"y_axis\": 0.39570775628089905, \"name\": \"full\", \"original\": \"full\"}, {\"x_axis\": 0.031117722392082214, \"y_axis\": 0.39569053053855896, \"name\": \"notably\", \"original\": \"notably\"}, {\"x_axis\": -0.057987865060567856, \"y_axis\": 0.39545708894729614, \"name\": \"structure\", \"original\": \"structure\"}, {\"x_axis\": 0.06463272869586945, \"y_axis\": 0.3954482972621918, \"name\": \"language\", \"original\": \"language\"}, {\"x_axis\": -0.06934591382741928, \"y_axis\": 0.39538052678108215, \"name\": \"folk\", \"original\": \"folk\"}, {\"x_axis\": -0.08730770647525787, \"y_axis\": 0.39529821276664734, \"name\": \";\", \"original\": \";\"}, {\"x_axis\": -0.03726759925484657, \"y_axis\": 0.39513614773750305, \"name\": \"party\", \"original\": \"party\"}, {\"x_axis\": 0.05795558914542198, \"y_axis\": 0.3951049745082855, \"name\": \"real\", \"original\": \"real\"}, {\"x_axis\": 0.06859888136386871, \"y_axis\": 0.3950828015804291, \"name\": \"sought\", \"original\": \"sought\"}, {\"x_axis\": 0.10106286406517029, \"y_axis\": 0.39506223797798157, \"name\": \"despite\", \"original\": \"despite\"}, {\"x_axis\": 0.08487588912248611, \"y_axis\": 0.3949854373931885, \"name\": \"seeking\", \"original\": \"seeking\"}, {\"x_axis\": 0.026048505678772926, \"y_axis\": 0.3949211537837982, \"name\": \"vibrant\", \"original\": \"vibrant\"}, {\"x_axis\": 0.041260797530412674, \"y_axis\": 0.39491182565689087, \"name\": \"responsibility\", \"original\": \"responsibility\"}, {\"x_axis\": -0.10480748116970062, \"y_axis\": 0.39458784461021423, \"name\": \"researchers\", \"original\": \"researchers\"}, {\"x_axis\": -0.042732272297143936, \"y_axis\": 0.3944815695285797, \"name\": \"religions\", \"original\": \"religions\"}, {\"x_axis\": -0.08809784799814224, \"y_axis\": 0.39446768164634705, \"name\": \"ideas\", \"original\": \"ideas\"}, {\"x_axis\": 0.07055007666349411, \"y_axis\": 0.3943793475627899, \"name\": \"decided\", \"original\": \"decided\"}, {\"x_axis\": -0.0034226062707602978, \"y_axis\": 0.39428097009658813, \"name\": \"past\", \"original\": \"past\"}, {\"x_axis\": 0.011375242844223976, \"y_axis\": 0.39423713088035583, \"name\": \"believed\", \"original\": \"believed\"}, {\"x_axis\": 0.027892502024769783, \"y_axis\": 0.39420217275619507, \"name\": \"certainly\", \"original\": \"certainly\"}, {\"x_axis\": -0.02985808067023754, \"y_axis\": 0.3941313326358795, \"name\": \"opinion\", \"original\": \"opinion\"}, {\"x_axis\": 0.07165709137916565, \"y_axis\": 0.3940815329551697, \"name\": \"crisis\", \"original\": \"crisis\"}, {\"x_axis\": 0.106276735663414, \"y_axis\": 0.39399468898773193, \"name\": \"demonstrate\", \"original\": \"demonstrate\"}, {\"x_axis\": 0.04895959421992302, \"y_axis\": 0.3939858376979828, \"name\": \"whether\", \"original\": \"whether\"}, {\"x_axis\": 0.06605441868305206, \"y_axis\": 0.3934837579727173, \"name\": \"joining\", \"original\": \"joining\"}, {\"x_axis\": 0.08261111378669739, \"y_axis\": 0.39346832036972046, \"name\": \"started\", \"original\": \"started\"}, {\"x_axis\": 0.015161761082708836, \"y_axis\": 0.39345118403434753, \"name\": \"never\", \"original\": \"never\"}, {\"x_axis\": 0.05960524082183838, \"y_axis\": 0.3929632306098938, \"name\": \"foster\", \"original\": \"foster\"}, {\"x_axis\": 0.06799353659152985, \"y_axis\": 0.3929489254951477, \"name\": \"jews\", \"original\": \"jews\"}, {\"x_axis\": -0.08873243629932404, \"y_axis\": 0.3929270803928375, \"name\": \"rooted\", \"original\": \"rooted\"}, {\"x_axis\": -0.11050406098365784, \"y_axis\": 0.392914354801178, \"name\": \"museums\", \"original\": \"museums\"}, {\"x_axis\": -0.05958377569913864, \"y_axis\": 0.3928854465484619, \"name\": \"cross\", \"original\": \"cross\"}, {\"x_axis\": 0.07088638842105865, \"y_axis\": 0.39285898208618164, \"name\": \"committed\", \"original\": \"committed\"}, {\"x_axis\": 0.10477786511182785, \"y_axis\": 0.39280039072036743, \"name\": \"congregation\", \"original\": \"congregation\"}, {\"x_axis\": 0.09398063272237778, \"y_axis\": 0.39278924465179443, \"name\": \"muslims\", \"original\": \"muslims\"}, {\"x_axis\": 0.05709786340594292, \"y_axis\": 0.3927389681339264, \"name\": \"opened\", \"original\": \"opened\"}, {\"x_axis\": -0.1092449501156807, \"y_axis\": 0.392480731010437, \"name\": \"age\", \"original\": \"age\"}, {\"x_axis\": -0.07646490633487701, \"y_axis\": 0.3924526870250702, \"name\": \"theatre\", \"original\": \"theatre\"}, {\"x_axis\": -0.02263970486819744, \"y_axis\": 0.39225485920906067, \"name\": \"things\", \"original\": \"things\"}, {\"x_axis\": 0.08745367079973221, \"y_axis\": 0.3922433853149414, \"name\": \"minorities\", \"original\": \"minorities\"}, {\"x_axis\": 0.029518386349081993, \"y_axis\": 0.39222586154937744, \"name\": \"recognizes\", \"original\": \"recognizes\"}, {\"x_axis\": 0.01659589447081089, \"y_axis\": 0.39214545488357544, \"name\": \"practices\", \"original\": \"practices\"}, {\"x_axis\": -0.06895081698894501, \"y_axis\": 0.39212000370025635, \"name\": \"scholarship\", \"original\": \"scholarship\"}, {\"x_axis\": -0.009984418749809265, \"y_axis\": 0.3919832706451416, \"name\": \"clearly\", \"original\": \"clearly\"}, {\"x_axis\": 0.048321593552827835, \"y_axis\": 0.3918918967247009, \"name\": \"traditionally\", \"original\": \"traditionally\"}, {\"x_axis\": -0.0516478568315506, \"y_axis\": 0.39183396100997925, \"name\": \"risk\", \"original\": \"risk\"}, {\"x_axis\": -0.08118686825037003, \"y_axis\": 0.39180105924606323, \"name\": \"journalism\", \"original\": \"journalism\"}, {\"x_axis\": -0.043236032128334045, \"y_axis\": 0.3917292654514313, \"name\": \"existed\", \"original\": \"existed\"}, {\"x_axis\": -0.005605611018836498, \"y_axis\": 0.3917195200920105, \"name\": \"person\", \"original\": \"person\"}, {\"x_axis\": -0.09848412126302719, \"y_axis\": 0.3916940987110138, \"name\": \"origins\", \"original\": \"origins\"}, {\"x_axis\": 0.06680335104465485, \"y_axis\": 0.3916555643081665, \"name\": \"evangelical\", \"original\": \"evangelical\"}, {\"x_axis\": 0.06319955736398697, \"y_axis\": 0.39160996675491333, \"name\": \"success\", \"original\": \"success\"}, {\"x_axis\": -0.04828331246972084, \"y_axis\": 0.3914503753185272, \"name\": \"colony\", \"original\": \"colony\"}, {\"x_axis\": 0.043425459414720535, \"y_axis\": 0.39136743545532227, \"name\": \"alumni\", \"original\": \"alumni\"}, {\"x_axis\": 0.03952879458665848, \"y_axis\": 0.3910885453224182, \"name\": \"adult\", \"original\": \"adult\"}, {\"x_axis\": -0.01907702349126339, \"y_axis\": 0.39105695486068726, \"name\": \"best\", \"original\": \"best\"}, {\"x_axis\": 0.05316051095724106, \"y_axis\": 0.39094164967536926, \"name\": \"turned\", \"original\": \"turned\"}, {\"x_axis\": 0.0348508320748806, \"y_axis\": 0.3908967673778534, \"name\": \"healthcare\", \"original\": \"healthcare\"}, {\"x_axis\": -0.05557771027088165, \"y_axis\": 0.39087966084480286, \"name\": \"spirituality\", \"original\": \"spirituality\"}, {\"x_axis\": 0.07329653948545456, \"y_axis\": 0.39085808396339417, \"name\": \"keep\", \"original\": \"keep\"}, {\"x_axis\": 0.013468394987285137, \"y_axis\": 0.3908528685569763, \"name\": \"later\", \"original\": \"later\"}, {\"x_axis\": 0.09042585641145706, \"y_axis\": 0.3907631039619446, \"name\": \"talk\", \"original\": \"talk\"}, {\"x_axis\": -0.10210766643285751, \"y_axis\": 0.39070603251457214, \"name\": \"magazine\", \"original\": \"magazine\"}, {\"x_axis\": 0.06897217780351639, \"y_axis\": 0.39070355892181396, \"name\": \"interfaith\", \"original\": \"interfaith\"}, {\"x_axis\": -0.08557870239019394, \"y_axis\": 0.39068037271499634, \"name\": \"equality\", \"original\": \"equality\"}, {\"x_axis\": -0.03986378014087677, \"y_axis\": 0.3905481696128845, \"name\": \"conjunction\", \"original\": \"conjunction\"}, {\"x_axis\": 0.012893748469650745, \"y_axis\": 0.39050722122192383, \"name\": \"essential\", \"original\": \"essential\"}, {\"x_axis\": -0.05769425630569458, \"y_axis\": 0.39043933153152466, \"name\": \"intellectuals\", \"original\": \"intellectuals\"}, {\"x_axis\": 0.054823219776153564, \"y_axis\": 0.3903733491897583, \"name\": \"message\", \"original\": \"message\"}, {\"x_axis\": -0.08284886181354523, \"y_axis\": 0.3903706967830658, \"name\": \"congress\", \"original\": \"congress\"}, {\"x_axis\": -0.09466622024774551, \"y_axis\": 0.3903297185897827, \"name\": \"applied\", \"original\": \"applied\"}, {\"x_axis\": 0.036103326827287674, \"y_axis\": 0.3902699649333954, \"name\": \"us\", \"original\": \"us\"}, {\"x_axis\": 0.01728307455778122, \"y_axis\": 0.3902609348297119, \"name\": \"when\", \"original\": \"when\"}, {\"x_axis\": 0.10076206177473068, \"y_axis\": 0.39026015996932983, \"name\": \"opportunities\", \"original\": \"opportunities\"}, {\"x_axis\": 0.0707724392414093, \"y_axis\": 0.3900010287761688, \"name\": \"worldwide\", \"original\": \"worldwide\"}, {\"x_axis\": -0.0009960009483620524, \"y_axis\": 0.3899318277835846, \"name\": \"perhaps\", \"original\": \"perhaps\"}, {\"x_axis\": -0.09677241742610931, \"y_axis\": 0.38986289501190186, \"name\": \"liberal\", \"original\": \"liberal\"}, {\"x_axis\": 0.0797533318400383, \"y_axis\": 0.38983210921287537, \"name\": \"met\", \"original\": \"met\"}, {\"x_axis\": 0.03446545451879501, \"y_axis\": 0.38978007435798645, \"name\": \"did\", \"original\": \"did\"}, {\"x_axis\": 0.04787600040435791, \"y_axis\": 0.38975855708122253, \"name\": \"threat\", \"original\": \"threat\"}, {\"x_axis\": 0.09268711507320404, \"y_axis\": 0.38973480463027954, \"name\": \"metropolitan\", \"original\": \"metropolitan\"}, {\"x_axis\": -0.08861173689365387, \"y_axis\": 0.3897033929824829, \"name\": \"director\", \"original\": \"director\"}, {\"x_axis\": -0.11024092882871628, \"y_axis\": 0.3896583020687103, \"name\": \"studying\", \"original\": \"studying\"}, {\"x_axis\": -0.02950914576649666, \"y_axis\": 0.3894471526145935, \"name\": \"thinking\", \"original\": \"thinking\"}, {\"x_axis\": 0.06236664578318596, \"y_axis\": 0.3894350528717041, \"name\": \"philanthropic\", \"original\": \"philanthropic\"}, {\"x_axis\": 0.060263704508543015, \"y_axis\": 0.3894001245498657, \"name\": \"land\", \"original\": \"land\"}, {\"x_axis\": 0.044097039848566055, \"y_axis\": 0.38938331604003906, \"name\": \"seen\", \"original\": \"seen\"}, {\"x_axis\": -0.03283264860510826, \"y_axis\": 0.38919609785079956, \"name\": \"chosen\", \"original\": \"chosen\"}, {\"x_axis\": 0.03801016882061958, \"y_axis\": 0.38918134570121765, \"name\": \"n't\", \"original\": \"n't\"}, {\"x_axis\": 0.08183372020721436, \"y_axis\": 0.38905590772628784, \"name\": \"moved\", \"original\": \"moved\"}, {\"x_axis\": 0.0018157752929255366, \"y_axis\": 0.3890235722064972, \"name\": \"under\", \"original\": \"under\"}, {\"x_axis\": -0.141136035323143, \"y_axis\": 0.38888365030288696, \"name\": \"authors\", \"original\": \"authors\"}, {\"x_axis\": 0.07233636826276779, \"y_axis\": 0.3888203203678131, \"name\": \"willing\", \"original\": \"willing\"}, {\"x_axis\": -0.11049497872591019, \"y_axis\": 0.3887866735458374, \"name\": \"reality\", \"original\": \"reality\"}, {\"x_axis\": -0.039796896278858185, \"y_axis\": 0.38868165016174316, \"name\": \"founder\", \"original\": \"founder\"}, {\"x_axis\": 0.14361755549907684, \"y_axis\": 0.38867151737213135, \"name\": \"speaking\", \"original\": \"speaking\"}, {\"x_axis\": 0.0004107068234588951, \"y_axis\": 0.38860875368118286, \"name\": \"proud\", \"original\": \"proud\"}, {\"x_axis\": 0.05469857156276703, \"y_axis\": 0.388475626707077, \"name\": \"regarding\", \"original\": \"regarding\"}, {\"x_axis\": -0.06316649913787842, \"y_axis\": 0.3884265124797821, \"name\": \"general\", \"original\": \"general\"}, {\"x_axis\": 0.048774491995573044, \"y_axis\": 0.38841044902801514, \"name\": \"receive\", \"original\": \"receive\"}, {\"x_axis\": 0.05450882762670517, \"y_axis\": 0.3882371187210083, \"name\": \"ago\", \"original\": \"ago\"}, {\"x_axis\": -0.04831697419285774, \"y_axis\": 0.3882071077823639, \"name\": \"innovation\", \"original\": \"innovation\"}, {\"x_axis\": -0.05504242330789566, \"y_axis\": 0.38820555806159973, \"name\": \"corporation\", \"original\": \"corporation\"}, {\"x_axis\": 0.04572699964046478, \"y_axis\": 0.388161838054657, \"name\": \"gay\", \"original\": \"gay\"}, {\"x_axis\": 0.03476083278656006, \"y_axis\": 0.3880413770675659, \"name\": \"supporting\", \"original\": \"supporting\"}]}}, {\"mode\": \"vega-lite\"});\n",
       "</script>"
      ],
      "text/plain": [
       "alt.LayerChart(...)"
      ]
     },
     "execution_count": 32,
     "metadata": {},
     "output_type": "execute_result"
    }
   ],
   "source": [
    "sim_avg2.plot_interactive(x_axis=diff, y_axis=avg, \n",
    "                          axis_metric=\"cosine_similarity\")"
   ]
  },
  {
   "cell_type": "markdown",
   "metadata": {},
   "source": [
    "In fact, now words like \"neighborhood\" show up strongly on the \"community\" side of the axis."
   ]
  },
  {
   "cell_type": "markdown",
   "metadata": {},
   "source": [
    "When I explored similarity to community, I found that the most similar words to community differed between twitter- and wikipedia-based glove vectors. So, what does a comparison set look like with the twitter vectors? Are there obvious similarities and differences at a glance?"
   ]
  },
  {
   "cell_type": "code",
   "execution_count": null,
   "metadata": {},
   "outputs": [],
   "source": [
    "wv_twitter = api.load(\"glove-twitter-200\")"
   ]
  },
  {
   "cell_type": "code",
   "execution_count": null,
   "metadata": {},
   "outputs": [],
   "source": [
    "emb_twitter = EmbeddingSet.from_names_X(names=wv_twitter.index2word, \n",
    "                                        X=wv_twitter.vectors)"
   ]
  },
  {
   "cell_type": "code",
   "execution_count": null,
   "metadata": {},
   "outputs": [],
   "source": [
    "diff_twitter = emb_twitter['community'] - emb_twitter['society']\n",
    "avg_twitter = emb_twitter[['community', 'society']].average(name=\"avg(community, society)\")"
   ]
  },
  {
   "cell_type": "code",
   "execution_count": null,
   "metadata": {},
   "outputs": [],
   "source": [
    "(emb_twitter\n",
    " .embset_similar(avg_twitter, n=1000)\n",
    " .plot_interactive(x_axis=diff_twitter,\n",
    "                   y_axis=avg_twitter))"
   ]
  },
  {
   "cell_type": "code",
   "execution_count": null,
   "metadata": {},
   "outputs": [],
   "source": [
    "(emb_twitter\n",
    " .embset_similar(avg_twitter, n=1000)\n",
    " .plot_interactive(x_axis=diff_twitter,\n",
    "                   y_axis=emb_twitter['local'] - emb_twitter['global'],\n",
    "                   axis_metric='cosine_similarity'))"
   ]
  },
  {
   "cell_type": "code",
   "execution_count": null,
   "metadata": {},
   "outputs": [],
   "source": [
    "diff_loc_twitter = emb_twitter['local'] - emb_twitter['global']"
   ]
  },
  {
   "cell_type": "code",
   "execution_count": null,
   "metadata": {},
   "outputs": [],
   "source": [
    "diff_twitter.distance(diff_loc_twitter)"
   ]
  },
  {
   "cell_type": "markdown",
   "metadata": {},
   "source": [
    "## Einmal noch, auf Deutsch\n",
    "\n",
    "As noted above, the sociological tradition that discusses community actually originates in German. (The French classical sociologists seem to prefer to talk about *solidarité*... See Aldous 1972 for a contextualization of the historical dialogue between Durkheim and Tönnies.)\n",
    "\n",
    "Because of that origin, I'm curious about what modern German word vectors might show about Gemeinschaft (community) and Gesellschaft (society). Are there any obvious differences from English?\n",
    "\n",
    "I'll choose some pretrained German-language embeddings. The deepset German glove embeddings are 3.5GB, which is larger than the largest spacy model... So I'll download that spacy model instead:\n",
    "\n",
    "```\n",
    "python -m spacy download de_core_news_lg\n",
    "```\n",
    "\n",
    "Note that I can read a little German, but I don't know it particularly well. To make this part of the analysis more serious, actual German speakers might need to weigh in."
   ]
  },
  {
   "cell_type": "code",
   "execution_count": null,
   "metadata": {},
   "outputs": [],
   "source": [
    "from whatlies.language import SpacyLanguage"
   ]
  },
  {
   "cell_type": "code",
   "execution_count": null,
   "metadata": {},
   "outputs": [],
   "source": [
    "emb_wiki_de = SpacyLanguage(\"de_core_news_lg\")"
   ]
  },
  {
   "cell_type": "code",
   "execution_count": null,
   "metadata": {},
   "outputs": [],
   "source": [
    "diff_de = emb_wiki_de['gemeinschaft'] - emb_wiki_de['gesellschaft']"
   ]
  },
  {
   "cell_type": "code",
   "execution_count": null,
   "metadata": {},
   "outputs": [],
   "source": [
    "avg_de = emb_wiki_de[[\"gemeinschaft\", \"gesellschaft\"]].average(name=\"avg(gemeinschaft, gesellschaft)\")"
   ]
  },
  {
   "cell_type": "code",
   "execution_count": null,
   "metadata": {},
   "outputs": [],
   "source": [
    "(emb_wiki_de\n",
    " .embset_similar(avg_de, n=1000)\n",
    " .plot_interactive(x_axis=diff_de,\n",
    "                   y_axis=avg_de)\n",
    " .properties(width=500, height=400))"
   ]
  },
  {
   "cell_type": "code",
   "execution_count": null,
   "metadata": {
    "tags": [
     "output_scroll"
    ]
   },
   "outputs": [],
   "source": [
    "# most similar to gemeinschaft\n",
    "(emb_wiki_de\n",
    " .embset_similar(avg_de, n=1000)\n",
    " .score_similar(diff_de, n=50))"
   ]
  },
  {
   "cell_type": "markdown",
   "metadata": {},
   "source": [
    "I notice words like zusammenarbeiten, einheiten, mitglieder... Some religious words? (evangelischen, kirchlichen, konfessionelle)"
   ]
  },
  {
   "cell_type": "code",
   "execution_count": null,
   "metadata": {},
   "outputs": [],
   "source": [
    "# most similar to gesellschaft, as opposed to gemeinschaft\n",
    "(emb_wiki_de\n",
    " .embset_similar(avg_de, n=1000)\n",
    " .score_similar(-diff_de, n=10))"
   ]
  },
  {
   "cell_type": "markdown",
   "metadata": {},
   "source": [
    "politik and demokratie are \"gesellschaft\" words, not \"gemeinschaft\" words."
   ]
  },
  {
   "cell_type": "code",
   "execution_count": null,
   "metadata": {
    "tags": [
     "output_scroll"
    ]
   },
   "outputs": [],
   "source": [
    "# backing up - what are the words most similar to gemeinschaft overall?\n",
    "emb_wiki_de.score_similar('gemeinschaft', n=50)"
   ]
  },
  {
   "cell_type": "markdown",
   "metadata": {},
   "source": [
    "I notice lots of adjectives? It might be better if words were stemmed... I see e.g. gemeinschaftlich, gemeinschaftliche, gemeinschaftlichen.\n",
    "\n",
    "One key takeaway: apparently, under this model, gesellschaft is *the* most similar word to gemeinschaft.\n",
    "\n",
    "Except for \"nachbarschaftlichen\" I don't see the same local connotations that \"community\" has in English?"
   ]
  },
  {
   "cell_type": "markdown",
   "metadata": {},
   "source": [
    "## TODO: Train a word2vec model on Tönnies\n",
    "\n",
    "What results would I get if I train a model on a classical sociological text?\n",
    "\n",
    "This corpus explorer is pretty sweet: http://voyant-tools.org/?view=corpusset&stopList=stop.de.german.txt&input=http://www.deutschestextarchiv.de/book/download_lemmaxml/toennies_gemeinschaft_1887\n",
    "\n",
    "But how do I get that lemmatized text into python?\n",
    "\n",
    "https://weblicht.sfs.uni-tuebingen.de/weblichtwiki/index.php/The_TCF_Format"
   ]
  }
 ],
 "metadata": {
  "kernelspec": {
   "display_name": "Python 3",
   "language": "python",
   "name": "python3"
  },
  "language_info": {
   "codemirror_mode": {
    "name": "ipython",
    "version": 3
   },
   "file_extension": ".py",
   "mimetype": "text/x-python",
   "name": "python",
   "nbconvert_exporter": "python",
   "pygments_lexer": "ipython3",
   "version": "3.8.6"
  }
 },
 "nbformat": 4,
 "nbformat_minor": 4
}
